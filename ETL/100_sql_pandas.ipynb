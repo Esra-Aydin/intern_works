{
 "cells": [
  {
   "cell_type": "markdown",
   "id": "7fc24871-ae2d-49a8-a223-9c87715cafe8",
   "metadata": {},
   "source": [
    "### 100 ETL sorusu PYTHON çıktıları "
   ]
  },
  {
   "cell_type": "code",
   "execution_count": 1,
   "id": "b4fc639a-90e7-4e19-9cb0-d5c20afc89f2",
   "metadata": {},
   "outputs": [],
   "source": [
    "import sqlite3\n",
    "import pandas as pd\n",
    "\n",
    "conn = sqlite3.connect(\"sqlite-sakila.db\")\n",
    "cursor = conn.cursor()"
   ]
  },
  {
   "cell_type": "markdown",
   "id": "f2206b66-118c-4f2c-b1c0-19c872938db1",
   "metadata": {},
   "source": [
    " ### Veritabanı Tablolarını Pandas DataFrame’e Dönüştüren Fonksiyon"
   ]
  },
  {
   "cell_type": "code",
   "execution_count": 2,
   "id": "f5199531-aa63-4c8d-b251-77524eac57bb",
   "metadata": {},
   "outputs": [],
   "source": [
    "def read_table_as_dataframe(conn, table_name):\n",
    "    \"\"\"\n",
    "    Verilen tabloyu sqlite3 bağlantısı üzerinden Pandas DataFrame olarak döndürür.\n",
    "    read_sql() KULLANILMAZ.\n",
    "    \n",
    "    Parametreler:\n",
    "        table_name (str): Alınacak tablo adı\n",
    "\n",
    "    Döndürür:\n",
    "        pd.DataFrame: Tablo verisi\n",
    "    \"\"\"\n",
    "\n",
    "    #sql sorgusunu çalıştır\n",
    "    query = f\"SELECT * FROM {table_name}\"\n",
    "    cursor.execute(query)\n",
    "\n",
    "    #tüm satırları çek\n",
    "    rows = cursor.fetchall()\n",
    "\n",
    "    #sutün adlarını al\n",
    "    columns = [desc[0] for desc in cursor.description]\n",
    "\n",
    "    #dataframe oluştur\n",
    "    df = pd.DataFrame(rows,columns=columns)\n",
    "\n",
    "    return df"
   ]
  },
  {
   "cell_type": "code",
   "execution_count": 3,
   "id": "36011a16-97d1-4289-8319-5cfa522d240e",
   "metadata": {},
   "outputs": [],
   "source": [
    "category_df = read_table_as_dataframe(conn, \"category\")\n",
    "film_category_df = read_table_as_dataframe(conn, \"film_category\")\n",
    "film_df = read_table_as_dataframe(conn, \"film\")\n",
    "inventory_df = read_table_as_dataframe(conn, \"inventory\")\n",
    "rental_df = read_table_as_dataframe(conn, \"rental\")\n",
    "payment_df = read_table_as_dataframe(conn, \"payment\")\n",
    "actor_df = read_table_as_dataframe(conn, \"actor\")\n",
    "language_df = read_table_as_dataframe(conn, \"language\")\n",
    "film_actor_df = read_table_as_dataframe(conn, \"film_actor\")\n",
    "staff_df = read_table_as_dataframe(conn, \"staff\")\n",
    "store_df = read_table_as_dataframe(conn, \"store\")\n",
    "address_df = read_table_as_dataframe(conn, \"address\")\n",
    "city_df = read_table_as_dataframe(conn, \"city\")\n",
    "country_df = read_table_as_dataframe(conn, \"country\")\n",
    "customer_df = read_table_as_dataframe(conn, \"customer\")"
   ]
  },
  {
   "cell_type": "markdown",
   "id": "42831124-0fa6-4c1b-8746-329c69849e57",
   "metadata": {},
   "source": [
    "### Soru 1: Tüm verileri göster"
   ]
  },
  {
   "cell_type": "code",
   "execution_count": 5,
   "id": "11ee829b-d9c1-44a6-badf-aaf462065bd3",
   "metadata": {},
   "outputs": [
    {
     "name": "stdout",
     "output_type": "stream",
     "text": [
      "       rental_id              rental_date  inventory_id  customer_id  \\\n",
      "0              1  2005-05-24 22:53:30.000           367          130   \n",
      "1              2  2005-05-24 22:54:33.000          1525          459   \n",
      "2              3  2005-05-24 23:03:39.000          1711          408   \n",
      "3              4  2005-05-24 23:04:41.000          2452          333   \n",
      "4              5  2005-05-24 23:05:21.000          2079          222   \n",
      "...          ...                      ...           ...          ...   \n",
      "16039      16045  2005-08-23 22:25:26.000           772           14   \n",
      "16040      16046  2005-08-23 22:26:47.000          4364           74   \n",
      "16041      16047  2005-08-23 22:42:48.000          2088          114   \n",
      "16042      16048  2005-08-23 22:43:07.000          2019          103   \n",
      "16043      16049  2005-08-23 22:50:12.000          2666          393   \n",
      "\n",
      "                   return_date  staff_id          last_update  \n",
      "0      2005-05-26 22:04:30.000         1  2021-03-06 15:53:41  \n",
      "1      2005-05-28 19:40:33.000         1  2021-03-06 15:53:41  \n",
      "2      2005-06-01 22:12:39.000         1  2021-03-06 15:53:41  \n",
      "3      2005-06-03 01:43:41.000         2  2021-03-06 15:53:41  \n",
      "4      2005-06-02 04:33:21.000         1  2021-03-06 15:53:41  \n",
      "...                        ...       ...                  ...  \n",
      "16039  2005-08-25 23:54:26.000         1  2021-03-06 15:55:57  \n",
      "16040  2005-08-27 18:02:47.000         2  2021-03-06 15:55:57  \n",
      "16041  2005-08-25 02:48:48.000         2  2021-03-06 15:55:57  \n",
      "16042  2005-08-31 21:33:07.000         1  2021-03-06 15:55:57  \n",
      "16043  2005-08-30 01:01:12.000         2  2021-03-06 15:55:57  \n",
      "\n",
      "[16044 rows x 7 columns]\n"
     ]
    }
   ],
   "source": [
    "rental_df = read_table_as_dataframe(conn, \"rental\")\n",
    "print(rental_df)"
   ]
  },
  {
   "cell_type": "markdown",
   "id": "accd8935-9939-4eff-a816-a64370c91bb8",
   "metadata": {},
   "source": [
    "### Soru 2: Her filmdeki oyuncuları listele"
   ]
  },
  {
   "cell_type": "code",
   "execution_count": 14,
   "id": "fc7e3777-1c71-4eda-98de-54400130629b",
   "metadata": {},
   "outputs": [
    {
     "name": "stdout",
     "output_type": "stream",
     "text": [
      "                     title first_name last_name\n",
      "0       COLOR PHILADELPHIA   PENELOPE   GUINESS\n",
      "1          LANGUAGE COWBOY   PENELOPE   GUINESS\n",
      "2              ANGELS LIFE   PENELOPE   GUINESS\n",
      "3     ANACONDA CONFESSIONS   PENELOPE   GUINESS\n",
      "4         OKLAHOMA JUMANJI   PENELOPE   GUINESS\n",
      "...                    ...        ...       ...\n",
      "5457    GALAXY SWEETHEARTS      THORA    TEMPLE\n",
      "5458             RANDOM GO      THORA    TEMPLE\n",
      "5459       TROJAN TOMORROW      THORA    TEMPLE\n",
      "5460        WRONG BEHAVIOR      THORA    TEMPLE\n",
      "5461           AFRICAN EGG      THORA    TEMPLE\n",
      "\n",
      "[5462 rows x 3 columns]\n"
     ]
    }
   ],
   "source": [
    "# film + film_actor\n",
    "merged_df1 = pd.merge(film_df,film_actor_df,on=\"film_id\")\n",
    "#+ actor\n",
    "merged_df2 = pd.merge(merged_df1,actor_df,on=\"actor_id\")\n",
    "#istenen sutünlar\n",
    "result_df = merged_df2[[\"title\",\"first_name\",\"last_name\", \"actor_id\"]]\n",
    "# actor_id'ye göre sırala\n",
    "result_df_sorted = result_df.sort_values(by=\"actor_id\").reset_index(drop=True)\n",
    "\n",
    "# actor_id sütunu görünmesin diyorsan:\n",
    "result_df_sorted = result_df_sorted[[\"title\", \"first_name\", \"last_name\"]]\n",
    "\n",
    "print(result_df_sorted)"
   ]
  },
  {
   "cell_type": "markdown",
   "id": "481be055-00ad-4fb0-87cd-87b5dee5bda2",
   "metadata": {},
   "source": [
    "### Soru 3: Her filmde kaç oyuncu oynadı?"
   ]
  },
  {
   "cell_type": "code",
   "execution_count": 16,
   "id": "07074665-ff3f-4c94-8e5d-7e2e07928438",
   "metadata": {},
   "outputs": [
    {
     "name": "stdout",
     "output_type": "stream",
     "text": [
      "                 title  actor_count\n",
      "0     ACADEMY DINOSAUR           10\n",
      "1       ACE GOLDFINGER            4\n",
      "2     ADAPTATION HOLES            5\n",
      "3     AFFAIR PREJUDICE            5\n",
      "4          AFRICAN EGG            5\n",
      "..                 ...          ...\n",
      "992     YOUNG LANGUAGE            5\n",
      "993         YOUTH KICK            5\n",
      "994       ZHIVAGO CORE            6\n",
      "995  ZOOLANDER FICTION            5\n",
      "996          ZORRO ARK            3\n",
      "\n",
      "[997 rows x 2 columns]\n"
     ]
    }
   ],
   "source": [
    "# Önce film + film_actor birleştir\n",
    "merged_df = pd.merge(film_df,film_actor_df,on=\"film_id\")\n",
    "# Sonra actor ile birleştir\n",
    "merged_df = pd.merge(merged_df,actor_df,on=\"actor_id\")\n",
    "# Her film için kaç aktör var?\n",
    "actor_count_df = merged_df.groupby(\"title\").agg(actor_count=(\"actor_id\",\"count\")).reset_index()\n",
    "print(actor_count_df)                                           "
   ]
  },
  {
   "cell_type": "markdown",
   "id": "4179af59-4d95-4a6a-9892-18837f8707fd",
   "metadata": {},
   "source": [
    "### Soru 4: Her oyuncu kaç filmde oynadı?"
   ]
  },
  {
   "cell_type": "code",
   "execution_count": 18,
   "id": "4cbebe16-709f-42ff-b61f-cf63e09e9e81",
   "metadata": {},
   "outputs": [
    {
     "name": "stdout",
     "output_type": "stream",
     "text": [
      "    first_name  last_name  movie_count\n",
      "0         ADAM      GRANT           18\n",
      "1         ADAM     HOPPER           22\n",
      "2           AL    GARLAND           26\n",
      "3         ALAN   DREYFUSS           27\n",
      "4       ALBERT  JOHANSSON           33\n",
      "..         ...        ...          ...\n",
      "194       WILL     WILSON           31\n",
      "195    WILLIAM    HACKMAN           27\n",
      "196      WOODY    HOFFMAN           31\n",
      "197      WOODY      JOLIE           31\n",
      "198       ZERO       CAGE           25\n",
      "\n",
      "[199 rows x 3 columns]\n"
     ]
    }
   ],
   "source": [
    "merged_df = pd.merge(actor_df, film_actor_df, on=\"actor_id\")\n",
    "merged_df = pd.merge(merged_df, film_df, on=\"film_id\")\n",
    "# Her aktör için film sayısını bul\n",
    "movie_count_df = merged_df.groupby([\"first_name\",\"last_name\"]).agg(movie_count=(\"film_id\",\"count\")).reset_index()\n",
    "print(movie_count_df)"
   ]
  },
  {
   "cell_type": "markdown",
   "id": "68967ba8-4c0d-4c71-85f1-a77e9f157ef7",
   "metadata": {},
   "source": [
    "### Soru 5: Envanterde olmayan filmler var mı ve varsa kaç tane?"
   ]
  },
  {
   "cell_type": "code",
   "execution_count": 20,
   "id": "ec74a4bd-9a47-42c4-ad0f-f9afe9967ca6",
   "metadata": {},
   "outputs": [
    {
     "name": "stdout",
     "output_type": "stream",
     "text": [
      "   not_in_inventory\n",
      "0                42\n"
     ]
    }
   ],
   "source": [
    "# inventory'deki film_id'ler\n",
    "inventory_film_ids = inventory_df[\"film_id\"].unique()\n",
    "\n",
    "# Envanterde olmayan filmleri filtrele\n",
    "not_in_inventory_df = film_df[~film_df[\"film_id\"].isin(inventory_film_ids)]\n",
    "# Sayısını al\n",
    "not_in_inventory_count = len(not_in_inventory_df)\n",
    "# Sonucu bir DataFrame olarak göster \n",
    "result_df = pd.DataFrame({\"not_in_inventory\":[not_in_inventory_count]})\n",
    "print(result_df)"
   ]
  },
  {
   "cell_type": "markdown",
   "id": "1c17d199-0087-45c0-ba6d-55b3f20e97d7",
   "metadata": {},
   "source": [
    "### Soru 6: Kiralanabilir olan her filmin kaç kez kiralandığını ve toplam gelirlerini getirin"
   ]
  },
  {
   "cell_type": "code",
   "execution_count": 22,
   "id": "fd386487-da0b-4477-bf04-6612bc44cd6a",
   "metadata": {},
   "outputs": [
    {
     "name": "stdout",
     "output_type": "stream",
     "text": [
      "                 title  rental_count  total_revenue\n",
      "0     ACADEMY DINOSAUR            23          36.77\n",
      "1       ACE GOLDFINGER             7          52.93\n",
      "2     ADAPTATION HOLES            12          37.88\n",
      "3     AFFAIR PREJUDICE            23          91.77\n",
      "4          AFRICAN EGG            12          51.88\n",
      "..                 ...           ...            ...\n",
      "953     YOUNG LANGUAGE             7           6.93\n",
      "954         YOUTH KICK             6          16.94\n",
      "955       ZHIVAGO CORE             9          14.91\n",
      "956  ZOOLANDER FICTION            17          73.83\n",
      "957          ZORRO ARK            31         214.69\n",
      "\n",
      "[958 rows x 3 columns]\n"
     ]
    }
   ],
   "source": [
    "# film + inventory\n",
    "merged1 = pd.merge(film_df, inventory_df, on=\"film_id\")\n",
    "\n",
    "# + rental\n",
    "merged2 = pd.merge(merged1, rental_df, on=\"inventory_id\")\n",
    "\n",
    "# + payment\n",
    "\n",
    "merged3 = pd.merge(merged2, payment_df, on=\"rental_id\", suffixes=('_left', '_right'))\n",
    "#Kullanılmayan sütunları kaldır:merged3 için alternatif yol \n",
    "# merged2 = merged2.drop(columns=[\"last_update\"]) payment_df = payment_df.drop(columns=[\"last_update\"])\n",
    "# merged3 = pd.merge(merged2, payment_df, on=\"rental_id\")\n",
    "result_df = merged3.groupby(\"title\").agg(\n",
    "    rental_count=(\"rental_id\", \"count\"),\n",
    "    total_revenue=(\"amount\", \"sum\")\n",
    ").reset_index()\n",
    "\n",
    "print(result_df)\n"
   ]
  },
  {
   "cell_type": "markdown",
   "id": "4ce6fab5-c1ef-4abb-93b7-c2ffa02bdab1",
   "metadata": {},
   "source": [
    "### Soru 7: Envanterde olmayan filmlerin kira oranlarını getirin"
   ]
  },
  {
   "cell_type": "code",
   "execution_count": 24,
   "id": "ca94a7fd-8ac9-4dba-a235-ced513d119f1",
   "metadata": {},
   "outputs": [
    {
     "name": "stdout",
     "output_type": "stream",
     "text": [
      "                      title  rental_rate\n",
      "13           ALICE FANTASIA         0.99\n",
      "32              APOLLO TEEN         2.99\n",
      "35           ARGONAUTS TOWN         0.99\n",
      "37            ARK RIDGEMONT         0.99\n",
      "40     ARSENIC INDEPENDENCE         0.99\n",
      "86        BOONDOCK BALLROOM         0.99\n",
      "107           BUTCH PANTHER         0.99\n",
      "127           CATCH AMISTAD         0.99\n",
      "143     CHINATOWN GLADIATOR         4.99\n",
      "147          CHOCOLATE DUCK         2.99\n",
      "170    COMMANDMENTS EXPRESS         4.99\n",
      "191        CROSSING DIVORCE         4.99\n",
      "194         CROWDS TELEMARK         4.99\n",
      "197        CRYSTAL BREAKING         2.99\n",
      "216              DAZED PUNK         4.99\n",
      "220  DELIVERANCE MULHOLLAND         0.99\n",
      "317       FIREHOUSE VIETNAM         0.99\n",
      "324           FLOATS GARDEN         2.99\n",
      "331   FRANKENSTEIN STRANGER         0.99\n",
      "358      GLADIATOR WESTWARD         4.99\n",
      "385               GUMP DATE         4.99\n",
      "403           HATE HANDICAP         0.99\n",
      "418             HOCUS FRIDA         2.99\n",
      "494        KENTUCKIAN GIANT         2.99\n",
      "496        KILL BROTHERHOOD         0.99\n",
      "606             MUPPET MILE         4.99\n",
      "641          ORDER BETRAYED         2.99\n",
      "668           PEARL DESTINY         2.99\n",
      "670         PERDITION FARGO         4.99\n",
      "700           PSYCHO SHRUNK         2.99\n",
      "711       RAIDERS ANTITRUST         0.99\n",
      "712           RAINBOW SHOCK         4.99\n",
      "741           ROOF CHAMPION         0.99\n",
      "800           SISTER FREDDY         4.99\n",
      "801             SKY MIRACLE         2.99\n",
      "859        SUICIDES SILENCE         4.99\n",
      "873            TADPOLE PARK         2.99\n",
      "908        TREASURE COMMAND         0.99\n",
      "942       VILLAIN DESPERATE         4.99\n",
      "949            VOLUME HOUSE         4.99\n",
      "953               WAKE JAWS         4.99\n",
      "954            WALLS ARTIST         4.99\n"
     ]
    }
   ],
   "source": [
    "# inventory'de olan film_id'ler\n",
    "inventory_film_ids = inventory_df[\"film_id\"].unique()\n",
    "# inventory'de olmayanları filtrele\n",
    "not_in_inventory_df = film_df[~film_df[\"film_id\"].isin(inventory_film_ids)]\n",
    "# Sadece title ve rental_rate sütunlarını al\n",
    "result_df = not_in_inventory_df[[\"title\",\"rental_rate\"]]\n",
    "print(result_df)"
   ]
  },
  {
   "cell_type": "markdown",
   "id": "d1502ed9-9805-47f4-86e4-8c849cab0a55",
   "metadata": {},
   "source": [
    "### Soru 8: Birden fazla DVD'yi iade etmeyen kaç müşteri var?"
   ]
  },
  {
   "cell_type": "code",
   "execution_count": 26,
   "id": "9623e1f0-1ce7-4654-b7af-0ce52bbc588e",
   "metadata": {},
   "outputs": [
    {
     "name": "stdout",
     "output_type": "stream",
     "text": [
      "    customer_count\n",
      "0                1\n",
      "1                1\n",
      "2                1\n",
      "3                1\n",
      "4                1\n",
      "5                1\n",
      "6                1\n",
      "7                1\n",
      "8                1\n",
      "9                1\n",
      "10               1\n",
      "11               1\n",
      "12               1\n",
      "13               1\n",
      "14               1\n",
      "15               1\n",
      "16               1\n",
      "17               1\n",
      "18               1\n",
      "19               1\n",
      "20               1\n",
      "21               1\n",
      "22               1\n"
     ]
    }
   ],
   "source": [
    "# 1. return_date IS NULL (yani aktif kiralamalar)\n",
    "active_rentals_df = rental_df[rental_df['return_date'].isna()]\n",
    "\n",
    "# 2. customer_id'ye göre rental say\n",
    "rental_counts = (\n",
    "    active_rentals_df\n",
    "    .groupby('customer_id')\n",
    "    .agg(rental_count=('rental_id', 'count'))\n",
    "    .reset_index()\n",
    ")\n",
    "\n",
    "# 3. rental_count > 1 olan müşterileri al\n",
    "multi_active_rentals = rental_counts[rental_counts['rental_count'] > 1]\n",
    "\n",
    "# 4. Her biri için \"1\" değeri olan bir sütun ekle\n",
    "result_df = pd.DataFrame({'customer_count': [1] * len(multi_active_rentals)})\n",
    "\n",
    "print(result_df)"
   ]
  },
  {
   "cell_type": "markdown",
   "id": "34a8b5a7-451d-41db-b9ee-039f9252e8ed",
   "metadata": {},
   "source": [
    "### Soru 9: Her müşteri kaç film kiraladı?"
   ]
  },
  {
   "cell_type": "code",
   "execution_count": 28,
   "id": "ac5b0469-0816-4e1e-9aca-f119d66abbdb",
   "metadata": {},
   "outputs": [
    {
     "name": "stdout",
     "output_type": "stream",
     "text": [
      "    first_name last_name  rental_count\n",
      "0        AARON     SELBY            24\n",
      "1         ADAM     GOOCH            22\n",
      "2       ADRIAN     CLARY            19\n",
      "3        AGNES    BISHOP            23\n",
      "4         ALAN      KAHN            26\n",
      "..         ...       ...           ...\n",
      "594     WILLIE   MARKHAM            25\n",
      "595      WILMA  RICHARDS            20\n",
      "596    YOLANDA    WEAVER            27\n",
      "597     YVONNE   WATKINS            21\n",
      "598    ZACHARY      HITE            31\n",
      "\n",
      "[599 rows x 3 columns]\n"
     ]
    }
   ],
   "source": [
    "# 1. customer_id ile birleştir\n",
    "merged_df = pd.merge(customer_df,rental_df,on=\"customer_id\")\n",
    "# 2. first_name + last_name’e göre grupla ve say\n",
    "result_df = merged_df.groupby([\"first_name\",\"last_name\"]).agg(rental_count=(\"rental_id\",\"count\")).reset_index()\n",
    "print(result_df)                              "
   ]
  },
  {
   "cell_type": "markdown",
   "id": "49cf351e-0cff-4654-abb8-5498a34f8dae",
   "metadata": {},
   "source": [
    "### Soru 10: Türlerine göre en çok kiralanan filmler ve bunlara ne kadar ödendi?"
   ]
  },
  {
   "cell_type": "code",
   "execution_count": 30,
   "id": "53269ba7-a360-4807-bfc0-076861f836e7",
   "metadata": {},
   "outputs": [
    {
     "name": "stdout",
     "output_type": "stream",
     "text": [
      "            name               title  rental_count  total_paid\n",
      "909       Travel  BUCKET BROTHERHOOD            34      180.66\n",
      "536      Foreign    ROCKETEER MOTHER            33      116.67\n",
      "93     Animation      JUGGLER HARDLY            32       96.68\n",
      "568        Games      FORWARD TEMPLE            32      128.68\n",
      "572        Games      GRIT CLOCKWORK            32      110.68\n",
      "..           ...                 ...           ...         ...\n",
      "872       Sports  MUSSOLINI SPOILERS             5       15.95\n",
      "951       Travel      TRAFFIC HOBBIT             5       24.95\n",
      "315  Documentary      HARDLY ROBBERS             4       15.96\n",
      "525      Foreign         MIXED DOORS             4       15.96\n",
      "656       Horror         TRAIN BUNCH             4       24.96\n",
      "\n",
      "[958 rows x 4 columns]\n"
     ]
    }
   ],
   "source": [
    "# category + film_category\n",
    "merged1 = pd.merge(category_df,film_category_df,on=\"category_id\")\n",
    "\n",
    "# + film\n",
    "merged2 = pd.merge(merged1, film_df, on=\"film_id\")\n",
    "\n",
    "# + inventory\n",
    "merged3 = pd.merge(merged2, inventory_df, on=\"film_id\", suffixes=('_film', '_inventory'))\n",
    "\n",
    "# + rental\n",
    "merged4 = pd.merge(merged3, rental_df, on=\"inventory_id\")\n",
    "\n",
    "# + payment\n",
    "merged5 = pd.merge(merged4, payment_df, on=\"rental_id\",suffixes=('_rental', '_payment'))\n",
    "\n",
    "# Mevcut kodunla aynı şekilde gruplama ve toplama\n",
    "result_df = merged5.groupby([\"name\", \"title\"]).agg(\n",
    "    rental_count=(\"rental_id\", \"count\"),\n",
    "    total_paid=(\"amount\", \"sum\")\n",
    ").reset_index()\n",
    "\n",
    "# Index'e göre sıralamak için geçici bir sütun ekleyelim\n",
    "result_df['index_col'] = result_df.index\n",
    "\n",
    "# rental_count'a göre artan, eşitse index'e göre artan sırala\n",
    "result_df = result_df.sort_values(by=[\"rental_count\", \"index_col\"], ascending=[False, True])\n",
    "\n",
    "# Geçici sütunu kaldır\n",
    "result_df = result_df.drop(columns=[\"index_col\"])\n",
    "\n",
    "print(result_df)"
   ]
  },
  {
   "cell_type": "markdown",
   "id": "132dc9a4-bb4c-4363-9935-fcc8c0b0bb4d",
   "metadata": {},
   "source": [
    "### Soru 11: Tür ve Tarihe Göre Kiralama Sayısı ve Gelir"
   ]
  },
  {
   "cell_type": "code",
   "execution_count": 19,
   "id": "2842b150-3745-427b-b228-4aa72c900292",
   "metadata": {},
   "outputs": [
    {
     "name": "stdout",
     "output_type": "stream",
     "text": [
      "           genre rental_date  rental_count  SUM(payment.amount)\n",
      "1742   Animation  2005-05-24             1                 4.99\n",
      "2617    Children  2005-05-24             1                 3.99\n",
      "2715    Children  2005-05-24             1                 6.99\n",
      "4727      Comedy  2005-05-24             1                 0.99\n",
      "7336      Family  2005-05-24             1                 2.99\n",
      "...          ...         ...           ...                  ...\n",
      "15643     Travel  2006-02-14             1                 0.99\n",
      "15774     Travel  2006-02-14             1                 4.99\n",
      "15829     Travel  2006-02-14             1                 4.99\n",
      "15943     Travel  2006-02-14             1                 0.00\n",
      "15974     Travel  2006-02-14             1                 2.99\n",
      "\n",
      "[16044 rows x 4 columns]\n"
     ]
    }
   ],
   "source": [
    "# 1. category + film_category\n",
    "df = pd.merge(category_df, film_category_df, on=\"category_id\")\n",
    "\n",
    "# 2. + film\n",
    "df = pd.merge(df, film_df, on=\"film_id\")\n",
    "\n",
    "# 3. + inventory\n",
    "df = pd.merge(df, inventory_df, on=\"film_id\", suffixes=('_film', '_inventory'))\n",
    "\n",
    "# 4. + rental\n",
    "df = pd.merge(df, rental_df, on=\"inventory_id\")\n",
    "\n",
    "# 5. + payment\n",
    "df = pd.merge(df, payment_df, on=\"rental_id\", suffixes=('_left', '_right'))\n",
    "\n",
    "# rental_date sadece tarih olarak al\n",
    "df[\"rental_date\"] = pd.to_datetime(df[\"rental_date\"]).dt.date\n",
    "\n",
    "# Gerekli sütunları seç\n",
    "df = df[[\"name\", \"rental_date\", \"rental_id\", \"amount\"]]\n",
    "\n",
    "# Kolon isimlerini SQL çıktısına göre düzelt\n",
    "df = df.rename(columns={\n",
    "    \"name\": \"genre\",\n",
    "    \"amount\": \"SUM(payment.amount)\"\n",
    "})\n",
    "\n",
    "# rental_id başına 1 olduğu için yeni sütun ekle\n",
    "df[\"rental_count\"] = 1\n",
    "\n",
    "# Sıralama\n",
    "df = df.sort_values(by=[\"rental_date\", \"genre\"])\n",
    "df = df[[\"genre\", \"rental_date\", \"rental_count\", \"SUM(payment.amount)\"]]\n",
    "print(df)"
   ]
  },
  {
   "cell_type": "markdown",
   "id": "86bf1c55-544f-447e-9800-2b77b1f03f62",
   "metadata": {},
   "source": [
    "### Soru 12: Kiralanabilir Filmler İçin Türlerine Göre Her Filmin Kaç Kez Kiralandığı"
   ]
  },
  {
   "cell_type": "code",
   "execution_count": 38,
   "id": "c6be79dd-2506-487f-9533-e0e9cd9917d1",
   "metadata": {},
   "outputs": [
    {
     "name": "stdout",
     "output_type": "stream",
     "text": [
      "      genre                title  rental_count\n",
      "0    Action         AMADEUS HOLY            21\n",
      "1    Action      AMERICAN CIRCUS            22\n",
      "2    Action   ANTITRUST TOMATOES            10\n",
      "3    Action  BAREFOOT MANCHURIAN            18\n",
      "4    Action         BERETS AGENT            21\n",
      "..      ...                  ...           ...\n",
      "953  Travel  VALENTINE VANISHING            12\n",
      "954  Travel          WINDOW SIDE            12\n",
      "955  Travel        WOLVES DESIRE            21\n",
      "956  Travel        WORKER TARZAN            15\n",
      "957  Travel  WORKING MICROCOSMOS            25\n",
      "\n",
      "[958 rows x 3 columns]\n"
     ]
    }
   ],
   "source": [
    "# category + film_category\n",
    "merged1 = pd.merge(category_df, film_category_df, on=\"category_id\")\n",
    "\n",
    "# + film\n",
    "merged2 = pd.merge(merged1, film_df, on=\"film_id\")\n",
    "\n",
    "# + inventory\n",
    "merged3 = pd.merge(merged2, inventory_df, on=\"film_id\", suffixes=('_film', '_inventory'))\n",
    "\n",
    "# + rental\n",
    "merged4 = pd.merge(merged3, rental_df, on=\"inventory_id\")\n",
    "\n",
    "result_df = merged4.groupby([\"name\", \"title\"]).agg(\n",
    "    rental_count=(\"rental_id\", \"count\")\n",
    ").reset_index()\n",
    "result_df = result_df.rename(columns={\"name\": \"genre\"})\n",
    "print(result_df)                                                   "
   ]
  },
  {
   "cell_type": "markdown",
   "id": "80f3c109-ac37-4390-b1fd-e047cb8fa371",
   "metadata": {},
   "source": [
    "### Soru 13: En çok rafta bekleyen filmler?"
   ]
  },
  {
   "cell_type": "code",
   "execution_count": 17,
   "id": "064ccdab-62a3-4b18-9efb-17f92f79f00d",
   "metadata": {},
   "outputs": [
    {
     "name": "stdout",
     "output_type": "stream",
     "text": [
      "                    title  days_on_shelf\n",
      "16       ACADEMY DINOSAUR           7249\n",
      "24         ACE GOLDFINGER           7072\n",
      "61       AFFAIR PREJUDICE           7072\n",
      "76            AFRICAN EGG           7072\n",
      "224           ALI FOREVER           7072\n",
      "...                   ...            ...\n",
      "15615         WILD APOLLO           7072\n",
      "15658         WINDOW SIDE           7072\n",
      "15745        WOMEN DORADO           7072\n",
      "15887  WORLD LEATHERNECKS           7072\n",
      "15995        ZHIVAGO CORE           7072\n",
      "\n",
      "[183 rows x 2 columns]\n"
     ]
    }
   ],
   "source": [
    "\n",
    "film_df = read_table_as_dataframe(conn, \"film\")[[\"film_id\", \"title\"]]\n",
    "inventory_df = read_table_as_dataframe(conn, \"inventory\")[[\"inventory_id\", \"film_id\"]]\n",
    "rental_df = read_table_as_dataframe(conn, \"rental\")[[\"rental_id\", \"inventory_id\", \"rental_date\", \"return_date\"]]\n",
    "\n",
    "merged1 = pd.merge(film_df, inventory_df, on=\"film_id\")\n",
    "merged2 = pd.merge(merged1, rental_df, on=\"inventory_id\")\n",
    "\n",
    "unreturned = merged2[merged2[\"return_date\"].isna()].copy()\n",
    "\n",
    "unreturned[\"days_on_shelf\"] = (pd.to_datetime(\"now\") - pd.to_datetime(unreturned[\"rental_date\"])).dt.days\n",
    "\n",
    "result_df = unreturned[[\"title\", \"days_on_shelf\"]].sort_values(by=\"days_on_shelf\", ascending=False)\n",
    "\n",
    "print(result_df)"
   ]
  },
  {
   "cell_type": "markdown",
   "id": "97344611-91f2-445a-bb25-016b759db2df",
   "metadata": {},
   "source": [
    "### Soru 14: Geç, Erken ve Zamanında İade Edilen Kiralanmış Filmler(*)"
   ]
  },
  {
   "cell_type": "code",
   "execution_count": 54,
   "id": "633c8b66-036d-47cd-8c6a-0614c9183ee0",
   "metadata": {},
   "outputs": [
    {
     "name": "stdout",
     "output_type": "stream",
     "text": [
      "   late_returns  early_returns  on_time_returns\n",
      "0          8121           7738                2\n"
     ]
    }
   ],
   "source": [
    "# 1. rental + inventory join\n",
    "merged1 = pd.merge(rental_df, inventory_df, on='inventory_id')\n",
    "\n",
    "# 2. + film join (film_id üzerinden)\n",
    "merged2 = pd.merge(merged1, film_df[['film_id', 'rental_duration']], on='film_id')\n",
    "\n",
    "# 3. tarih sütunlarını datetime'a çevir\n",
    "merged2['rental_date'] = pd.to_datetime(merged2['rental_date'])\n",
    "merged2['return_date'] = pd.to_datetime(merged2['return_date'])\n",
    "merged2 = merged2[merged2['return_date'].notna()]  # NULL return_date çıkar\n",
    "\n",
    "# 4. due_date hesapla\n",
    "merged2['due_date'] = merged2['rental_date'] + pd.to_timedelta(merged2['rental_duration'], unit='d')\n",
    "\n",
    "# 5. koşullar için boolean maskeler\n",
    "late_mask = merged2['return_date'] > merged2['due_date']\n",
    "early_mask = merged2['return_date'] < merged2['due_date']\n",
    "on_time_mask = merged2['return_date'] == merged2['due_date']\n",
    "\n",
    "# 6. toplamları hesapla\n",
    "late_returns = late_mask.sum()\n",
    "early_returns = early_mask.sum()\n",
    "on_time_returns = on_time_mask.sum()\n",
    "\n",
    "# 7. sonuçları DataFrame olarak yazdır\n",
    "result_df = pd.DataFrame({\n",
    "    'late_returns': [late_returns],\n",
    "    'early_returns': [early_returns],\n",
    "    'on_time_returns': [on_time_returns]\n",
    "})\n",
    "\n",
    "print(result_df)"
   ]
  },
  {
   "cell_type": "markdown",
   "id": "62bfc7e8-3a94-4a34-a5b6-f4be752f9e06",
   "metadata": {},
   "source": [
    "### Soru 15: Hangi müşteri en çok DVD kiralamış?"
   ]
  },
  {
   "cell_type": "code",
   "execution_count": 56,
   "id": "82528d06-b432-4346-bd04-ba61726424c0",
   "metadata": {},
   "outputs": [
    {
     "name": "stdout",
     "output_type": "stream",
     "text": [
      "    first_name last_name  rental_count\n",
      "175    ELEANOR      HUNT            46\n"
     ]
    }
   ],
   "source": [
    "merged_df = pd.merge(customer_df, rental_df, on=\"customer_id\", how=\"inner\")\n",
    "\n",
    "# İsim ve soyadına göre gruplama yap, rental_id say\n",
    "rental_counts = merged_df.groupby(['first_name', 'last_name'])['rental_id'].count().reset_index()\n",
    "\n",
    "# rental_count adını ver\n",
    "rental_counts = rental_counts.rename(columns={'rental_id': 'rental_count'})\n",
    "\n",
    "# rental_count'a göre azalan sıralama yap\n",
    "rental_counts = rental_counts.sort_values(by='rental_count', ascending=False)\n",
    "\n",
    "# En çok kira yapan müşteri (ilk satır)\n",
    "top_customer = rental_counts.head(1)\n",
    "\n",
    "print(top_customer)"
   ]
  },
  {
   "cell_type": "markdown",
   "id": "b4626685-eac7-47ff-8567-4409d72ce020",
   "metadata": {},
   "source": [
    "### Soru 16: En popüler film kategorisi nedir?"
   ]
  },
  {
   "cell_type": "code",
   "execution_count": 58,
   "id": "5a26543b-33ea-4680-ad86-0b210418e181",
   "metadata": {},
   "outputs": [
    {
     "name": "stdout",
     "output_type": "stream",
     "text": [
      "           name  rental_count\n",
      "14       Sports          1179\n",
      "1     Animation          1166\n",
      "0        Action          1112\n",
      "13       Sci-Fi          1101\n",
      "7        Family          1096\n",
      "6         Drama          1060\n",
      "5   Documentary          1050\n",
      "8       Foreign          1033\n",
      "9         Games           969\n",
      "2      Children           945\n",
      "4        Comedy           941\n",
      "12          New           940\n",
      "3      Classics           939\n",
      "10       Horror           846\n",
      "15       Travel           837\n",
      "11        Music           830\n"
     ]
    }
   ],
   "source": [
    "# 1. category + film_category\n",
    "merged1 = pd.merge(category_df, film_category_df, on=\"category_id\")\n",
    "\n",
    "# 2. + film\n",
    "merged2 = pd.merge(merged1, film_df, on=\"film_id\")\n",
    "\n",
    "# 3. + inventory\n",
    "merged3 = pd.merge(merged2, inventory_df, on=\"film_id\", suffixes=('_film', '_inventory'))\n",
    "\n",
    "# 4. + rental\n",
    "merged4 = pd.merge(merged3, rental_df, on=\"inventory_id\")\n",
    "\n",
    "# 5. category name'e göre gruplama ve rental_id sayımı\n",
    "result_df = merged4.groupby(\"name\")[\"rental_id\"].count().reset_index(name=\"rental_count\")\n",
    "\n",
    "# 6. rental_count'a göre azalan sıralama\n",
    "result_df = result_df.sort_values(by=\"rental_count\", ascending=False)\n",
    "\n",
    "# 7. sonucu yazdır\n",
    "print(result_df)"
   ]
  },
  {
   "cell_type": "markdown",
   "id": "52c99d53-ab93-4cb4-b090-5d8429d87a9a",
   "metadata": {},
   "source": [
    "### Soru 17: Hangi çalışan en çok kiralama işlemi gerçekleştirmiş?\n"
   ]
  },
  {
   "cell_type": "code",
   "execution_count": 60,
   "id": "69263fe5-5c50-45d2-903b-4eba68778315",
   "metadata": {},
   "outputs": [
    {
     "name": "stdout",
     "output_type": "stream",
     "text": [
      "  first_name last_name  rental_count\n",
      "1       Mike   Hillyer          8040\n"
     ]
    }
   ],
   "source": [
    "# staff ve rental tablolarını birleştir\n",
    "merged_df = pd.merge(staff_df, rental_df, on=\"staff_id\")\n",
    "\n",
    "# ad ve soyada göre gruplama, rental_id sayımı\n",
    "rental_counts = merged_df.groupby([\"first_name\", \"last_name\"])[\"rental_id\"].count().reset_index(name=\"rental_count\")\n",
    "\n",
    "# rental_count'a göre azalan sırala\n",
    "rental_counts = rental_counts.sort_values(by=\"rental_count\", ascending=False)\n",
    "\n",
    "# en çok kiralama yapan personeli al\n",
    "top_staff = rental_counts.head(1)\n",
    "\n",
    "print(top_staff)"
   ]
  },
  {
   "cell_type": "markdown",
   "id": "c694ecc5-47f7-49d5-b1a3-ecc00a0b5e8a",
   "metadata": {},
   "source": [
    "### Soru 18: En çok geliri hangi film getirmiş?"
   ]
  },
  {
   "cell_type": "code",
   "execution_count": 62,
   "id": "ed2b5956-e86e-4311-a7c7-694afea26b1a",
   "metadata": {},
   "outputs": [
    {
     "name": "stdout",
     "output_type": "stream",
     "text": [
      "                title  total_revenue\n",
      "841  TELEGRAPH VOYAGE         231.73\n"
     ]
    }
   ],
   "source": [
    "merged1 = pd.merge(film_df, inventory_df, on=\"film_id\")\n",
    "merged2 = pd.merge(merged1, rental_df, on=\"inventory_id\")\n",
    "merged3 = pd.merge(merged2, payment_df, on=\"rental_id\",suffixes=(\"_inv\",\"_rent\"))\n",
    "\n",
    "revenue_df = merged3.groupby(\"title\")[\"amount\"].sum().reset_index(name=\"total_revenue\")\n",
    "revenue_df = revenue_df.sort_values(by=\"total_revenue\", ascending=False)\n",
    "top_film = revenue_df.head(1)\n",
    "print(top_film)"
   ]
  },
  {
   "cell_type": "markdown",
   "id": "256a1a83-e4ff-4399-ad18-c3aaeff336d0",
   "metadata": {},
   "source": [
    "### Soru 19: Her müşteri için toplam harcama miktarını bulun"
   ]
  },
  {
   "cell_type": "code",
   "execution_count": 64,
   "id": "aa50c8f3-97c5-453c-9897-ea680628cfaa",
   "metadata": {},
   "outputs": [
    {
     "name": "stdout",
     "output_type": "stream",
     "text": [
      "    first_name last_name  total_spent\n",
      "0        AARON     SELBY       110.76\n",
      "1         ADAM     GOOCH       101.78\n",
      "2       ADRIAN     CLARY        74.81\n",
      "3        AGNES    BISHOP        98.77\n",
      "4         ALAN      KAHN       124.74\n",
      "..         ...       ...          ...\n",
      "594     WILLIE   MARKHAM       101.75\n",
      "595      WILMA  RICHARDS        91.80\n",
      "596    YOLANDA    WEAVER       110.73\n",
      "597     YVONNE   WATKINS        92.79\n",
      "598    ZACHARY      HITE       146.69\n",
      "\n",
      "[599 rows x 3 columns]\n"
     ]
    }
   ],
   "source": [
    "# 1. customer + rental\n",
    "merged1 = pd.merge(customer_df, rental_df, on=\"customer_id\")\n",
    "\n",
    "# 2. + payment\n",
    "merged2 = pd.merge(merged1, payment_df, on=\"rental_id\")\n",
    "\n",
    "# 3. first_name ve last_name'e göre gruplama, payment.amount toplamı\n",
    "result_df = merged2.groupby([\"first_name\", \"last_name\"])[\"amount\"].sum().reset_index(name=\"total_spent\")\n",
    "\n",
    "# 4. Sonucu yazdır\n",
    "print(result_df)"
   ]
  },
  {
   "cell_type": "markdown",
   "id": "bb5fffab-3650-4e68-93f7-7c6ea78825e4",
   "metadata": {},
   "source": [
    "### Soru 20: Her kategorideki toplam kiralama sayısını ve gelirleri bulun"
   ]
  },
  {
   "cell_type": "code",
   "execution_count": 66,
   "id": "a764449a-5525-4475-9bc9-419501c91c48",
   "metadata": {},
   "outputs": [
    {
     "name": "stdout",
     "output_type": "stream",
     "text": [
      "           name  rental_count  total_revenue\n",
      "0        Action          1112        4375.85\n",
      "1     Animation          1166        4656.30\n",
      "2      Children           945        3655.55\n",
      "3      Classics           939        3639.59\n",
      "4        Comedy           941        4383.58\n",
      "5   Documentary          1050        4217.52\n",
      "6         Drama          1060        4587.39\n",
      "7        Family          1096        4226.07\n",
      "8       Foreign          1033        4270.67\n",
      "9         Games           969        4281.33\n",
      "10       Horror           846        3722.54\n",
      "11        Music           830        3417.72\n",
      "12          New           940        4351.62\n",
      "13       Sci-Fi          1101        4756.98\n",
      "14       Sports          1179        5314.21\n",
      "15       Travel           837        3549.64\n"
     ]
    }
   ],
   "source": [
    "# 1. category + film_category\n",
    "merged1 = pd.merge(category_df, film_category_df, on=\"category_id\")\n",
    "\n",
    "# 2. + film\n",
    "merged2 = pd.merge(merged1, film_df, on=\"film_id\")\n",
    "\n",
    "# 3. + inventory\n",
    "merged3 = pd.merge(merged2, inventory_df, on=\"film_id\",suffixes=(\"_film\",\"_inv\"))\n",
    "\n",
    "# 4. + rental\n",
    "merged4 = pd.merge(merged3, rental_df, on=\"inventory_id\")\n",
    "\n",
    "# 5. + payment\n",
    "merged5 = pd.merge(merged4, payment_df, on=\"rental_id\",suffixes=(\"_rent\",\"_payment\"))\n",
    "\n",
    "# 6. Aggregation: kategoriye göre kiralama sayısı ve toplam gelir\n",
    "result_df = merged5.groupby(\"name\").agg(\n",
    "    rental_count=(\"rental_id\", \"count\"),\n",
    "    total_revenue=(\"amount\", \"sum\")\n",
    ").reset_index()\n",
    "\n",
    "# 7. Sonucu yazdır\n",
    "print(result_df)"
   ]
  },
  {
   "cell_type": "markdown",
   "id": "3fa9cf9c-8f6d-4586-9b0a-66b08618df50",
   "metadata": {},
   "source": [
    "### Soru 21: En uzun süre kirada kalmış filmleri bulun (*)"
   ]
  },
  {
   "cell_type": "code",
   "execution_count": 75,
   "id": "adf3c052-62b3-49a5-b0c9-5572e0546fdc",
   "metadata": {},
   "outputs": [
    {
     "name": "stdout",
     "output_type": "stream",
     "text": [
      "                  title  max_rental_duration\n",
      "393     HIGHBALL POTTER             9.249306\n",
      "400  HOLOCAUST HIGHBALL             9.249306\n",
      "160   CONEHEADS SMOOCHY             9.248611\n",
      "868        TRAMP OTHERS             9.248611\n",
      "535          MASK PEACH             9.248611\n",
      "625          PANIC CLUB             9.248611\n",
      "602   NOTORIOUS REUNION             9.247222\n",
      "38         ATTACKS HATE             9.247222\n",
      "461        JERSEY SASSY             9.246528\n",
      "863         TRACY CIDER             9.246528\n"
     ]
    }
   ],
   "source": [
    "# 1. film + inventory\n",
    "merged1 = pd.merge(film_df, inventory_df, on=\"film_id\")\n",
    "\n",
    "# 2. + rental\n",
    "merged2 = pd.merge(merged1, rental_df, on=\"inventory_id\")\n",
    "\n",
    "# 3. return_date boş olmayanları filtrele\n",
    "merged2 = merged2[merged2[\"return_date\"].notnull()]\n",
    "\n",
    "# 4. tarih sütunlarını datetime formatına çevir\n",
    "merged2[\"rental_date\"] = pd.to_datetime(merged2[\"rental_date\"])\n",
    "merged2[\"return_date\"] = pd.to_datetime(merged2[\"return_date\"])\n",
    "\n",
    "# 5. kiralama süresi (gün - float)\n",
    "merged2[\"rental_duration\"] = (merged2[\"return_date\"] - merged2[\"rental_date\"]).dt.total_seconds() / 86400\n",
    "\n",
    "# 6. film başına maksimum kiralama süresi\n",
    "result_df = merged2.groupby(\"title\")[\"rental_duration\"].max().reset_index(name=\"max_rental_duration\")\n",
    "\n",
    "# 7. en uzun süreli ilk 10 film\n",
    "result_df = result_df.sort_values(by=\"max_rental_duration\", ascending=False).head(10)\n",
    "\n",
    "# 8. sonucu yazdır\n",
    "print(result_df)"
   ]
  },
  {
   "cell_type": "markdown",
   "id": "18a64c16-055d-4387-8b4d-617cf97fcdac",
   "metadata": {},
   "source": [
    "### Soru 22: En az kiralanan 5 film hangileridir?"
   ]
  },
  {
   "cell_type": "code",
   "execution_count": 82,
   "id": "211f419a-3905-46b1-a9b6-aa0491a7a0d6",
   "metadata": {},
   "outputs": [
    {
     "name": "stdout",
     "output_type": "stream",
     "text": [
      "                title  rental_count\n",
      "378    HARDLY ROBBERS             4\n",
      "558       MIXED DOORS             4\n",
      "866       TRAIN BUNCH             4\n",
      "87   BRAVEHEART HUMAN             5\n",
      "100       BUNCH MINDS             5\n"
     ]
    }
   ],
   "source": [
    "\n",
    "# 1. film + inventory\n",
    "merged1 = pd.merge(film_df, inventory_df, on=\"film_id\")\n",
    "\n",
    "# 2. + rental\n",
    "merged2 = pd.merge(merged1, rental_df, on=\"inventory_id\")\n",
    "\n",
    "# 3. film başına rental sayısı\n",
    "result_df = merged2.groupby(\"title\")[\"rental_id\"].count().reset_index(name=\"rental_count\")\n",
    "\n",
    "# 4. kiralama sayısına göre artan sıralama ve ilk 5 film\n",
    "result_df = result_df.sort_values(by=\"rental_count\", ascending=True)\n",
    "min_film = result_df.head(20).copy()\n",
    "\n",
    "# index'i sütun olarak ekle\n",
    "min_film['index_col'] = min_film.index\n",
    "\n",
    "# total_rentals ve index_col'a göre sıralama yap\n",
    "min_film_sorted = min_film.sort_values(by=['rental_count', 'index_col'], ascending=[True, True])\n",
    "\n",
    "# index_col sütununu kaldır\n",
    "min_film_sorted = min_film_sorted.drop(columns=['index_col'])\n",
    "first_five = min_film_sorted.iloc[0:5]\n",
    "print(first_five)"
   ]
  },
  {
   "cell_type": "markdown",
   "id": "a760787c-b96c-4d31-a068-91e1d7044124",
   "metadata": {},
   "source": [
    "### Soru 23: En fazla kiralanan 5 film hangileridir?"
   ]
  },
  {
   "cell_type": "code",
   "execution_count": 27,
   "id": "61d3a332-240a-45d5-a7d7-69e78724becd",
   "metadata": {},
   "outputs": [
    {
     "name": "stdout",
     "output_type": "stream",
     "text": [
      "                   title  rental_count\n",
      "96    BUCKET BROTHERHOOD            34\n",
      "705     ROCKETEER MOTHER            33\n",
      "733        SCALAWAG DUCK            32\n",
      "697  RIDGEMONT SUBMARINE            32\n",
      "361       GRIT CLOCKWORK            32\n"
     ]
    }
   ],
   "source": [
    "# Tabloları oku\n",
    "film_df = read_table_as_dataframe(conn, \"film\")[[\"film_id\", \"title\"]]\n",
    "inventory_df = read_table_as_dataframe(conn, \"inventory\")[[\"inventory_id\", \"film_id\"]]\n",
    "rental_df = read_table_as_dataframe(conn, \"rental\")[[\"rental_id\", \"inventory_id\"]]\n",
    "\n",
    "# Join işlemleri\n",
    "merged = rental_df.merge(inventory_df, on=\"inventory_id\").merge(film_df, on=\"film_id\")\n",
    "\n",
    "# Film başlığına göre kiralama sayısını hesapla\n",
    "rental_counts = merged.groupby(\"title\")[\"rental_id\"].count().reset_index(name=\"rental_count\")\n",
    "\n",
    "# Kiralama sayısına göre azalan sırala ve en fazla 5 filmi seç\n",
    "top5 = rental_counts.sort_values(by=\"rental_count\", ascending=False).head(5)\n",
    "\n",
    "print(top5)"
   ]
  },
  {
   "cell_type": "markdown",
   "id": "69782651-0b72-4a93-9c00-6c93369d22d4",
   "metadata": {},
   "source": [
    "### Soru 24: En fazla kazanç sağlayan 5 müşteriyi bulun"
   ]
  },
  {
   "cell_type": "code",
   "execution_count": 84,
   "id": "48371fd4-552e-41df-9589-fe673bb9b579",
   "metadata": {},
   "outputs": [
    {
     "name": "stdout",
     "output_type": "stream",
     "text": [
      "    first_name last_name  total_spent\n",
      "318       KARL      SEAL       221.55\n",
      "175    ELEANOR      HUNT       216.54\n",
      "105      CLARA      SHAW       195.58\n",
      "389     MARION    SNYDER       194.61\n",
      "474     RHONDA   KENNEDY       194.61\n"
     ]
    }
   ],
   "source": [
    "merged = pd.merge(customer_df, rental_df, on=\"customer_id\")\n",
    "merged = pd.merge(merged, payment_df, on=\"rental_id\")\n",
    "\n",
    "result_df = (\n",
    "    merged.groupby([\"first_name\", \"last_name\"])\n",
    "          .agg(total_spent=(\"amount\", \"sum\"))\n",
    "          .reset_index()\n",
    "          .sort_values(by=\"total_spent\", ascending=False)\n",
    "          .head(5)\n",
    ")\n",
    "print(result_df)"
   ]
  },
  {
   "cell_type": "markdown",
   "id": "d8099406-6b06-426e-b774-0de8437762e9",
   "metadata": {},
   "source": [
    "### Soru 25: Her filmin ortalama kiralanma süresini bulun"
   ]
  },
  {
   "cell_type": "code",
   "execution_count": 86,
   "id": "fe2664e2-c486-4a2b-af77-1c9327fdf945",
   "metadata": {},
   "outputs": [
    {
     "name": "stdout",
     "output_type": "stream",
     "text": [
      "                 title  avg_rental_duration\n",
      "0     ACADEMY DINOSAUR             4.997128\n",
      "1       ACE GOLDFINGER             5.642708\n",
      "2     ADAPTATION HOLES             3.465625\n",
      "3     AFFAIR PREJUDICE             4.758333\n",
      "4          AFRICAN EGG             7.106629\n",
      "..                 ...                  ...\n",
      "953     YOUNG LANGUAGE             4.624405\n",
      "954         YOUTH KICK             5.562963\n",
      "955       ZHIVAGO CORE             5.950087\n",
      "956  ZOOLANDER FICTION             5.542647\n",
      "957          ZORRO ARK             4.539180\n",
      "\n",
      "[958 rows x 2 columns]\n"
     ]
    }
   ],
   "source": [
    "# 1. film + inventory\n",
    "merged1 = pd.merge(film_df, inventory_df, on=\"film_id\")\n",
    "\n",
    "# 2. + rental\n",
    "merged2 = pd.merge(merged1, rental_df, on=\"inventory_id\")\n",
    "\n",
    "# 3. return_date boş olmayanları filtrele\n",
    "merged2 = merged2[merged2[\"return_date\"].notnull()]\n",
    "\n",
    "# 4. tarih sütunlarını datetime'a çevir\n",
    "merged2[\"rental_date\"] = pd.to_datetime(merged2[\"rental_date\"])\n",
    "merged2[\"return_date\"] = pd.to_datetime(merged2[\"return_date\"])\n",
    "\n",
    "# 5. kiralama süresini gün cinsinden float olarak hesapla\n",
    "merged2[\"rental_duration\"] = (merged2[\"return_date\"] - merged2[\"rental_date\"]).dt.total_seconds() / 86400\n",
    "\n",
    "# 6. film başına ortalama kiralama süresi\n",
    "result_df = merged2.groupby(\"title\")[\"rental_duration\"].mean().reset_index(name=\"avg_rental_duration\")\n",
    "\n",
    "# 7. sonucu yazdır\n",
    "print(result_df)\n"
   ]
  },
  {
   "cell_type": "markdown",
   "id": "12fe7754-e170-431b-aaeb-6516dfe0372f",
   "metadata": {},
   "source": [
    "### Soru 26: Her türde en popüler filmi bulun"
   ]
  },
  {
   "cell_type": "code",
   "execution_count": 88,
   "id": "3fa1e4af-f600-44a3-850a-a1f7b6be0cc2",
   "metadata": {},
   "outputs": [
    {
     "name": "stdout",
     "output_type": "stream",
     "text": [
      "      genre               title  rental_count\n",
      "909  Travel  BUCKET BROTHERHOOD            34\n"
     ]
    }
   ],
   "source": [
    "# 1. category + film_category\n",
    "merged1 = pd.merge(category_df, film_category_df, on=\"category_id\")\n",
    "\n",
    "# 2. + film\n",
    "merged2 = pd.merge(merged1, film_df, on=\"film_id\")\n",
    "\n",
    "# 3. + inventory\n",
    "merged3 = pd.merge(merged2, inventory_df, on=\"film_id\",suffixes=(\"_film\",\"-inv\"))\n",
    "\n",
    "# 4. + rental\n",
    "merged4 = pd.merge(merged3, rental_df, on=\"inventory_id\")\n",
    "\n",
    "# 5. \n",
    "result_df = merged4.groupby([\"name\", \"title\"]).agg(\n",
    "    rental_count=pd.NamedAgg(column=\"rental_id\", aggfunc=\"count\")\n",
    ").reset_index()\n",
    "\n",
    "# 6. rental_count'a göre azalan sıralama ve ilk satırı al\n",
    "result_df = result_df.sort_values(by=\"rental_count\", ascending=False).head(1)\n",
    "\n",
    "# 7. kolon ismini alias gibi değiştirme\n",
    "result_df = result_df.rename(columns={\"name\": \"genre\"})\n",
    "\n",
    "print(result_df)\n"
   ]
  },
  {
   "cell_type": "markdown",
   "id": "725e296a-ad19-4b9b-81f9-daf9fc2b0514",
   "metadata": {},
   "source": [
    "### Soru 27: Her türde en fazla gelir sağlayan filmi bulun"
   ]
  },
  {
   "cell_type": "code",
   "execution_count": 90,
   "id": "9603d330-9ece-4442-9187-0d8f18655334",
   "metadata": {},
   "outputs": [
    {
     "name": "stdout",
     "output_type": "stream",
     "text": [
      "    name             title  total_revenue\n",
      "0  Music  TELEGRAPH VOYAGE         231.73\n"
     ]
    }
   ],
   "source": [
    "# 1. category + film_category\n",
    "merged1 = pd.merge(category_df, film_category_df, on=\"category_id\")\n",
    "\n",
    "# 2. + film\n",
    "merged2 = pd.merge(merged1, film_df, on=\"film_id\",suffixes=(\"_cate\",\"_film\"))\n",
    "\n",
    "# 3. + inventory\n",
    "merged3 = pd.merge(merged2, inventory_df, on=\"film_id\",suffixes=(\"_merg\",\"_inv\"))\n",
    "\n",
    "# 4. + rental\n",
    "merged4 = pd.merge(merged3, rental_df, on=\"inventory_id\",suffixes=(\"_merg3\",\"_rent\"))\n",
    "\n",
    "# 5. + payment\n",
    "merged5 = pd.merge(merged4, payment_df, on=\"rental_id\",suffixes=(\"_merg4\",\"_payment\"))\n",
    "\n",
    "result_df = (\n",
    "    merged5.groupby([\"name\", \"title\"])\n",
    "    .agg(total_revenue=(\"amount\", \"sum\"))\n",
    "    .sort_values(by=\"total_revenue\", ascending=False)\n",
    "    .head(1)\n",
    "    .reset_index()\n",
    ")\n",
    "print(result_df)"
   ]
  },
  {
   "cell_type": "markdown",
   "id": "981ee371-5687-4fc6-9eaa-0f0283c2446a",
   "metadata": {},
   "source": [
    "### Soru 28: En çok DVD iade etmeyen müşteriyi bulun"
   ]
  },
  {
   "cell_type": "code",
   "execution_count": 92,
   "id": "ab7fda81-8e70-485c-9cc9-ce30a811b38e",
   "metadata": {},
   "outputs": [
    {
     "name": "stdout",
     "output_type": "stream",
     "text": [
      "    first_name last_name  unreturned_count\n",
      "144      TAMMY   SANDERS                 3\n"
     ]
    }
   ],
   "source": [
    "# 1. customer + rental\n",
    "merged = pd.merge(customer_df, rental_df, on=\"customer_id\")\n",
    "\n",
    "# 2. Henüz iade edilmemişleri filtrele\n",
    "not_returned = merged[merged[\"return_date\"].isnull()]\n",
    "\n",
    "# 3. Ad ve soyada göre grupla, iade edilmeyen kiralamaları say\n",
    "grouped = (\n",
    "    not_returned.groupby([\"first_name\", \"last_name\"])\n",
    "    .agg(unreturned_count=pd.NamedAgg(column=\"rental_id\", aggfunc=\"count\"))\n",
    "    .reset_index()\n",
    ")\n",
    "\n",
    "# 4. En çok iade edilmeyen kiralamaya sahip müşteriyi al\n",
    "result_df = grouped.sort_values(by=\"unreturned_count\", ascending=False).head(1)\n",
    "\n",
    "# 5. Sonucu yazdır\n",
    "print(result_df)\n"
   ]
  },
  {
   "cell_type": "markdown",
   "id": "ffac6792-fc4f-42f4-b3c4-b4a22091bc84",
   "metadata": {},
   "source": [
    "### Soru 29: En fazla kiralama yapan 5 çalışanı bulun"
   ]
  },
  {
   "cell_type": "code",
   "execution_count": 94,
   "id": "4e717929-a92e-4b2b-8753-d4570255b889",
   "metadata": {},
   "outputs": [
    {
     "name": "stdout",
     "output_type": "stream",
     "text": [
      "  first_name last_name  rental_count\n",
      "1       Mike   Hillyer          8040\n",
      "0        Jon  Stephens          8004\n"
     ]
    }
   ],
   "source": [
    "# 1. staff + rental\n",
    "merged = pd.merge(staff_df, rental_df, on=\"staff_id\")\n",
    "\n",
    "# 2. Ad ve soyad bilgisine göre grupla, rental_id'yi say\n",
    "result_df = (\n",
    "    merged.groupby([\"first_name\", \"last_name\"])\n",
    "    .agg(rental_count=pd.NamedAgg(column=\"rental_id\", aggfunc=\"count\"))\n",
    "    .reset_index()\n",
    "    .sort_values(by=\"rental_count\", ascending=False)\n",
    "    .head(5)\n",
    ")\n",
    "\n",
    "print(result_df)"
   ]
  },
  {
   "cell_type": "markdown",
   "id": "e5327a2a-d078-4429-9d82-624c521d952e",
   "metadata": {},
   "source": [
    "### Soru 30: En fazla kiralama yapan 5 müşteri hangi şubeden kiralama yapmış?(*)"
   ]
  },
  {
   "cell_type": "code",
   "execution_count": 111,
   "id": "3cffab9c-30a9-4123-9b95-43e7efe2dea4",
   "metadata": {},
   "outputs": [
    {
     "name": "stdout",
     "output_type": "stream",
     "text": [
      "     store_id_x first_name last_name  rental_count\n",
      "95            1    ELEANOR      HUNT            46\n",
      "477           2       KARL      SEAL            45\n",
      "54            1      CLARA      SHAW            42\n",
      "204           1     MARCIA      DEAN            42\n",
      "572           2      TAMMY   SANDERS            41\n"
     ]
    }
   ],
   "source": [
    "# 1. customer + rental\n",
    "merged1 = pd.merge(customer_df, rental_df, on=\"customer_id\")\n",
    "\n",
    "# 2. + inventory (store_id burada var)\n",
    "merged2 = pd.merge(merged1, inventory_df[['inventory_id', 'store_id']], on=\"inventory_id\")\n",
    "\n",
    "# 3. store_id, first_name, last_name bazında gruplama ve kiralama sayısı\n",
    "result_df = (\n",
    "    merged2\n",
    "    .groupby(['store_id_x', 'first_name', 'last_name'])\n",
    "    .agg(rental_count=('rental_id', 'count'))\n",
    "    .reset_index()\n",
    ")\n",
    "\n",
    "# 4. rental_count'e göre azalan sırala ve ilk 5 kişiyi seç\n",
    "result_df = result_df.sort_values(by='rental_count', ascending=False).head(5)\n",
    "\n",
    "print(result_df)\n"
   ]
  },
  {
   "cell_type": "markdown",
   "id": "abfd0df5-4ac3-4650-931b-1423126b02e4",
   "metadata": {},
   "source": [
    "### Soru 31: Her türde en az kiralanan filmi bulun"
   ]
  },
  {
   "cell_type": "code",
   "execution_count": 113,
   "id": "b25aa353-efd3-4838-9b6b-06988b91a78d",
   "metadata": {},
   "outputs": [
    {
     "name": "stdout",
     "output_type": "stream",
     "text": [
      "           genre           title  rental_count\n",
      "315  Documentary  HARDLY ROBBERS             4\n"
     ]
    }
   ],
   "source": [
    "# 1. category + film_category\n",
    "merged1 = pd.merge(category_df, film_category_df, on=\"category_id\")\n",
    "\n",
    "# 2. + film\n",
    "merged2 = pd.merge(merged1, film_df, on=\"film_id\")\n",
    "\n",
    "# 3. + inventory\n",
    "merged3 = pd.merge(merged2, inventory_df, on=\"film_id\", suffixes=(\"_left\", \"_right\"))\n",
    "\n",
    "# 4. + rental\n",
    "merged4 = pd.merge(merged3, rental_df, on=\"inventory_id\")\n",
    "\n",
    "# 5. Grup ve kiralama sayısı\n",
    "result_df = (\n",
    "    merged4.groupby([\"name\", \"title\"])\n",
    "    .agg(rental_count=pd.NamedAgg(column=\"rental_id\", aggfunc=\"count\"))\n",
    "    .reset_index()\n",
    ")\n",
    "\n",
    "# 6. Çoklu sıralama: önce kiralama sayısı (azdan çoğa)\n",
    "result_df = result_df.sort_values(by=[\"rental_count\", \"name\", \"title\"], ascending=[True, True, True]).head(1)\n",
    "\n",
    "# 7. Kolon adını düzelt\n",
    "result_df = result_df.rename(columns={\"name\": \"genre\"})\n",
    "\n",
    "# 8. Sonucu yazdır\n",
    "print(result_df)"
   ]
  },
  {
   "cell_type": "markdown",
   "id": "1f25a636-fa0f-4e14-8dfd-fa6da4174d80",
   "metadata": {},
   "source": [
    "### Soru 32: En çok kiralama yapan 5 müşteri hangi şehirde?"
   ]
  },
  {
   "cell_type": "code",
   "execution_count": 115,
   "id": "76d1fceb-9548-4028-a87f-83d43aa7a3c4",
   "metadata": {},
   "outputs": [
    {
     "name": "stdout",
     "output_type": "stream",
     "text": [
      "            city first_name last_name  rental_count\n",
      "433  Saint-Denis    ELEANOR      HUNT            46\n",
      "96    Cape Coral       KARL      SEAL            45\n",
      "333    Molodetno      CLARA      SHAW            42\n",
      "518        Tanza     MARCIA      DEAN            42\n",
      "103     Changhwa      TAMMY   SANDERS            41\n"
     ]
    }
   ],
   "source": [
    "# 1. customer + address (customer_df, address_df)\n",
    "merged1 = pd.merge(customer_df, address_df, on=\"address_id\")\n",
    "\n",
    "# 2. + city (address_df, city_df)\n",
    "merged2 = pd.merge(merged1, city_df, on=\"city_id\")\n",
    "\n",
    "# 3. + rental (customer ve rental ilişkisi)\n",
    "merged3 = pd.merge(merged2, rental_df, on=\"customer_id\",suffixes=(\"_left\",\"_right\"))\n",
    "\n",
    "# 4. Gruplama ve kiralama sayısı\n",
    "result_df = (\n",
    "    merged3.groupby([\"city\", \"first_name\", \"last_name\"])\n",
    "    .agg(rental_count=pd.NamedAgg(column=\"rental_id\", aggfunc=\"count\"))\n",
    "    .reset_index()\n",
    "    .sort_values(by=\"rental_count\", ascending=False)\n",
    "    .head(5)\n",
    ")\n",
    "\n",
    "print(result_df)"
   ]
  },
  {
   "cell_type": "markdown",
   "id": "7951c60f-3226-4c65-9b0a-7915f6532d13",
   "metadata": {},
   "source": [
    "### Soru 33: En çok kazanç sağlayan 5 müşteriyi hangi şehirde bulun?"
   ]
  },
  {
   "cell_type": "code",
   "execution_count": 117,
   "id": "7b065054-4ac4-4dea-950b-2124a80bae25",
   "metadata": {},
   "outputs": [
    {
     "name": "stdout",
     "output_type": "stream",
     "text": [
      "                    city first_name last_name  total_spent\n",
      "96            Cape Coral       KARL      SEAL       221.55\n",
      "433          Saint-Denis    ELEANOR      HUNT       216.54\n",
      "333            Molodetno      CLARA      SHAW       195.58\n",
      "23             Apeldoorn     RHONDA   KENNEDY       194.61\n",
      "447  Santa Brbara dOeste     MARION    SNYDER       194.61\n"
     ]
    }
   ],
   "source": [
    "# 1. customer + address\n",
    "merged1 = pd.merge(customer_df, address_df, on=\"address_id\")\n",
    "\n",
    "# 2. + city\n",
    "merged2 = pd.merge(merged1, city_df, on=\"city_id\")\n",
    "\n",
    "# 3. + rental\n",
    "merged3 = pd.merge(merged2, rental_df, on=\"customer_id\",suffixes=(\"_left\",\"_right\"))\n",
    "\n",
    "# 4. + payment\n",
    "merged4 = pd.merge(merged3, payment_df, on=\"rental_id\")\n",
    "\n",
    "# 5. Grup ve toplam ödeme\n",
    "result_df = (\n",
    "    merged4.groupby([\"city\", \"first_name\", \"last_name\"])\n",
    "    .agg(total_spent=pd.NamedAgg(column=\"amount\", aggfunc=\"sum\"))\n",
    "    .reset_index()\n",
    "    .sort_values(by=\"total_spent\", ascending=False)\n",
    "    .head(5)\n",
    ")\n",
    "\n",
    "print(result_df)"
   ]
  },
  {
   "cell_type": "markdown",
   "id": "33c7a58d-5fd7-4430-99c9-8225a6ca8b84",
   "metadata": {},
   "source": [
    "### Soru 34: En çok kiralanan 5 filmi hangi şehirde bulun?"
   ]
  },
  {
   "cell_type": "code",
   "execution_count": 120,
   "id": "4357cd89-db72-4dec-936c-c7ad566e099c",
   "metadata": {},
   "outputs": [
    {
     "name": "stdout",
     "output_type": "stream",
     "text": [
      "                        city              title  rental_count\n",
      "7828                    Lima    DISCIPLE MOTHER             3\n",
      "7308                  Kurgan   DETECTIVE VISION             3\n",
      "12735               Sorocaba    CADDYSHACK JEDI             3\n",
      "14182                Trshavn  FLATLINERS KILLER             3\n",
      "3793   Donostia-San Sebastin    REIGN GENTLEMEN             2\n"
     ]
    }
   ],
   "source": [
    "# 1. city + address (city_id)\n",
    "merged1 = pd.merge(city_df, address_df, on=\"city_id\")\n",
    "\n",
    "# 2. + customer (address_id)\n",
    "merged2 = pd.merge(merged1, customer_df, on=\"address_id\")\n",
    "\n",
    "# 3. + rental (customer_id)\n",
    "merged3 = pd.merge(merged2, rental_df, on=\"customer_id\")\n",
    "\n",
    "# 4. + inventory (inventory_id)\n",
    "merged4 = pd.merge(merged3, inventory_df[['inventory_id', 'film_id']], on=\"inventory_id\")\n",
    "\n",
    "# 5. + film (film_id)\n",
    "merged5 = pd.merge(merged4, film_df[['film_id', 'title']], on=\"film_id\")\n",
    "\n",
    "# 6. Grup ve sayım\n",
    "result_df = (\n",
    "    merged5\n",
    "    .groupby([\"city\", \"title\"])\n",
    "    .agg(rental_count=(\"rental_id\", \"count\"))\n",
    "    .reset_index()\n",
    ")\n",
    "\n",
    "# 7. Kiralama sayısına göre azalan sırala ve ilk 5'i al\n",
    "result_df = result_df.sort_values(by=\"rental_count\", ascending=False).head(5)\n",
    "print(result_df)"
   ]
  },
  {
   "cell_type": "markdown",
   "id": "71ffe2a6-c36b-4fa7-9fef-92bef298ecc2",
   "metadata": {},
   "source": [
    "### Soru 35: En az kiralanan 5 filmi hangi şehirde bulun? (*)"
   ]
  },
  {
   "cell_type": "code",
   "execution_count": 24,
   "id": "3bf1f9d9-23b2-48aa-ab90-e66233c1307e",
   "metadata": {},
   "outputs": [
    {
     "name": "stdout",
     "output_type": "stream",
     "text": [
      "                     city                title  rental_count\n",
      "15826     s-Hertogenbosch         WORST BANGER             1\n",
      "17     A Corua (La Corua)      JEEPERS WEDDING             1\n",
      "18     A Corua (La Corua)  LADYBUGS ARMAGEDDON             1\n",
      "19     A Corua (La Corua)     LOVERBOY ATTACKS             1\n",
      "20     A Corua (La Corua)       MASSACRE USUAL             1\n"
     ]
    }
   ],
   "source": [
    "# Tüm gerekli tabloları birleştirelim\n",
    "merged_df = pd.merge(city_df, address_df, on='city_id')\n",
    "merged_df = pd.merge(merged_df, customer_df, on='address_id')\n",
    "merged_df = pd.merge(merged_df, rental_df, on='customer_id',suffixes=(\"_left\",\"_right\"))\n",
    "merged_df = pd.merge(merged_df, inventory_df, on='inventory_id')\n",
    "merged_df = pd.merge(merged_df, film_df, on='film_id',suffixes=(\"_merged\",\"_film\"))\n",
    "\n",
    "# Şehir ve film başına kiralama sayısını hesaplayalım\n",
    "result_df = merged_df.groupby(['city', 'title']).agg(\n",
    "    rental_count=('rental_id', 'count')\n",
    ").reset_index()\n",
    "\n",
    "# En az kiralanan 5 filmi bulalım\n",
    "result_df = result_df.sort_values('rental_count').head(5)\n",
    "\n",
    "# Sonucu göstermek için sütunları yeniden düzenleyelim\n",
    "result_df = result_df[['city', 'title', 'rental_count']]\n",
    "\n",
    "print(result_df)"
   ]
  },
  {
   "cell_type": "markdown",
   "id": "00382920-8a69-4c7a-8f14-0f04e53b3597",
   "metadata": {},
   "source": [
    "### Soru 36: En çok kazanç sağlayan 5 filmi hangi şehirde bulun?"
   ]
  },
  {
   "cell_type": "code",
   "execution_count": 125,
   "id": "7003c627-fd59-4ad0-bb41-6000d842992d",
   "metadata": {},
   "outputs": [
    {
     "name": "stdout",
     "output_type": "stream",
     "text": [
      "                      city             title  total_revenue\n",
      "10565                Plock  CALIFORNIA BIRDS          18.98\n",
      "10752          Probolinggo      MINDS TRUMAN          18.98\n",
      "6650                Kamyin    ROSES TREASURE          17.98\n",
      "11854  Santa Brbara dOeste         WIFE TURN          17.98\n",
      "3520                Datong      EAGLES PANKY          16.98\n"
     ]
    }
   ],
   "source": [
    "# 1. city + address\n",
    "merged1 = pd.merge(city_df, address_df, on=\"city_id\")\n",
    "\n",
    "# 2. + customer\n",
    "merged2 = pd.merge(merged1, customer_df, on=\"address_id\")\n",
    "\n",
    "# 3. + rental\n",
    "merged3 = pd.merge(merged2, rental_df, on=\"customer_id\")\n",
    "\n",
    "# 4. + inventory (sadece gerekli sütunlar alınır, last_update çıkarılır)\n",
    "merged4 = pd.merge(merged3, inventory_df[['inventory_id', 'film_id']], on=\"inventory_id\")\n",
    "\n",
    "# 5. + film (sadece gerekli sütunlar alınır)\n",
    "merged5 = pd.merge(merged4, film_df[['film_id', 'title']], on=\"film_id\")\n",
    "\n",
    "# 6. + payment\n",
    "merged6 = pd.merge(merged5, payment_df[['rental_id', 'amount']], on=\"rental_id\")\n",
    "\n",
    "# 7. Şehir ve film bazında toplam geliri hesapla\n",
    "result_df = (\n",
    "    merged6\n",
    "    .groupby([\"city\", \"title\"])\n",
    "    .agg(total_revenue=pd.NamedAgg(column=\"amount\", aggfunc=\"sum\"))\n",
    "    .reset_index()\n",
    "    .sort_values(by=\"total_revenue\", ascending=False)\n",
    "    .head(5)\n",
    ")\n",
    "\n",
    "print(result_df)"
   ]
  },
  {
   "cell_type": "markdown",
   "id": "365c9faf-72e5-4493-bba8-33938210fcbd",
   "metadata": {},
   "source": [
    "### Soru 37: En az kazanç sağlayan 5 filmi hangi şehirde bulun?"
   ]
  },
  {
   "cell_type": "code",
   "execution_count": 128,
   "id": "eb975854-4e84-44ee-8d1d-f199e6f6fe32",
   "metadata": {},
   "outputs": [
    {
     "name": "stdout",
     "output_type": "stream",
     "text": [
      "                    city              title  total_revenue\n",
      "0  Allappuzha (Alleppey)     DEER VIRGINIAN            0.0\n",
      "1    Aparecida de Goinia       WOMEN DORADO            0.0\n",
      "2             Avellaneda  MOVIE SHAKESPEARE            0.0\n",
      "3              Balurghat  CURTAIN VIDEOTAPE            0.0\n",
      "4             Battambang      MINORITY KISS            0.0\n"
     ]
    }
   ],
   "source": [
    "# 1. city + address\n",
    "merged1 = pd.merge(city_df[['city_id', 'city']], address_df[['address_id', 'city_id']], on=\"city_id\")\n",
    "\n",
    "# 2. + customer\n",
    "merged2 = pd.merge(merged1, customer_df[['customer_id', 'address_id']], on=\"address_id\")\n",
    "\n",
    "# 3. + rental\n",
    "merged3 = pd.merge(merged2, rental_df[['rental_id', 'customer_id', 'inventory_id']], on=\"customer_id\")\n",
    "\n",
    "# 4. + inventory (sadece gerekli sütunlar: film_id)\n",
    "merged4 = pd.merge(merged3, inventory_df[['inventory_id', 'film_id']], on=\"inventory_id\")\n",
    "\n",
    "# 5. + film (sadece film adı gerekli)\n",
    "merged5 = pd.merge(merged4, film_df[['film_id', 'title']], on=\"film_id\")\n",
    "\n",
    "# 6. + payment (amount sütunu gerekli)\n",
    "merged6 = pd.merge(merged5, payment_df[['rental_id', 'amount']], on=\"rental_id\")\n",
    "\n",
    "# 7. Şehir ve film bazında toplam geliri hesapla\n",
    "result_df = (\n",
    "    merged6.groupby([\"city\", \"title\"])\n",
    "    .agg(total_revenue=pd.NamedAgg(column=\"amount\", aggfunc=\"sum\"))\n",
    "    .reset_index()\n",
    "    .sort_values(by=\"total_revenue\", ascending=True)\n",
    "    .head(30)\n",
    ")\n",
    "\n",
    "# Sıralama için eski index ekle ve eşitlik durumunda index'e göre sırala\n",
    "result_df[\"old_index\"] = result_df.index\n",
    "result_df = result_df.sort_values(by=[\"total_revenue\", \"old_index\"], ascending=[True, True]).head(5)\n",
    "\n",
    "result_df = result_df.drop(columns=[\"old_index\"]).reset_index(drop=True)\n",
    "print(result_df)"
   ]
  },
  {
   "cell_type": "markdown",
   "id": "2b60948a-fa91-4062-b09c-d2ff25670a7a",
   "metadata": {},
   "source": [
    "### Soru 38: En fazla kiralama yapan müşteri hangi filmleri kiralamış?"
   ]
  },
  {
   "cell_type": "code",
   "execution_count": 71,
   "id": "7960a505-1d00-43d5-8ff3-eaf391023898",
   "metadata": {},
   "outputs": [
    {
     "name": "stdout",
     "output_type": "stream",
     "text": [
      "   first_name last_name         name  rental_count\n",
      "0     ELEANOR      HUNT       Action             3\n",
      "1     ELEANOR      HUNT     Classics             4\n",
      "2     ELEANOR      HUNT       Comedy             2\n",
      "3     ELEANOR      HUNT  Documentary             3\n",
      "4     ELEANOR      HUNT        Drama             1\n",
      "5     ELEANOR      HUNT       Family             6\n",
      "6     ELEANOR      HUNT      Foreign             4\n",
      "7     ELEANOR      HUNT        Games             3\n",
      "8     ELEANOR      HUNT       Horror             4\n",
      "9     ELEANOR      HUNT        Music             1\n",
      "10    ELEANOR      HUNT          New             2\n",
      "11    ELEANOR      HUNT       Sci-Fi             7\n",
      "12    ELEANOR      HUNT       Sports             1\n",
      "13    ELEANOR      HUNT       Travel             5\n"
     ]
    }
   ],
   "source": [
    "# 1. Kiralama sayısına göre müşteri bazında kiralama sayısı hesapla\n",
    "rental_counts = rental_df.groupby(\"customer_id\").size()\n",
    "\n",
    "# 2. En çok kiralama yapan müşteri_id\n",
    "top_customer_id = rental_counts.idxmax()\n",
    "\n",
    "# 3. customer_df'den bu müşterinin bilgileri\n",
    "top_customer = customer_df[customer_df[\"customer_id\"] == top_customer_id]\n",
    "\n",
    "# 4. rental_df'den sadece bu müşterinin kiralamaları\n",
    "top_customer_rentals = rental_df[rental_df[\"customer_id\"] == top_customer_id]\n",
    "\n",
    "# 5. rental + inventory + film + film_category + category tablolarını sırayla birleştir\n",
    "merged = top_customer_rentals.merge(inventory_df, on=\"inventory_id\") \\\n",
    "    .merge(film_df, on=\"film_id\") \\\n",
    "    .merge(film_category_df, on=\"film_id\",suffixes=(\"_left\",\"_right\")) \\\n",
    "    .merge(category_df, on=\"category_id\")\n",
    "\n",
    "# 6. genre (category.name) bazında kiralama sayısını hesapla\n",
    "result_df = merged.groupby(\"name\").agg(rental_count=(\"rental_id\", \"count\")).reset_index()\n",
    "\n",
    "# 7. Müşteri bilgilerini (isim, soyisim) ekle\n",
    "result_df[\"first_name\"] = top_customer.iloc[0][\"first_name\"]\n",
    "result_df[\"last_name\"] = top_customer.iloc[0][\"last_name\"]\n",
    "\n",
    "# 8. Kolon sırasını düzenle\n",
    "result_df = result_df[[\"first_name\", \"last_name\", \"name\", \"rental_count\"]]\n",
    "\n",
    "# 9. Sonucu yazdır\n",
    "print(result_df)\n"
   ]
  },
  {
   "cell_type": "markdown",
   "id": "157b37c6-09be-4248-8d8a-e1c70559d67d",
   "metadata": {},
   "source": [
    "### Soru 39: En az kiralama yapan müşteri hangi filmleri kiralamış?"
   ]
  },
  {
   "cell_type": "code",
   "execution_count": 30,
   "id": "7f9c9378-730d-468f-8b5b-07685e814955",
   "metadata": {},
   "outputs": [
    {
     "name": "stdout",
     "output_type": "stream",
     "text": [
      "  first_name last_name        genre  rental_count\n",
      "0      BRIAN     WYMAN       Action             3\n",
      "1      BRIAN     WYMAN       Comedy             1\n",
      "2      BRIAN     WYMAN  Documentary             3\n",
      "3      BRIAN     WYMAN        Drama             2\n",
      "4      BRIAN     WYMAN       Horror             1\n",
      "5      BRIAN     WYMAN          New             2\n"
     ]
    }
   ],
   "source": [
    "# Verilen read_table_as_dataframe fonksiyonunu kullanarak tabloları yükle\n",
    "customer_df = read_table_as_dataframe(conn, \"customer\")[[\"customer_id\", \"first_name\", \"last_name\"]]\n",
    "rental_df = read_table_as_dataframe(conn, \"rental\")[[\"rental_id\", \"inventory_id\", \"customer_id\"]]\n",
    "inventory_df = read_table_as_dataframe(conn, \"inventory\")[[\"inventory_id\", \"film_id\"]]\n",
    "film_df = read_table_as_dataframe(conn, \"film\")[[\"film_id\"]]\n",
    "film_category_df = read_table_as_dataframe(conn, \"film_category\")[[\"film_id\", \"category_id\"]]\n",
    "category_df = read_table_as_dataframe(conn, \"category\")[[\"category_id\", \"name\"]]\n",
    "\n",
    "# 1) Her müşterinin kiralama sayısını hesapla\n",
    "rental_counts = rental_df.groupby(\"customer_id\")[\"rental_id\"].count().reset_index(name=\"rental_count\")\n",
    "\n",
    "# 2) En az kiralama yapan müşterinin customer_id'sini bul\n",
    "min_rental_customer_id = rental_counts.sort_values(\"rental_count\").iloc[0][\"customer_id\"]\n",
    "\n",
    "# 3) En az kiralama yapan müşterinin kiralamalarını filtrele\n",
    "cust_rentals = rental_df[rental_df[\"customer_id\"] == min_rental_customer_id]\n",
    "\n",
    "# 4) Tabloları birleştir\n",
    "merged = (\n",
    "    cust_rentals\n",
    "    .merge(inventory_df, on=\"inventory_id\")\n",
    "    .merge(film_df, on=\"film_id\")\n",
    "    .merge(film_category_df, on=\"film_id\")\n",
    "    .merge(category_df, on=\"category_id\")\n",
    "    .merge(customer_df, on=\"customer_id\")\n",
    ")\n",
    "\n",
    "# 5) Türlere göre gruplama ve kiralama sayısı\n",
    "result = (\n",
    "    merged.groupby([\"first_name\", \"last_name\", \"name\"])\n",
    "    .agg(rental_count=(\"rental_id\", \"count\"))\n",
    "    .reset_index()\n",
    "    .rename(columns={\"name\": \"genre\"})\n",
    ")\n",
    "\n",
    "print(result)"
   ]
  },
  {
   "cell_type": "markdown",
   "id": "9d92bab1-cba2-4855-b49f-afb71bf4d898",
   "metadata": {},
   "source": [
    "### Soru 40: En çok kazanç sağlayan müşteri hangi filmleri kiralamış?"
   ]
  },
  {
   "cell_type": "code",
   "execution_count": 130,
   "id": "71b080f9-e836-48f5-877a-72e026d60bee",
   "metadata": {},
   "outputs": [
    {
     "name": "stdout",
     "output_type": "stream",
     "text": [
      "   first_name last_name                  title  total_revenue\n",
      "0        KARL      SEAL          BETRAYED REAR           4.99\n",
      "1        KARL      SEAL       BIKINI BORROWERS           6.99\n",
      "2        KARL      SEAL         BLUES INSTINCT           2.99\n",
      "3        KARL      SEAL    BRINGING HYSTERICAL           2.99\n",
      "4        KARL      SEAL         CYCLONE FAMILY           4.99\n",
      "5        KARL      SEAL             DATE SPEED           3.99\n",
      "6        KARL      SEAL           DESIRE ALIEN           2.99\n",
      "7        KARL      SEAL       DESTINY SATURDAY           4.99\n",
      "8        KARL      SEAL             DUMBO LUST           0.99\n",
      "9        KARL      SEAL           DURHAM PANKY           4.99\n",
      "10       KARL      SEAL       ENGLISH BULWORTH           5.99\n",
      "11       KARL      SEAL         FIDELITY DEVIL           4.99\n",
      "12       KARL      SEAL       FOOL MOCKINGBIRD          10.99\n",
      "13       KARL      SEAL  FORRESTER COMANCHEROS           4.99\n",
      "14       KARL      SEAL            GANGS PRIDE           2.99\n",
      "15       KARL      SEAL        GOLDMINE TYCOON           1.99\n",
      "16       KARL      SEAL     HEAVYWEIGHTS BEAST           7.99\n",
      "17       KARL      SEAL            HIGH ENCINO           7.99\n",
      "18       KARL      SEAL               INCH JET           4.99\n",
      "19       KARL      SEAL          INSECTS STONE           0.99\n",
      "20       KARL      SEAL        LONELY ELEPHANT           6.99\n",
      "21       KARL      SEAL          MASSAGE IMAGE           6.99\n",
      "22       KARL      SEAL       METAL ARMAGEDDON           2.99\n",
      "23       KARL      SEAL            MILLION ACE           7.99\n",
      "24       KARL      SEAL      MISSION ZOOLANDER           7.99\n",
      "25       KARL      SEAL        MOONWALKER FOOL           6.99\n",
      "26       KARL      SEAL       MULHOLLAND BEAST           2.99\n",
      "27       KARL      SEAL       NOVOCAINE FLIGHT           4.99\n",
      "28       KARL      SEAL          PARIS WEEKEND           4.99\n",
      "29       KARL      SEAL         PICKUP DRIVING           8.99\n",
      "30       KARL      SEAL         PRINCESS GIANT           2.99\n",
      "31       KARL      SEAL        QUEST MUSSOLINI           2.99\n",
      "32       KARL      SEAL              RACER EGG           2.99\n",
      "33       KARL      SEAL        REAP UNFAITHFUL           4.99\n",
      "34       KARL      SEAL         REMEMBER DIARY           4.99\n",
      "35       KARL      SEAL    RIDGEMONT SUBMARINE           3.99\n",
      "36       KARL      SEAL         ROBBERY BRIGHT           1.99\n",
      "37       KARL      SEAL       SINNERS ATLANTIS           2.99\n",
      "38       KARL      SEAL             SLUMS DUCK           2.99\n",
      "39       KARL      SEAL            SPLASH GUMP           0.99\n",
      "40       KARL      SEAL               SPY MILE           5.99\n",
      "41       KARL      SEAL         STING PERSONAL           9.99\n",
      "42       KARL      SEAL        TERMINATOR CLUB           8.99\n",
      "43       KARL      SEAL         WEDDING APOLLO           7.98\n"
     ]
    }
   ],
   "source": [
    "rental_payment_df = rental_df.merge(payment_df, on=\"rental_id\")\n",
    "rental_payment_customer_df = rental_payment_df.merge(customer_df,left_on=\"customer_id_y\",right_on=\"customer_id\")\n",
    "\n",
    "# En çok ödeme yapan müşteriyi bul\n",
    "customer_revenue_df = rental_payment_customer_df.groupby(\"customer_id\")[\"amount\"].sum().reset_index()\n",
    "top_customer_id = customer_revenue_df.sort_values(\"amount\", ascending=False).iloc[0][\"customer_id\"]\n",
    "\n",
    "# O müşterinin kiralama kayıtları\n",
    "top_rentals_df = rental_df[rental_df[\"customer_id\"] == top_customer_id]\n",
    "top_inventory_df = top_rentals_df.merge(inventory_df, on=\"inventory_id\")\n",
    "top_films_df = top_inventory_df.merge(film_df, on=\"film_id\")\n",
    "top_full_df = top_films_df.merge(payment_df, on=\"rental_id\", suffixes=('', '_payment'))\n",
    "top_full_df = top_full_df.merge(customer_df[[\"customer_id\", \"first_name\", \"last_name\"]], on=\"customer_id\")\n",
    "\n",
    "# Film bazında gelir\n",
    "result_df = top_full_df.groupby([\"first_name\", \"last_name\", \"title\"])[\"amount\"].sum().reset_index()\n",
    "result_df = result_df.rename(columns={\"amount\": \"total_revenue\"})\n",
    "\n",
    "print(result_df)"
   ]
  },
  {
   "cell_type": "markdown",
   "id": "2827d524-4055-47d1-938d-977a3d23a3bd",
   "metadata": {},
   "source": [
    "### Soru 41: En az kazanç sağlayan müşteri hangi filmleri kiralamış?"
   ]
  },
  {
   "cell_type": "code",
   "execution_count": 132,
   "id": "d9543ffb-fd6c-4b8a-89d2-be2b9ca8d92c",
   "metadata": {},
   "outputs": [
    {
     "name": "stdout",
     "output_type": "stream",
     "text": [
      "   first_name last_name                   title  total_revenue\n",
      "0    CAROLINE    BOWMAN         ARMAGEDDON LOST           0.99\n",
      "1    CAROLINE    BOWMAN        CAMELOT VACATION           0.99\n",
      "2    CAROLINE    BOWMAN         DISCIPLE MOTHER           5.99\n",
      "3    CAROLINE    BOWMAN        EMPIRE MALKOVICH           0.99\n",
      "4    CAROLINE    BOWMAN          FRENCH HOLIDAY           7.99\n",
      "5    CAROLINE    BOWMAN       GOODFELLAS SALUTE           4.99\n",
      "6    CAROLINE    BOWMAN       HOOSIERS BIRDCAGE           4.99\n",
      "7    CAROLINE    BOWMAN         ILLUSION AMELIE           0.99\n",
      "8    CAROLINE    BOWMAN    IMPOSSIBLE PREJUDICE           5.99\n",
      "9    CAROLINE    BOWMAN              JADE BUNCH           2.99\n",
      "10   CAROLINE    BOWMAN         KILLER INNOCENT           2.99\n",
      "11   CAROLINE    BOWMAN              MASK PEACH           3.99\n",
      "12   CAROLINE    BOWMAN  RESURRECTION SILVERADO           0.99\n",
      "13   CAROLINE    BOWMAN             TEXAS WATCH           0.99\n",
      "14   CAROLINE    BOWMAN         WHISPERER GIANT           4.99\n"
     ]
    }
   ],
   "source": [
    "# 1. rental + payment → ödemeleri rental üzerinden birleştir\n",
    "rental_payment_df = rental_df.merge(payment_df, on=\"rental_id\")\n",
    "\n",
    "# 2. En az ödeme yapan müşteriyi bul\n",
    "# Muhtemelen payment tablosundan gelen customer_id_y kullanılmalı\n",
    "customer_revenue_df = rental_payment_df.groupby(\"customer_id_y\")[\"amount\"].sum().reset_index()\n",
    "customer_revenue_df = customer_revenue_df.rename(columns={\"customer_id_y\": \"customer_id\"})\n",
    "least_paying_customer_id = customer_revenue_df.sort_values(\"amount\", ascending=True).iloc[0][\"customer_id\"]\n",
    "\n",
    "# 3. Bu müşterinin rental kayıtlarını al\n",
    "least_customer_rentals = rental_df[rental_df[\"customer_id\"] == least_paying_customer_id]\n",
    "\n",
    "# 4. rental → inventory → film (filmleri öğren)\n",
    "inventory_joined = least_customer_rentals.merge(inventory_df, on=\"inventory_id\")\n",
    "films_joined = inventory_joined.merge(film_df, on=\"film_id\")\n",
    "\n",
    "# 5. Bu kiralamalara karşılık gelen ödemeleri al\n",
    "films_with_payment = films_joined.merge(payment_df[['rental_id', 'amount']], on=\"rental_id\")\n",
    "\n",
    "# 6. Müşteri bilgilerini ekle\n",
    "films_with_customer = films_with_payment.merge(\n",
    "    customer_df[[\"customer_id\", \"first_name\", \"last_name\"]],\n",
    "    on=\"customer_id\"\n",
    ")\n",
    "\n",
    "# 7. Film bazında ödeme toplamı\n",
    "result_df = films_with_customer.groupby([\"first_name\", \"last_name\", \"title\"])[\"amount\"].sum().reset_index()\n",
    "\n",
    "# 8. Sütun adlarını SQL'deki gibi \n",
    "result_df = result_df.rename(columns={\"amount\": \"total_revenue\"})\n",
    "\n",
    "print(result_df)"
   ]
  },
  {
   "cell_type": "markdown",
   "id": "30f65c0b-06c0-4651-8e68-dbf43331eb2c",
   "metadata": {},
   "source": [
    "### Soru 42: En az kazanç sağlayan müşteri hangi türde en fazla film kiralamış?"
   ]
  },
  {
   "cell_type": "code",
   "execution_count": 135,
   "id": "35127882-01b8-4ecc-b5b9-b56d2cc8fa57",
   "metadata": {},
   "outputs": [
    {
     "name": "stdout",
     "output_type": "stream",
     "text": [
      "  first_name last_name        genre  total_count\n",
      "0   CAROLINE    BOWMAN     Children            1\n",
      "1   CAROLINE    BOWMAN  Documentary            1\n",
      "2   CAROLINE    BOWMAN       Family            2\n",
      "3   CAROLINE    BOWMAN      Foreign            3\n",
      "4   CAROLINE    BOWMAN       Horror            1\n",
      "5   CAROLINE    BOWMAN          New            1\n",
      "6   CAROLINE    BOWMAN       Sci-Fi            4\n",
      "7   CAROLINE    BOWMAN       Sports            1\n",
      "8   CAROLINE    BOWMAN       Travel            1\n"
     ]
    }
   ],
   "source": [
    "# 1. rental ile payment birleştir\n",
    "rental_payment_df = rental_df.merge(payment_df, on='rental_id')\n",
    "\n",
    "# 2. müşteri bazında toplam ödeme\n",
    "customer_payment_sum = rental_payment_df.groupby('customer_id_x' if 'customer_id_x' in rental_payment_df.columns else 'customer_id')['amount'].sum()\n",
    "\n",
    "# 3. en az ödeme yapan müşteri id'si\n",
    "least_paying_customer_id = customer_payment_sum.idxmin()\n",
    "\n",
    "# 4. o müşterinin kiralamalarını al\n",
    "customer_rentals = rental_df[rental_df['customer_id'] == least_paying_customer_id]\n",
    "\n",
    "# 5. kiralamaları inventory ile birleştir\n",
    "rental_inventory = customer_rentals.merge(inventory_df, on='inventory_id')\n",
    "\n",
    "# 6. inventory → film\n",
    "rental_film = rental_inventory.merge(film_df, on='film_id')\n",
    "\n",
    "# 7. film → film_category\n",
    "rental_film_category = rental_film.merge(film_category_df, on='film_id',suffixes=('_film', '_film_cat'))\n",
    "\n",
    "# 8. film_category → category\n",
    "rental_film_category = rental_film_category.merge(category_df[['category_id', 'name']], on='category_id')\n",
    "\n",
    "# 9. genre bazında kiralama sayısı\n",
    "genre_counts = rental_film_category.groupby('name').size().reset_index(name='total_count')\n",
    "\n",
    "# 10. müşteri bilgilerini al\n",
    "customer_info = customer_df[customer_df['customer_id'] == least_paying_customer_id][['first_name', 'last_name']].iloc[0]\n",
    "\n",
    "# 11. müşteri bilgilerini genre_counts tablosuna ekle\n",
    "genre_counts['first_name'] = customer_info['first_name']\n",
    "genre_counts['last_name'] = customer_info['last_name']\n",
    "\n",
    "# 12. kolon sırasını SQL sorgusundaki gibi ayarla\n",
    "genre_counts = genre_counts[['first_name', 'last_name', 'name', 'total_count']]\n",
    "\n",
    "# 13. kolon ismini genre olarak değiştir\n",
    "genre_counts = genre_counts.rename(columns={'name': 'genre'})\n",
    "\n",
    "print(genre_counts)"
   ]
  },
  {
   "cell_type": "markdown",
   "id": "5aee5c55-44b7-4cf8-9e28-4451b3db37fe",
   "metadata": {},
   "source": [
    "### Soru 43: En çok kiralanan film hangi çalışan tarafından kiralanmış?"
   ]
  },
  {
   "cell_type": "code",
   "execution_count": 137,
   "id": "1acdbd21-856f-408b-b24b-23e192b19a3d",
   "metadata": {},
   "outputs": [
    {
     "name": "stdout",
     "output_type": "stream",
     "text": [
      "  first_name last_name               title  rental_count\n",
      "0        Jon  Stephens  BUCKET BROTHERHOOD            18\n",
      "1       Mike   Hillyer  BUCKET BROTHERHOOD            16\n"
     ]
    }
   ],
   "source": [
    "# 1. rental ve inventory'yi birleştir (rental'in film bilgisini almak için)\n",
    "rental_inventory = rental_df.merge(inventory_df, on='inventory_id')\n",
    "\n",
    "# 2. film bilgilerini ekle\n",
    "rental_inventory_film = rental_inventory.merge(film_df, on='film_id')\n",
    "\n",
    "# 3. film bazında kiralama sayısını hesapla\n",
    "film_rental_counts = rental_inventory_film.groupby('film_id').size().reset_index(name='rental_count')\n",
    "\n",
    "# 4. en çok kiralanan film_id'sini bul\n",
    "most_rented_film_id = film_rental_counts.sort_values('rental_count', ascending=False).iloc[0]['film_id']\n",
    "\n",
    "# 5. en çok kiralanan filmle ilgili rental + inventory + film kaydını filtrele\n",
    "most_rented_film_rentals = rental_inventory_film[rental_inventory_film['film_id'] == most_rented_film_id]\n",
    "\n",
    "# 6. staff bilgilerini eklemek için staff_df ile birleştir\n",
    "result = most_rented_film_rentals.merge(staff_df, on='staff_id')\n",
    "\n",
    "# 7. personel bazında toplam kiralama sayısını hesapla\n",
    "staff_rental_counts = result.groupby(['first_name', 'last_name', 'title']).size().reset_index(name='rental_count')\n",
    "\n",
    "print(staff_rental_counts)"
   ]
  },
  {
   "cell_type": "markdown",
   "id": "1762cc70-5bf6-41ff-b483-403374e7af93",
   "metadata": {},
   "source": [
    "### Soru 44: En az kiralanan film hangi çalışan tarafından kiralanmış?"
   ]
  },
  {
   "cell_type": "code",
   "execution_count": 139,
   "id": "808a214f-aaf0-448e-8dec-3fe13b6208f0",
   "metadata": {},
   "outputs": [
    {
     "name": "stdout",
     "output_type": "stream",
     "text": [
      "  first_name last_name           title  rental_count\n",
      "0        Jon  Stephens  HARDLY ROBBERS             3\n",
      "1       Mike   Hillyer  HARDLY ROBBERS             1\n"
     ]
    }
   ],
   "source": [
    "# 1. Film kiralama sayılarını hesapla\n",
    "film_rental_counts = (\n",
    "    rental_df\n",
    "    .merge(inventory_df, on=\"inventory_id\")\n",
    "    .groupby(\"film_id\")\n",
    "    .size()\n",
    "    .reset_index(name=\"rental_count\")\n",
    ")\n",
    "\n",
    "# 2. En az kiralanan filmi bul\n",
    "min_rental_count = film_rental_counts[\"rental_count\"].min()\n",
    "least_rented_film_id = film_rental_counts.loc[film_rental_counts[\"rental_count\"] == min_rental_count, \"film_id\"].values[0]\n",
    "\n",
    "# 3. En az kiralanan filmle ilgili tüm rental verilerini al\n",
    "least_rented_film_rentals = (\n",
    "    rental_df\n",
    "    .merge(inventory_df, on=\"inventory_id\")\n",
    "    .query(\"film_id == @least_rented_film_id\")\n",
    ")\n",
    "# Gereksiz sütunları kaldır\n",
    "film_df_clean = film_df.drop(columns=[\"last_update\"])\n",
    "staff_df_clean = staff_df.drop(columns=[\"last_update\", \"address_id\", \"picture\", \"email\"], errors=\"ignore\")\n",
    "\n",
    "# 4. Rental, Staff ve Film tablolarını birleştir\n",
    "result_df = (\n",
    "    least_rented_film_rentals\n",
    "    .merge(staff_df_clean, on=\"staff_id\")\n",
    "    .merge(film_df_clean, on=\"film_id\")\n",
    ")\n",
    "\n",
    "# 5. Personel ve film adına göre grupla ve say\n",
    "final_df = (\n",
    "    result_df\n",
    "    .groupby([\"first_name\", \"last_name\", \"title\"])\n",
    "    .size()\n",
    "    .reset_index(name=\"rental_count\")\n",
    ")\n",
    "\n",
    "print(final_df)"
   ]
  },
  {
   "cell_type": "markdown",
   "id": "afad8d1e-9000-40a6-b35d-912c25f26b85",
   "metadata": {},
   "source": [
    "### Soru 45: En çok kazanç sağlayan film hangi çalışan tarafından kiralanmış?"
   ]
  },
  {
   "cell_type": "code",
   "execution_count": 141,
   "id": "b945d46a-f4b3-48ec-b83b-a376e8846211",
   "metadata": {},
   "outputs": [
    {
     "name": "stdout",
     "output_type": "stream",
     "text": [
      "  first_name last_name             title  total_revenue\n",
      "0        Jon  Stephens  TELEGRAPH VOYAGE         147.83\n",
      "1       Mike   Hillyer  TELEGRAPH VOYAGE          83.90\n"
     ]
    }
   ],
   "source": [
    "# 1. payment, rental, inventory ve film tablolarını birleştir\n",
    "payment_rental_film_df = (\n",
    "    payment_df\n",
    "    .merge(rental_df, on=\"rental_id\")\n",
    "    .merge(inventory_df, on=\"inventory_id\")\n",
    "    .merge(film_df[[\"film_id\", \"title\"]], on=\"film_id\")\n",
    ")\n",
    "\n",
    "# 2. film_id bazlı toplam geliri hesapla\n",
    "film_revenue_df = (\n",
    "    payment_rental_film_df\n",
    "    .groupby(\"film_id\")[\"amount\"]\n",
    "    .sum()\n",
    "    .reset_index(name=\"total_revenue\")\n",
    ")\n",
    "\n",
    "# 3. En yüksek gelir getiren film_id'yi bul\n",
    "max_revenue_film_id = (\n",
    "    film_revenue_df\n",
    "    .sort_values(\"total_revenue\", ascending=False)\n",
    "    .iloc[0][\"film_id\"]\n",
    ")\n",
    "\n",
    "# 4. En çok gelir getiren filme ait tüm işlemleri filtrele\n",
    "max_film_df = payment_rental_film_df.query(\"film_id == @max_revenue_film_id\")\n",
    "\n",
    "# 5. staff bilgilerini rental_df üzerinden staff_id ile bağla\n",
    "staff_info_df = (\n",
    "    rental_df[[\"rental_id\", \"staff_id\"]]\n",
    "    .merge(staff_df[[\"staff_id\", \"first_name\", \"last_name\"]], on=\"staff_id\")\n",
    ")\n",
    "\n",
    "# 6. max_film_df ile personel bilgilerini birleştir\n",
    "max_film_with_staff = (\n",
    "    max_film_df\n",
    "    .merge(staff_info_df, on=\"rental_id\")\n",
    ")\n",
    "\n",
    "# 7. Gruplama ve toplam gelir hesaplama\n",
    "final_df = (\n",
    "    max_film_with_staff\n",
    "    .groupby([\"first_name\", \"last_name\", \"title\"])[\"amount\"]\n",
    "    .sum()\n",
    "    .reset_index(name=\"total_revenue\")\n",
    ")\n",
    "\n",
    "print(final_df)"
   ]
  },
  {
   "cell_type": "markdown",
   "id": "65c1f501-6517-4a9e-b875-560dff7057d5",
   "metadata": {},
   "source": [
    "### Soru 46: En az kazanç sağlayan film hangi çalışan tarafından kiralanmış?(*)"
   ]
  },
  {
   "cell_type": "code",
   "execution_count": 144,
   "id": "b7013209-012f-4ff1-99c7-4cabaa997521",
   "metadata": {},
   "outputs": [
    {
     "name": "stdout",
     "output_type": "stream",
     "text": [
      "  first_name last_name        title  total_revenue\n",
      "0        Jon  Stephens  TEXAS WATCH           2.97\n",
      "1       Mike   Hillyer  TEXAS WATCH           2.97\n"
     ]
    }
   ],
   "source": [
    "# 1. rental + payment\n",
    "rental_payment_df = pd.merge(rental_df, payment_df, on=\"rental_id\")\n",
    "\n",
    "# 2. inventory ile birleştir\n",
    "rental_payment_inventory_df = pd.merge(rental_payment_df, inventory_df[['inventory_id', 'film_id']], on=\"inventory_id\")\n",
    "\n",
    "# 3. film ile birleştir\n",
    "film_payment_df = pd.merge(rental_payment_inventory_df, film_df[['film_id', 'title']], on=\"film_id\")\n",
    "\n",
    "# 4. film bazında toplam gelir\n",
    "film_revenue = film_payment_df.groupby(['film_id', 'title'])['amount'].sum().reset_index(name=\"total_revenue\")\n",
    "\n",
    "# 5. en az gelire sahip film_id'yi bul\n",
    "least_revenue_film_id = film_revenue.sort_values(by=\"total_revenue\").iloc[0]['film_id']\n",
    "\n",
    "# 6. rental + inventory + film + staff + payment birleştir\n",
    "merged1 = pd.merge(rental_df, inventory_df[['inventory_id', 'film_id']], on=\"inventory_id\")\n",
    "merged2 = pd.merge(merged1, film_df[['film_id', 'title']], on=\"film_id\")\n",
    "merged3 = pd.merge(merged2, staff_df[['staff_id', 'first_name', 'last_name']], on=\"staff_id\")\n",
    "merged4 = pd.merge(merged3, payment_df[['rental_id', 'amount']], on=\"rental_id\")\n",
    "\n",
    "# 7. sadece en az gelire sahip filmi filtrele\n",
    "filtered = merged4[merged4['film_id'] == least_revenue_film_id]\n",
    "\n",
    "# 8. staff ve film bazında toplam gelir\n",
    "result_df = (\n",
    "    filtered.groupby(['first_name', 'last_name', 'title'])['amount']\n",
    "    .sum()\n",
    "    .reset_index(name=\"total_revenue\")\n",
    ")\n",
    "print(result_df)\n"
   ]
  },
  {
   "cell_type": "markdown",
   "id": "75e5f3a6-a7d8-470b-8751-b3cd853611a8",
   "metadata": {},
   "source": [
    "### Soru 47: En çok kiralanan film hangi mağazada kiralanmış?"
   ]
  },
  {
   "cell_type": "code",
   "execution_count": 148,
   "id": "9b9873a0-50c9-4a88-b845-851054d7cfce",
   "metadata": {},
   "outputs": [
    {
     "name": "stdout",
     "output_type": "stream",
     "text": [
      "   store_id               title  rental_count\n",
      "0         1  BUCKET BROTHERHOOD            16\n",
      "1         2  BUCKET BROTHERHOOD            18\n"
     ]
    }
   ],
   "source": [
    "# 1. rental + inventory + film birleşimi → film bazında kaç kez kiralandığını hesapla\n",
    "film_rental_count_df = (\n",
    "    rental_df\n",
    "    .merge(inventory_df, on=\"inventory_id\")\n",
    "    .merge(film_df[[\"film_id\", \"title\"]], on=\"film_id\")\n",
    ")\n",
    "\n",
    "# 2. film_id bazında kiralama sayısı\n",
    "film_rental_counts = (\n",
    "    film_rental_count_df\n",
    "    .groupby([\"film_id\", \"title\"])\n",
    "    .size()\n",
    "    .reset_index(name=\"rental_count\")\n",
    ")\n",
    "\n",
    "# 3. En çok kiralanan film_id'yi bul\n",
    "most_rented_film_row = film_rental_counts.sort_values(\"rental_count\", ascending=False).iloc[0]\n",
    "most_rented_film_id = most_rented_film_row[\"film_id\"]\n",
    "most_rented_film_title = most_rented_film_row[\"title\"]\n",
    "\n",
    "# 4. Bu film_id'ye ait tüm rental verisini al\n",
    "most_rented_film_df = film_rental_count_df.query(\"film_id == @most_rented_film_id\")\n",
    "\n",
    "# 5. staff_id üzerinden store_id'yi alabilmek için rental + staff + store ilişkisini kur\n",
    "rental_staff_store_df = (\n",
    "    rental_df[[\"rental_id\", \"staff_id\"]]\n",
    "    .merge(staff_df[[\"staff_id\", \"store_id\"]], on=\"staff_id\")\n",
    ")\n",
    "\n",
    "# 6. film verisi ile mağaza bilgilerini bağla\n",
    "merged_df = (\n",
    "    most_rented_film_df[[\"rental_id\", \"title\"]]  # rental_id gerekli\n",
    "    .merge(rental_staff_store_df, on=\"rental_id\")\n",
    ")\n",
    "\n",
    "# 7. store_id ve film başlığına göre grupla → say\n",
    "final_df = (\n",
    "    merged_df\n",
    "    .groupby([\"store_id\", \"title\"])\n",
    "    .size()\n",
    "    .reset_index(name=\"rental_count\")\n",
    ")\n",
    "\n",
    "print(final_df)"
   ]
  },
  {
   "cell_type": "markdown",
   "id": "f1976333-b166-4705-a482-521a311f917b",
   "metadata": {},
   "source": [
    "### Soru 48: En az kiralanan film hangi mağazada kiralanmış?"
   ]
  },
  {
   "cell_type": "code",
   "execution_count": 150,
   "id": "6f06e12b-246d-4aae-a1f4-0fd77a7d8886",
   "metadata": {},
   "outputs": [
    {
     "name": "stdout",
     "output_type": "stream",
     "text": [
      "   store_id        title  rental_count\n",
      "0         2  TRAIN BUNCH             4\n"
     ]
    }
   ],
   "source": [
    "# 1. rental + inventory + film birleşimi\n",
    "film_rental_df = (\n",
    "    rental_df\n",
    "    .merge(inventory_df, on=\"inventory_id\")\n",
    "    .merge(film_df[[\"film_id\", \"title\"]], on=\"film_id\")\n",
    ")\n",
    "\n",
    "# 2. film bazında kiralama sayısını hesapla\n",
    "film_rental_counts = (\n",
    "    film_rental_df\n",
    "    .groupby([\"film_id\", \"title\"])\n",
    "    .size()\n",
    "    .reset_index(name=\"rental_count\")\n",
    ")\n",
    "\n",
    "# 3. En az kiralanan film_id'yi al\n",
    "least_rented_film_row = film_rental_counts.sort_values(\"rental_count\", ascending=True).iloc[0]\n",
    "least_rented_film_id = least_rented_film_row[\"film_id\"]\n",
    "least_rented_film_title = least_rented_film_row[\"title\"]\n",
    "\n",
    "# 4. Bu film_id'ye ait kiralama kayıtlarını al\n",
    "least_rented_film_df = film_rental_df.query(\"film_id == @least_rented_film_id\")\n",
    "\n",
    "# 5. store_id’ye ulaşmak için: rental → staff → store\n",
    "rental_staff_store_df = (\n",
    "    rental_df[[\"rental_id\", \"staff_id\"]]\n",
    "    .merge(staff_df[[\"staff_id\", \"store_id\"]], on=\"staff_id\")\n",
    ")\n",
    "\n",
    "# 6. Film ile store_id'yi birleştir\n",
    "merged_df = (\n",
    "    least_rented_film_df[[\"rental_id\", \"title\"]]\n",
    "    .merge(rental_staff_store_df, on=\"rental_id\")\n",
    ")\n",
    "\n",
    "# 7. store_id ve title’a göre grupla ve say\n",
    "final_df = (\n",
    "    merged_df\n",
    "    .groupby([\"store_id\", \"title\"])\n",
    "    .size()\n",
    "    .reset_index(name=\"rental_count\")\n",
    ")\n",
    "\n",
    "print(final_df)"
   ]
  },
  {
   "cell_type": "markdown",
   "id": "03f8ef2d-f22e-4c4f-b07c-5f20b544d9b3",
   "metadata": {},
   "source": [
    "### Soru 49: En çok kazanç sağlayan film hangi mağazada kiralanmış?"
   ]
  },
  {
   "cell_type": "code",
   "execution_count": 152,
   "id": "87bdc835-287c-47f3-b7d2-d0d306886d4e",
   "metadata": {},
   "outputs": [
    {
     "name": "stdout",
     "output_type": "stream",
     "text": [
      "   store_id             title  rental_count\n",
      "0         1  TELEGRAPH VOYAGE            10\n",
      "1         2  TELEGRAPH VOYAGE            17\n"
     ]
    }
   ],
   "source": [
    "# 1. payment + rental + inventory + film birleşimi\n",
    "payment_rental_film_df = (\n",
    "    payment_df\n",
    "    .merge(rental_df, on=\"rental_id\")\n",
    "    .merge(inventory_df, on=\"inventory_id\")\n",
    "    .merge(film_df[[\"film_id\", \"title\"]], on=\"film_id\")\n",
    ")\n",
    "\n",
    "# 2. film_id bazında toplam gelir\n",
    "film_revenue_df = (\n",
    "    payment_rental_film_df\n",
    "    .groupby([\"film_id\", \"title\"])[\"amount\"]\n",
    "    .sum()\n",
    "    .reset_index(name=\"total_revenue\")\n",
    ")\n",
    "\n",
    "# 3. En çok gelir getiren film_id\n",
    "most_revenue_film_row = film_revenue_df.sort_values(\"total_revenue\", ascending=False).iloc[0]\n",
    "most_revenue_film_id = most_revenue_film_row[\"film_id\"]\n",
    "most_revenue_film_title = most_revenue_film_row[\"title\"]\n",
    "\n",
    "# 4. Bu filme ait ödeme-kiralama kayıtlarını al\n",
    "most_revenue_film_df = payment_rental_film_df.query(\"film_id == @most_revenue_film_id\")\n",
    "\n",
    "# 5. rental_id üzerinden staff ve store bilgisi ekle\n",
    "rental_staff_store_df = (\n",
    "    rental_df[[\"rental_id\", \"staff_id\"]]\n",
    "    .merge(staff_df[[\"staff_id\", \"store_id\"]], on=\"staff_id\")\n",
    ")\n",
    "\n",
    "# 6. mağaza bilgileri ile filmi birleştir\n",
    "merged_df = (\n",
    "    most_revenue_film_df[[\"rental_id\", \"title\"]]\n",
    "    .merge(rental_staff_store_df, on=\"rental_id\")\n",
    ")\n",
    "\n",
    "# 7. store_id ve title’a göre grupla ve say\n",
    "final_df = (\n",
    "    merged_df\n",
    "    .groupby([\"store_id\", \"title\"])\n",
    "    .size()\n",
    "    .reset_index(name=\"rental_count\")\n",
    ")\n",
    "\n",
    "print(final_df)"
   ]
  },
  {
   "cell_type": "markdown",
   "id": "bca835b0-0260-4cf2-82a4-1c260af3e442",
   "metadata": {},
   "source": [
    "### Soru 50: En az kazanç sağlayan film hangi mağazada kiralanmış?(*)"
   ]
  },
  {
   "cell_type": "code",
   "execution_count": 156,
   "id": "ac70ac1d-ed18-4300-9596-41a237e56c0b",
   "metadata": {},
   "outputs": [
    {
     "name": "stdout",
     "output_type": "stream",
     "text": [
      "   store_id        title  rental_count\n",
      "0         1  TEXAS WATCH             3\n",
      "1         2  TEXAS WATCH             3\n"
     ]
    }
   ],
   "source": [
    "# 1. payment + rental + inventory + film birleşimi\n",
    "payment_rental_film_df = (\n",
    "    payment_df\n",
    "    .merge(rental_df, on=\"rental_id\")\n",
    "    .merge(inventory_df, on=\"inventory_id\")\n",
    "    .merge(film_df[[\"film_id\", \"title\"]], on=\"film_id\")\n",
    ")\n",
    "\n",
    "# 2. film_id ve title bazında toplam geliri hesapla\n",
    "film_revenue_df = (\n",
    "    payment_rental_film_df\n",
    "    .groupby([\"film_id\", \"title\"])[\"amount\"]\n",
    "    .sum()\n",
    "    .reset_index(name=\"total_revenue\")\n",
    ")\n",
    "\n",
    "# 3. En az gelir getiren film_id ve başlığını al\n",
    "least_revenue_row = film_revenue_df.sort_values(\"total_revenue\", ascending=True).iloc[0]\n",
    "least_revenue_film_id = least_revenue_row[\"film_id\"]\n",
    "least_revenue_film_title = least_revenue_row[\"title\"]\n",
    "\n",
    "# 4. Bu filme ait rental ve payment kayıtlarını filtrele\n",
    "least_revenue_film_df = payment_rental_film_df.query(\"film_id == @least_revenue_film_id\")\n",
    "\n",
    "# 5. rental_id üzerinden staff ve store bilgilerini birleştir\n",
    "rental_staff_store_df = (\n",
    "    rental_df[[\"rental_id\", \"staff_id\"]]\n",
    "    .merge(staff_df[[\"staff_id\", \"store_id\"]], on=\"staff_id\")\n",
    ")\n",
    "\n",
    "# 6. Kiralama ve mağaza bilgilerini birleştir\n",
    "merged_df = (\n",
    "    least_revenue_film_df[[\"rental_id\", \"title\"]]\n",
    "    .merge(rental_staff_store_df, on=\"rental_id\")\n",
    ")\n",
    "\n",
    "# 7. store_id ve film adına göre grupla, kiralama sayısını hesapla\n",
    "final_df = (\n",
    "    merged_df\n",
    "    .groupby([\"store_id\", \"title\"])\n",
    "    .size()\n",
    "    .reset_index(name=\"rental_count\")\n",
    ")\n",
    "\n",
    "print(final_df)"
   ]
  },
  {
   "cell_type": "markdown",
   "id": "4e87149a-43ec-4270-be1f-4eae780af2a6",
   "metadata": {},
   "source": [
    "### Soru 51: Müşterilerin kiraladıkları filmlerin toplam kiralama süresi ne kadar?"
   ]
  },
  {
   "cell_type": "code",
   "execution_count": 158,
   "id": "bffce4c1-f4c5-42ca-84b6-7d6719982ff6",
   "metadata": {},
   "outputs": [
    {
     "name": "stdout",
     "output_type": "stream",
     "text": [
      "    first_name last_name  total_date\n",
      "0        AARON     SELBY  120.398611\n",
      "1         ADAM     GOOCH  116.220833\n",
      "2       ADRIAN     CLARY  101.916667\n",
      "3        AGNES    BISHOP  111.152778\n",
      "4         ALAN      KAHN  143.023611\n",
      "..         ...       ...         ...\n",
      "594     WILLIE   MARKHAM  125.833333\n",
      "595      WILMA  RICHARDS  117.254861\n",
      "596    YOLANDA    WEAVER  139.776389\n",
      "597     YVONNE   WATKINS   97.145139\n",
      "598    ZACHARY      HITE  169.749306\n",
      "\n",
      "[599 rows x 3 columns]\n"
     ]
    }
   ],
   "source": [
    "# 1. customer ve rental tablolarını müşteri_id üzerinden birleştir\n",
    "customer_rental_df = customer_df.merge(rental_df, on=\"customer_id\")\n",
    "\n",
    "# 2. Tarihleri datetime formatına çevir\n",
    "customer_rental_df[\"rental_date\"] = pd.to_datetime(customer_rental_df[\"rental_date\"])\n",
    "customer_rental_df[\"return_date\"] = pd.to_datetime(customer_rental_df[\"return_date\"])\n",
    "\n",
    "# 3. Kira süresi (gün olarak) hesapla\n",
    "customer_rental_df[\"rental_duration\"] = (customer_rental_df[\"return_date\"] - customer_rental_df[\"rental_date\"]).dt.total_seconds() / (24 * 3600)\n",
    "\n",
    "# 4. Müşteri adına göre toplam kiralama süresini hesapla\n",
    "total_rental_duration_df = (\n",
    "    customer_rental_df\n",
    "    .groupby([\"first_name\", \"last_name\"])[\"rental_duration\"]\n",
    "    .sum()\n",
    "    .reset_index(name=\"total_date\")\n",
    ")\n",
    "\n",
    "print(total_rental_duration_df)\n"
   ]
  },
  {
   "cell_type": "markdown",
   "id": "40e681ae-3da0-4225-a3e9-230af7f66766",
   "metadata": {},
   "source": [
    "### Soru 52: En çok kiralanan türdeki filmler hangileri?"
   ]
  },
  {
   "cell_type": "code",
   "execution_count": 166,
   "id": "1b82bf3c-95b0-4505-bdca-39c503732fe6",
   "metadata": {},
   "outputs": [
    {
     "name": "stdout",
     "output_type": "stream",
     "text": [
      "      genre           title_cat  rental_count\n",
      "909  Travel  BUCKET BROTHERHOOD            34\n"
     ]
    }
   ],
   "source": [
    "# 1. Film ve Film_Category birleşimi\n",
    "film_film_category = film_df.merge(film_category_df, on=\"film_id\")\n",
    "\n",
    "# 2. Film_Category ve Category birleşimi\n",
    "film_category_full = film_film_category.merge(category_df, on=\"category_id\")\n",
    "\n",
    "# 3. film_df + inventory_df + rental_df birleşimi\n",
    "film_inventory_rental = (\n",
    "    film_df\n",
    "    .merge(inventory_df[[\"inventory_id\", \"film_id\"]], on=\"film_id\")\n",
    "    .merge(rental_df[[\"rental_id\", \"inventory_id\"]], on=\"inventory_id\")\n",
    ")\n",
    "\n",
    "# 4. Tür ve film adına göre kiralama sayısını bulmak için birleşim\n",
    "full_df = film_category_full.merge(film_inventory_rental, on=\"film_id\", suffixes=('_cat', '_inv'))\n",
    "\n",
    "# 5. Tür (genre) ve film adına göre kiralama sayısı\n",
    "rental_counts = (\n",
    "    full_df\n",
    "    .groupby([\"name\", \"title_cat\"])\n",
    "    .agg(rental_count=(\"rental_id\", \"count\"))\n",
    "    .reset_index()\n",
    ")\n",
    "\n",
    "# 6. En çok kiralanan filmi seç\n",
    "most_rented = rental_counts.sort_values(\"rental_count\", ascending=False).head(1)\n",
    "\n",
    "# 7. Kolon isimlerini SQL sorgusuna uyarlayalım\n",
    "most_rented = most_rented.rename(columns={\"name\": \"genre\"})\n",
    "\n",
    "print(most_rented)"
   ]
  },
  {
   "cell_type": "markdown",
   "id": "97b411db-c904-482c-a046-0531d32d3f4f",
   "metadata": {},
   "source": [
    "### Soru 53: En az kiralanan türdeki filmler hangileri?"
   ]
  },
  {
   "cell_type": "code",
   "execution_count": 168,
   "id": "7c6aae76-1426-46b2-bfaa-1936838f29cc",
   "metadata": {},
   "outputs": [
    {
     "name": "stdout",
     "output_type": "stream",
     "text": [
      "Index(['film_id', 'title', 'category_id', 'name'], dtype='object')\n",
      "Index(['rental_id', 'rental_date', 'inventory_id', 'customer_id',\n",
      "       'return_date', 'staff_id', 'film_id', 'store_id', 'last_update',\n",
      "       'title', 'name'],\n",
      "      dtype='object')\n",
      "******************\n",
      "            name           title  rental_count\n",
      "315  Documentary  HARDLY ROBBERS             4\n"
     ]
    }
   ],
   "source": [
    "film_min = film_df[[\"film_id\", \"title\"]]\n",
    "film_category_min = film_category_df[[\"film_id\", \"category_id\"]]\n",
    "category_min = category_df[[\"category_id\", \"name\"]]\n",
    "\n",
    "film_film_category = film_min.merge(film_category_min, on=\"film_id\")\n",
    "film_category_full = film_film_category.merge(category_min, on=\"category_id\")\n",
    "\n",
    "print(film_category_full.columns)  # 'film_id', 'title', 'category_id', 'name' olmalı\n",
    "\n",
    "film_inventory = inventory_df.merge(film_category_full[[\"film_id\", \"title\", \"name\"]], on=\"film_id\")\n",
    "\n",
    "full_rental = rental_df.merge(film_inventory, on=\"inventory_id\")\n",
    "\n",
    "print(full_rental.columns)  # 'title', 'name' \n",
    "\n",
    "rental_counts = (\n",
    "    full_rental\n",
    "    .groupby([\"name\", \"title\"])\n",
    "    .agg(rental_count=(\"rental_id\", \"count\"))\n",
    "    .reset_index()\n",
    ")\n",
    "\n",
    "# sorted_df'den önce sıralıyoruz\n",
    "sorted_df = rental_counts.sort_values(by=[\"rental_count\"])\n",
    "\n",
    "# minimum rental_count değerini alıyoruz\n",
    "min_count = sorted_df['rental_count'].min()\n",
    "\n",
    "# minimum rental_count olan satırları filtreliyoruz\n",
    "subset = sorted_df[sorted_df['rental_count'] == min_count]\n",
    "\n",
    "# index'e göre en küçük satırı alıyoruz (DataFrame olarak)\n",
    "first_row_df = subset.loc[[subset.index.min()]] \n",
    "print(\"******************\")\n",
    "print(first_row_df)\n"
   ]
  },
  {
   "cell_type": "markdown",
   "id": "1be5fe39-7e3d-4504-836e-3a2d05e92db4",
   "metadata": {},
   "source": [
    "### Soru 54: Her müşteri için toplam ödeme miktarını bulun."
   ]
  },
  {
   "cell_type": "code",
   "execution_count": 171,
   "id": "d6da8e6a-3314-49c3-aeac-e3edd1364354",
   "metadata": {},
   "outputs": [
    {
     "name": "stdout",
     "output_type": "stream",
     "text": [
      "    first_name last_name  total_payment\n",
      "0        AARON     SELBY         110.76\n",
      "1         ADAM     GOOCH         101.78\n",
      "2       ADRIAN     CLARY          74.81\n",
      "3        AGNES    BISHOP          98.77\n",
      "4         ALAN      KAHN         124.74\n",
      "..         ...       ...            ...\n",
      "594     WILLIE   MARKHAM         101.75\n",
      "595      WILMA  RICHARDS          91.80\n",
      "596    YOLANDA    WEAVER         110.73\n",
      "597     YVONNE   WATKINS          92.79\n",
      "598    ZACHARY      HITE         146.69\n",
      "\n",
      "[599 rows x 3 columns]\n"
     ]
    }
   ],
   "source": [
    "# 1. rental ile payment'i rental_id üzerinden birleştir\n",
    "rental_payment_df = rental_df.merge(payment_df, on=\"rental_id\")\n",
    "\n",
    "# 2. rental_payment_df ile customer'ı customer_id üzerinden birleştir\n",
    "customer_payment_df = rental_payment_df.merge(customer_df, left_on=\"customer_id_x\", right_on=\"customer_id\")\n",
    "\n",
    "# 3. Müşteri bazında toplam ödeme (amount) hesapla\n",
    "total_payment_per_customer = (\n",
    "    customer_payment_df\n",
    "    .groupby([\"first_name\", \"last_name\"])[\"amount\"]\n",
    "    .sum()\n",
    "    .reset_index(name=\"total_payment\")\n",
    ")\n",
    "\n",
    "print(total_payment_per_customer)\n"
   ]
  },
  {
   "cell_type": "markdown",
   "id": "d801640b-81bd-40aa-ac9a-567fbb7031c2",
   "metadata": {},
   "source": [
    "### Soru 55: Hangi filmler en uzun süre kiralanmış?"
   ]
  },
  {
   "cell_type": "code",
   "execution_count": 68,
   "id": "5cbb341b-032d-40ad-9967-263776228989",
   "metadata": {},
   "outputs": [
    {
     "name": "stdout",
     "output_type": "stream",
     "text": [
      "                  title  max_rental_days\n",
      "956  HOLOCAUST HIGHBALL         9.249306\n",
      "957     HIGHBALL POTTER         9.249306\n",
      "953        TRAMP OTHERS         9.248611\n",
      "955          PANIC CLUB         9.248611\n",
      "952          MASK PEACH         9.248611\n",
      "..                  ...              ...\n",
      "4            SQUAD FISH         5.908333\n",
      "3     CONSPIRACY SPIRIT         5.809722\n",
      "2           GLORY TRACY         5.120833\n",
      "1        TRAFFIC HOBBIT         4.977778\n",
      "0     DUFFEL APOCALYPSE         4.137500\n",
      "\n",
      "[958 rows x 2 columns]\n"
     ]
    }
   ],
   "source": [
    "# 1. inventory ve film'i film_id ile birleştir\n",
    "film_inventory = inventory_df.merge(film_df[['film_id', 'title']], on='film_id')\n",
    "\n",
    "# 2. rental ile film_inventory'yi inventory_id ile birleştir\n",
    "rental_film = rental_df.merge(film_inventory, on='inventory_id')\n",
    "\n",
    "# 3. Kiralama süresini hesapla (return_date - rental_date) gün olarak\n",
    "rental_film['rental_days'] = (\n",
    "    pd.to_datetime(rental_film['return_date']) - pd.to_datetime(rental_film['rental_date'])\n",
    ").dt.total_seconds() / (24*3600)  # saniyeyi güne çeviriyoruz (float)\n",
    "\n",
    "\n",
    "# 4. Her film için maksimum kiralama süresini bul\n",
    "max_rental_days_per_film = (\n",
    "    rental_film\n",
    "    .groupby('title')['rental_days']\n",
    "    .max()\n",
    "    .reset_index(name='max_rental_days')\n",
    "    .sort_values(by='max_rental_days', ascending=False)\n",
    ")\n",
    "# max_rental_days'e göre, eşitse index'e göre sıralama\n",
    "max_rental_days_per_film = max_rental_days_per_film.sort_values(\n",
    "    by=['max_rental_days'], ascending=True\n",
    ").reset_index()  # index sırasını da kullanabilmek için ekliyoruz\n",
    "\n",
    "# index'e göre sıralama da ekleyerek çoklu sıralama yapalım\n",
    "max_rental_days_per_film = max_rental_days_per_film.sort_values(\n",
    "    by=['max_rental_days', 'index'], ascending=[False, False]\n",
    ").drop(columns='index')  \n",
    "\n",
    "print(max_rental_days_per_film)"
   ]
  },
  {
   "cell_type": "markdown",
   "id": "50a086ca-84cb-4184-9f82-441e21f7c4ed",
   "metadata": {},
   "source": [
    "### Soru 56: Hangi filmler en kısa süre kiralanmış?"
   ]
  },
  {
   "cell_type": "code",
   "execution_count": 71,
   "id": "68de5442-8181-4d06-a5c1-b8acb6231aa0",
   "metadata": {},
   "outputs": [
    {
     "name": "stdout",
     "output_type": "stream",
     "text": [
      "                 title  min_rental_days\n",
      "0    CURTAIN VIDEOTAPE         0.750000\n",
      "1      DISCIPLE MOTHER         0.750000\n",
      "2         ROAD ROXANNE         0.750694\n",
      "3       FIDELITY DEVIL         0.751389\n",
      "6       HEAVEN FREEDOM         0.751389\n",
      "..                 ...              ...\n",
      "953        MIXED DOORS         3.240972\n",
      "954         EARLY HOME         3.807639\n",
      "955    PANKY SUBMARINE         3.827083\n",
      "956         WAGON JAWS         3.859028\n",
      "957       ZHIVAGO CORE         3.875000\n",
      "\n",
      "[958 rows x 2 columns]\n"
     ]
    }
   ],
   "source": [
    "# 1. inventory ile film'i film_id üzerinden birleştir\n",
    "film_inventory = inventory_df.merge(film_df[['film_id', 'title']], on='film_id')\n",
    "\n",
    "# 2. rental ile film_inventory'yi inventory_id üzerinden birleştir\n",
    "rental_film = rental_df.merge(film_inventory, on='inventory_id')\n",
    "\n",
    "# 3. Kiralama süresi hesapla\n",
    "rental_film['rental_days'] = (\n",
    "    pd.to_datetime(rental_film['return_date']) - pd.to_datetime(rental_film['rental_date'])\n",
    ").dt.total_seconds() / (24 * 3600)\n",
    "\n",
    "# 4. Her film için minimum kiralama süresi\n",
    "min_rental_days_per_film = (\n",
    "    rental_film\n",
    "    .groupby('title')['rental_days']\n",
    "    .min()\n",
    "    .reset_index(name='min_rental_days')\n",
    "    .sort_values(by='min_rental_days', ascending=True)\n",
    ")\n",
    "# max_rental_days'e göre, eşitse index'e göre sıralama\n",
    "min_rental_days_per_film = min_rental_days_per_film.sort_values(\n",
    "    by=['min_rental_days'], ascending=True\n",
    ").reset_index()  # index sırasını da kullanabilmek için ekliyoruz\n",
    "\n",
    "# index'e göre sıralama da ekleyerek çoklu sıralama yapalım\n",
    "min_rental_days_per_film = min_rental_days_per_film.sort_values(\n",
    "    by=['min_rental_days', 'index'], ascending=[True, True]\n",
    ").drop(columns='index')  \n",
    "print(min_rental_days_per_film)"
   ]
  },
  {
   "cell_type": "markdown",
   "id": "96751632-0c59-4840-8c50-fd48438a430c",
   "metadata": {},
   "source": [
    "### Soru 57: Müşterilerin kiraladığı filmler için ortalama ödeme miktarını bulun."
   ]
  },
  {
   "cell_type": "code",
   "execution_count": 73,
   "id": "fa7eb863-6e5f-4bc0-bff2-335459e46d98",
   "metadata": {},
   "outputs": [
    {
     "name": "stdout",
     "output_type": "stream",
     "text": [
      "    first_name last_name  avg_payment\n",
      "0        AARON     SELBY     4.615000\n",
      "1         ADAM     GOOCH     4.626364\n",
      "2       ADRIAN     CLARY     3.937368\n",
      "3        AGNES    BISHOP     4.294348\n",
      "4         ALAN      KAHN     4.797692\n",
      "..         ...       ...          ...\n",
      "594     WILLIE   MARKHAM     4.070000\n",
      "595      WILMA  RICHARDS     4.590000\n",
      "596    YOLANDA    WEAVER     4.101111\n",
      "597     YVONNE   WATKINS     4.418571\n",
      "598    ZACHARY      HITE     4.731935\n",
      "\n",
      "[599 rows x 3 columns]\n"
     ]
    }
   ],
   "source": [
    "# 1. rental ile payment'i rental_id üzerinden birleştir\n",
    "rental_payment_df = rental_df.merge(payment_df, on=\"rental_id\")\n",
    "\n",
    "# 2. customer ile birleştir\n",
    "customer_payment_df = rental_payment_df.merge(customer_df, left_on=\"customer_id_x\", right_on=\"customer_id\")\n",
    "\n",
    "# 3. Müşteri bazında ortalama ödeme hesapla\n",
    "avg_payment_per_customer = (\n",
    "    customer_payment_df\n",
    "    .groupby([\"first_name\", \"last_name\"])[\"amount\"]\n",
    "    .mean()\n",
    "    .reset_index(name=\"avg_payment\")\n",
    ")\n",
    "\n",
    "print(avg_payment_per_customer)"
   ]
  },
  {
   "cell_type": "markdown",
   "id": "ec605206-2fc3-4561-a180-e04560e022bd",
   "metadata": {},
   "source": [
    "### Soru 58: En çok kiralanan filmlerin ortalama kiralama süresi nedir?"
   ]
  },
  {
   "cell_type": "code",
   "execution_count": 82,
   "id": "895c53cc-0de7-4edb-b60a-9c12a1f4c25d",
   "metadata": {},
   "outputs": [
    {
     "name": "stdout",
     "output_type": "stream",
     "text": [
      "                 title  avg_rental_days  rental_count\n",
      "0   BUCKET BROTHERHOOD         4.948448            34\n",
      "1     ROCKETEER MOTHER         5.386069            33\n",
      "2        SCALAWAG DUCK         4.069640            32\n",
      "3  RIDGEMONT SUBMARINE         6.010909            32\n",
      "4       GRIT CLOCKWORK         5.340864            32\n",
      "5       FORWARD TEMPLE         5.595247            32\n",
      "6       JUGGLER HARDLY         5.509901            32\n",
      "7        APACHE DIVINE         4.269064            31\n",
      "8      RUSH GOODFELLAS         4.481855            31\n",
      "9            WIFE TURN         4.792876            31\n"
     ]
    }
   ],
   "source": [
    "# inventory ile film'i birleştir\n",
    "film_inventory = inventory_df.merge(film_df[['film_id', 'title']], on='film_id')\n",
    "\n",
    "# rental ile film_inventory'yi birleştir\n",
    "rental_film = rental_df.merge(film_inventory, on='inventory_id')\n",
    "\n",
    "# Kiralama süresi\n",
    "rental_film['rental_days'] = (\n",
    "    pd.to_datetime(rental_film['return_date']) - pd.to_datetime(rental_film['rental_date'])\n",
    ").dt.total_seconds() / (24*3600)\n",
    "\n",
    "# Ortalama kiralama süresi ve kiralama sayısı\n",
    "avg_days_count = (\n",
    "    rental_film\n",
    "    .groupby('title')\n",
    "    .agg(\n",
    "        avg_rental_days=('rental_days', 'mean'),\n",
    "        rental_count=('rental_id', 'count')\n",
    "    )\n",
    "    .sort_values(by='rental_count', ascending=False)\n",
    "    .head(10)\n",
    "    .reset_index()\n",
    ")\n",
    "print(avg_days_count)"
   ]
  },
  {
   "cell_type": "markdown",
   "id": "9937f5fe-a32e-4a6e-833c-60595428a5b0",
   "metadata": {},
   "source": [
    "### Soru 59: En az kiralanan filmlerin ortalama kiralama süresi nedir?(*)"
   ]
  },
  {
   "cell_type": "code",
   "execution_count": 175,
   "id": "4f2d7a41-6590-4581-a395-18a6738fcabf",
   "metadata": {},
   "outputs": [
    {
     "name": "stdout",
     "output_type": "stream",
     "text": [
      "                 title  rental_count  avg_rental_days\n",
      "866        TRAIN BUNCH             4         3.349306\n",
      "378     HARDLY ROBBERS             4         6.948438\n",
      "558        MIXED DOORS             4         5.953299\n",
      "315  FREEDOM CLEOPATRA             5         2.959722\n",
      "341        GLORY TRACY             5         3.678472\n",
      "865     TRAFFIC HOBBIT             5         3.401528\n",
      "669       PRIVATE DROP             5         4.949583\n",
      "293       FEVER EMPIRE             5         5.755694\n",
      "87    BRAVEHEART HUMAN             5         4.019861\n",
      "100        BUNCH MINDS             5         5.524444\n"
     ]
    }
   ],
   "source": [
    "import pandas as pd\n",
    "\n",
    "# 1. film ve inventory'yi birleştir (film_id ile)\n",
    "film_inventory = inventory_df.merge(film_df[['film_id', 'title']], on='film_id')\n",
    "\n",
    "# 2. rental ile film_inventory'yi birleştir (inventory_id ile)\n",
    "rental_film = rental_df.merge(film_inventory, on='inventory_id')\n",
    "\n",
    "# 3. Kiralama süresini gün olarak hesapla\n",
    "rental_film['rental_days'] = (\n",
    "    pd.to_datetime(rental_film['return_date']) - pd.to_datetime(rental_film['rental_date'])\n",
    ").dt.total_seconds() / (24 * 3600)  # float gün\n",
    "\n",
    "# 4. Group by title: kiralama sayısı ve ortalama gün\n",
    "summary = (\n",
    "    rental_film\n",
    "    .groupby('title')\n",
    "    .agg(\n",
    "        rental_count=('rental_id', 'count'),\n",
    "        avg_rental_days=('rental_days', 'mean')\n",
    "    )\n",
    "    .reset_index()\n",
    ")\n",
    "\n",
    "# 5. rental_count’a göre artan sırala ve ilk 10 filmi al\n",
    "least_rented_10 = summary.sort_values(by='rental_count', ascending=True).head(10)\n",
    "\n",
    "print(least_rented_10)"
   ]
  },
  {
   "cell_type": "markdown",
   "id": "e32813ff-582f-47cf-8ef0-56604694e05f",
   "metadata": {},
   "source": [
    "### Soru 60: En çok kazanç sağlayan müşterilerin ortalama ödeme miktarı nedir?"
   ]
  },
  {
   "cell_type": "code",
   "execution_count": 89,
   "id": "0bcd03e0-e071-4326-b48b-549c0867b1f6",
   "metadata": {},
   "outputs": [
    {
     "name": "stdout",
     "output_type": "stream",
     "text": [
      "    first_name last_name  avg_payment\n",
      "318       KARL      SEAL     4.923333\n",
      "175    ELEANOR      HUNT     4.707391\n",
      "105      CLARA      SHAW     4.656667\n",
      "389     MARION    SNYDER     4.990000\n",
      "474     RHONDA   KENNEDY     4.990000\n",
      "556      TOMMY   COLLAZO     4.911053\n",
      "590     WESLEY      BULL     4.440000\n",
      "551        TIM      CARY     4.502821\n",
      "379     MARCIA      DEAN     4.180476\n",
      "21         ANA   BRADLEY     5.137059\n"
     ]
    }
   ],
   "source": [
    "# 1. rental ile payment'ı rental_id üzerinden birleştir\n",
    "rental_payment_df = rental_df.merge(payment_df, on=\"rental_id\")\n",
    "\n",
    "# 2. rental_payment_df ile customer'ı customer_id üzerinden birleştir\n",
    "customer_payment_df = rental_payment_df.merge(customer_df, left_on=\"customer_id_x\", right_on=\"customer_id\")\n",
    "\n",
    "# 3. Müşteri bazında ortalama ve toplam ödeme hesapla\n",
    "summary = (\n",
    "    customer_payment_df\n",
    "    .groupby([\"first_name\", \"last_name\"])\n",
    "    .agg(\n",
    "        avg_payment=(\"amount\", \"mean\"),\n",
    "        total_payment=(\"amount\", \"sum\")\n",
    "    )\n",
    "    .reset_index()\n",
    ")\n",
    "\n",
    "# 4. Toplam ödemeye göre azalan sırala ve ilk 10 müşteriyi al\n",
    "top_10_customers = summary.sort_values(by=\"total_payment\", ascending=False).head(10)\n",
    "\n",
    "# 5. Sadece istenen kolonları yazdır\n",
    "print(top_10_customers[[\"first_name\", \"last_name\", \"avg_payment\"]])"
   ]
  },
  {
   "cell_type": "markdown",
   "id": "61d7e36c-05f6-425a-846b-5208f4018e5d",
   "metadata": {},
   "source": [
    "### Soru 61: En az kazanç sağlayan müşterilerin ortalama ödeme miktarı nedir?"
   ]
  },
  {
   "cell_type": "code",
   "execution_count": 92,
   "id": "3e92a644-3f51-4ec4-a79e-9a77fdc968f7",
   "metadata": {},
   "outputs": [
    {
     "name": "stdout",
     "output_type": "stream",
     "text": [
      "    first_name last_name  avg_payment\n",
      "83    CAROLINE    BOWMAN     3.390000\n",
      "351      LEONA    OBRIEN     3.632857\n",
      "71       BRIAN     WYMAN     4.406667\n",
      "296     JOHNNY    TURPIN     3.042632\n",
      "33       ANNIE   RUSSELL     3.267778\n",
      "319  KATHERINE    RIVERA     4.204286\n",
      "550    TIFFANY    JORDAN     4.275714\n",
      "28       ANITA   MORALES     4.190000\n",
      "401     MATTIE   HOFFMAN     2.944545\n",
      "334       KIRK   STCLAIR     3.411053\n"
     ]
    }
   ],
   "source": [
    "# 1. rental ile payment'ı rental_id üzerinden birleştir\n",
    "rental_payment_df = rental_df.merge(payment_df, on=\"rental_id\")\n",
    "\n",
    "# 2. rental_payment_df ile customer'ı customer_id üzerinden birleştir\n",
    "customer_payment_df = rental_payment_df.merge(customer_df, left_on=\"customer_id_x\", right_on=\"customer_id\")\n",
    "\n",
    "# 3. Müşteri bazında ortalama ve toplam ödeme hesapla\n",
    "summary = (\n",
    "    customer_payment_df\n",
    "    .groupby([\"first_name\", \"last_name\"])\n",
    "    .agg(\n",
    "        avg_payment=(\"amount\", \"mean\"),\n",
    "        total_payment=(\"amount\", \"sum\")\n",
    "    )\n",
    "    .reset_index()\n",
    ")\n",
    "\n",
    "# 4. Toplam ödemeye göre artan sırala ve ilk 10 müşteriyi al\n",
    "bottom_10_customers = summary.sort_values(by=\"total_payment\", ascending=True).head(10)\n",
    "\n",
    "# 5. İstenen kolonları yazdır\n",
    "print(bottom_10_customers[[\"first_name\", \"last_name\", \"avg_payment\"]])"
   ]
  },
  {
   "cell_type": "markdown",
   "id": "f90b0ab0-e63b-4021-948b-a59d26d6c086",
   "metadata": {},
   "source": [
    "### Soru 62: Mağazalardaki toplam kiralama süresini bulun."
   ]
  },
  {
   "cell_type": "code",
   "execution_count": 94,
   "id": "18120aa4-1861-448c-aeac-45b6460883c8",
   "metadata": {},
   "outputs": [
    {
     "name": "stdout",
     "output_type": "stream",
     "text": [
      "   store_id  total_rental_days\n",
      "0         1       39878.755556\n",
      "1         2       39828.009028\n"
     ]
    }
   ],
   "source": [
    "# 1. staff ile rental'ı staff_id üzerinden birleştir\n",
    "staff_rental = staff_df.merge(rental_df, on=\"staff_id\")\n",
    "\n",
    "# 2. staff_rental ile store'u store_id üzerinden birleştir\n",
    "store_rental = staff_rental.merge(store_df, on=\"store_id\")\n",
    "\n",
    "# 3. Kiralama sürelerini gün olarak hesapla\n",
    "store_rental['rental_days'] = (\n",
    "    pd.to_datetime(store_rental['return_date']) - pd.to_datetime(store_rental['rental_date'])\n",
    ").dt.total_seconds() / (24 * 3600)  # float gün\n",
    "\n",
    "# 4. Store bazında toplam kiralama süresi hesapla\n",
    "total_rental_days_per_store = (\n",
    "    store_rental\n",
    "    .groupby('store_id')['rental_days']\n",
    "    .sum()\n",
    "    .reset_index(name='total_rental_days')\n",
    ")\n",
    "\n",
    "print(total_rental_days_per_store)"
   ]
  },
  {
   "cell_type": "markdown",
   "id": "45cccee9-836c-4419-aef0-aa5b62a99220",
   "metadata": {},
   "source": [
    "### Soru 63: En uzun süre kiralanan film hangi mağazada kiralanmış?"
   ]
  },
  {
   "cell_type": "code",
   "execution_count": 106,
   "id": "5776d7e2-db46-449f-a436-8fcbf4d64508",
   "metadata": {},
   "outputs": [
    {
     "name": "stdout",
     "output_type": "stream",
     "text": [
      "     store_id_x               title  rental_days\n",
      "400           1  HOLOCAUST HIGHBALL     9.249306\n"
     ]
    }
   ],
   "source": [
    "# staff ve store'da ortak olan gereksiz sütunları düşürelim\n",
    "staff_small = staff_df.drop(columns=['last_update'])\n",
    "store_small = store_df.drop(columns=['last_update'])\n",
    "\n",
    "# 1. staff ile store'u store_id üzerinden birleştir\n",
    "staff_store = staff_small.merge(store_small, on='store_id')\n",
    "\n",
    "# 2. rental ile staff_store'ı staff_id üzerinden birleştir\n",
    "rental_staff_store = rental_df.merge(staff_store, on='staff_id')\n",
    "\n",
    "# 3. inventory ile rental_staff_store'u inventory_id üzerinden birleştir\n",
    "rental_inventory = rental_staff_store.merge(inventory_df, on='inventory_id')\n",
    "\n",
    "# 4. film ile rental_inventory'yi film_id üzerinden birleştir\n",
    "rental_film = rental_inventory.merge(film_df[['film_id', 'title']], on='film_id')\n",
    "\n",
    "# 5. Kiralama süresini gün olarak hesapla\n",
    "rental_film['rental_days'] = (\n",
    "    pd.to_datetime(rental_film['return_date']) - pd.to_datetime(rental_film['rental_date'])\n",
    ").dt.total_seconds() / (24 * 3600)\n",
    "\n",
    "# 6. store_id ve film.title göre gruplama yap, maksimum kiralama süresini bul\n",
    "max_rental = (\n",
    "    rental_film\n",
    "    .groupby(['store_id_x', 'title'])['rental_days']\n",
    "    .max()\n",
    "    .reset_index()\n",
    "    .sort_values(by='rental_days', ascending=False)\n",
    "    .head(1)\n",
    ")\n",
    "\n",
    "print(max_rental)"
   ]
  },
  {
   "cell_type": "markdown",
   "id": "b8981c28-130f-4663-b99f-a9a776b6032f",
   "metadata": {},
   "source": [
    "### Soru 64: En kısa süre kiralanan film hangi mağazada kiralanmış?"
   ]
  },
  {
   "cell_type": "code",
   "execution_count": 109,
   "id": "e0f871cd-d04a-4e9a-a572-4652cc15b7e8",
   "metadata": {},
   "outputs": [
    {
     "name": "stdout",
     "output_type": "stream",
     "text": [
      "     store_id_x              title  rental_days\n",
      "567           1  MONTEZUMA COMMAND     0.820139\n"
     ]
    }
   ],
   "source": [
    "# staff ve store'da ortak olan gereksiz sütunları düşürelim\n",
    "staff_small = staff_df.drop(columns=['last_update'])\n",
    "store_small = store_df.drop(columns=['last_update'])\n",
    "\n",
    "# 1. staff ile store'u store_id üzerinden birleştir\n",
    "staff_store = staff_small.merge(store_small, on='store_id')\n",
    "\n",
    "# 2. rental ile staff_store'ı staff_id üzerinden birleştir\n",
    "rental_staff_store = rental_df.merge(staff_store, on='staff_id')\n",
    "\n",
    "# 3. inventory ile rental_staff_store'u inventory_id üzerinden birleştir\n",
    "rental_inventory = rental_staff_store.merge(inventory_df, on='inventory_id')\n",
    "\n",
    "# 4. film ile rental_inventory'yi film_id üzerinden birleştir\n",
    "rental_film = rental_inventory.merge(film_df[['film_id', 'title']], on='film_id')\n",
    "\n",
    "# 5. Kiralama süresini gün olarak hesapla\n",
    "rental_film['rental_days'] = (\n",
    "    pd.to_datetime(rental_film['return_date']) - pd.to_datetime(rental_film['rental_date'])\n",
    ").dt.total_seconds() / (24 * 3600)\n",
    "#6. store_id ve title'a göre grupla, maksimum kiralama süresini hesapla\n",
    "grouped = rental_film.groupby(['store_id_x', 'title'])['rental_days'].max().reset_index()\n",
    "\n",
    "# 7. En küçük max_rental_days değerine göre sırala ve ilk kaydı al\n",
    "result = grouped.sort_values(by='rental_days', ascending=True).head(1)\n",
    "\n",
    "print(result)"
   ]
  },
  {
   "cell_type": "markdown",
   "id": "990d1d4c-12c2-4b4f-a987-ae61b19d18a6",
   "metadata": {},
   "source": [
    "### Soru 65: Her filmin ortalama kiralama süresi nedir?"
   ]
  },
  {
   "cell_type": "code",
   "execution_count": 111,
   "id": "0ae5dc6f-4402-4e01-9454-0c6d211f2b93",
   "metadata": {},
   "outputs": [
    {
     "name": "stdout",
     "output_type": "stream",
     "text": [
      "                 title  AVG_rental_days\n",
      "0     ACADEMY DINOSAUR         4.997128\n",
      "1       ACE GOLDFINGER         5.642708\n",
      "2     ADAPTATION HOLES         3.465625\n",
      "3     AFFAIR PREJUDICE         4.758333\n",
      "4          AFRICAN EGG         7.106629\n",
      "..                 ...              ...\n",
      "953     YOUNG LANGUAGE         4.624405\n",
      "954         YOUTH KICK         5.562963\n",
      "955       ZHIVAGO CORE         5.950087\n",
      "956  ZOOLANDER FICTION         5.542647\n",
      "957          ZORRO ARK         4.539180\n",
      "\n",
      "[958 rows x 2 columns]\n"
     ]
    }
   ],
   "source": [
    "# 1. film ile inventory'yi film_id üzerinden birleştir\n",
    "film_inventory = film_df.merge(inventory_df, on='film_id')\n",
    "\n",
    "# 2. rental ile film_inventory'yi inventory_id üzerinden birleştir\n",
    "rental_film = rental_df.merge(film_inventory, on='inventory_id')\n",
    "\n",
    "# 3. Kiralama süresini gün olarak hesapla (float)\n",
    "rental_film['rental_days'] = (\n",
    "    pd.to_datetime(rental_film['return_date']) - pd.to_datetime(rental_film['rental_date'])\n",
    ").dt.total_seconds() / (24 * 3600)\n",
    "\n",
    "# 4. Film başına ortalama kiralama süresini hesapla\n",
    "avg_rental_days = (\n",
    "    rental_film\n",
    "    .groupby('title')['rental_days']\n",
    "    .mean()\n",
    "    .reset_index(name='AVG_rental_days')\n",
    ")\n",
    "\n",
    "print(avg_rental_days)"
   ]
  },
  {
   "cell_type": "markdown",
   "id": "9381fd18-0ecf-4024-88d4-bbe77b5b3667",
   "metadata": {},
   "source": [
    "### Soru 66: Hangi filmler en çok kiralanan kategoride?"
   ]
  },
  {
   "cell_type": "code",
   "execution_count": 180,
   "id": "00a1981d-bf25-4ded-8dbe-6ab9b308f77b",
   "metadata": {},
   "outputs": [
    {
     "name": "stdout",
     "output_type": "stream",
     "text": [
      "     index        genre               title  rental_count\n",
      "0      909       Travel  BUCKET BROTHERHOOD            34\n",
      "1      536      Foreign    ROCKETEER MOTHER            33\n",
      "2       93    Animation      JUGGLER HARDLY            32\n",
      "3      568        Games      FORWARD TEMPLE            32\n",
      "4      572        Games      GRIT CLOCKWORK            32\n",
      "..     ...          ...                 ...           ...\n",
      "953    872       Sports  MUSSOLINI SPOILERS             5\n",
      "954    951       Travel      TRAFFIC HOBBIT             5\n",
      "955    315  Documentary      HARDLY ROBBERS             4\n",
      "956    525      Foreign         MIXED DOORS             4\n",
      "957    656       Horror         TRAIN BUNCH             4\n",
      "\n",
      "[958 rows x 4 columns]\n"
     ]
    }
   ],
   "source": [
    "import pandas as pd\n",
    "\n",
    "# 1. category + film_category (category_id ile)\n",
    "cat_film_cat = pd.merge(category_df, film_category_df, on='category_id')\n",
    "\n",
    "# 2. film_category + film (film_id ile)\n",
    "cat_film = pd.merge(cat_film_cat, film_df, on='film_id')\n",
    "\n",
    "# 3. film + inventory (film_id ile)\n",
    "film_inventory = pd.merge(cat_film, inventory_df[['inventory_id', 'film_id']], on='film_id')\n",
    "\n",
    "# 4. inventory + rental (inventory_id ile)\n",
    "full_df = pd.merge(film_inventory, rental_df, on='inventory_id')\n",
    "\n",
    "# 5. genre (category name), film title ve kiralama sayısını hesapla\n",
    "result = (\n",
    "    full_df\n",
    "    .groupby(['name', 'title'])\n",
    "    .agg(rental_count=('rental_id', 'count'))\n",
    "    .reset_index()\n",
    "    .rename(columns={'name': 'genre'})\n",
    "    .sort_values(by='rental_count', ascending=False)\n",
    ")\n",
    "# Orijinal indexi yeni bir sütun olarak ekle\n",
    "result = result.reset_index()  # Böylece 'index' sütunu oluşur\n",
    "\n",
    "# rental_count azalan, index artan olarak sırala\n",
    "result = result.sort_values(by=['rental_count', 'index'], ascending=[False, True])\n",
    "\n",
    "# İstersen sıfırlanmış index'i kaldır\n",
    "result = result.reset_index(drop=True)\n",
    "print(result)"
   ]
  },
  {
   "cell_type": "markdown",
   "id": "878717a7-f2f2-426a-9dd9-833beefd2d7f",
   "metadata": {},
   "source": [
    "### Soru 67: Hangi filmler en az kiralanan kategoride?"
   ]
  },
  {
   "cell_type": "code",
   "execution_count": 183,
   "id": "eddcc28d-76ba-4286-9f59-a1ccb06f4a6b",
   "metadata": {},
   "outputs": [
    {
     "name": "stdout",
     "output_type": "stream",
     "text": [
      "     index        genre                title  rental_count\n",
      "955    315  Documentary       HARDLY ROBBERS             4\n",
      "956    525      Foreign          MIXED DOORS             4\n",
      "957    656       Horror          TRAIN BUNCH             4\n",
      "941    141     Children      FULL FLATLINERS             5\n",
      "942    189     Classics    CONSPIRACY SPIRIT             5\n",
      "..     ...          ...                  ...           ...\n",
      "4      572        Games       GRIT CLOCKWORK            32\n",
      "5      701        Music        SCALAWAG DUCK            32\n",
      "6      757          New  RIDGEMONT SUBMARINE            32\n",
      "1      536      Foreign     ROCKETEER MOTHER            33\n",
      "0      909       Travel   BUCKET BROTHERHOOD            34\n",
      "\n",
      "[958 rows x 4 columns]\n"
     ]
    }
   ],
   "source": [
    "result = result.sort_values(by=['rental_count', 'index'], ascending=[True, True])\n",
    "print(result)"
   ]
  },
  {
   "cell_type": "markdown",
   "id": "fa43a62b-4bf0-46e0-aacc-7486a35b67d9",
   "metadata": {},
   "source": [
    "### Soru 68: Hangi mağazalarda en çok film kiralanmış?"
   ]
  },
  {
   "cell_type": "code",
   "execution_count": 119,
   "id": "e4ac17e0-dda8-4988-8f8e-f85c00a99c22",
   "metadata": {},
   "outputs": [
    {
     "name": "stdout",
     "output_type": "stream",
     "text": [
      "   store_id  rental_count\n",
      "0         1          8040\n",
      "1         2          8004\n"
     ]
    }
   ],
   "source": [
    "# 1. staff ile store'u store_id üzerinden birleştir\n",
    "staff_store = staff_df.merge(store_df, on='store_id')\n",
    "\n",
    "# 2. rental ile staff_store'u staff_id üzerinden birleştir\n",
    "rental_staff_store = rental_df.merge(staff_store, on='staff_id')\n",
    "\n",
    "# 3. store_id bazında kiralama sayısını (rental_id sayısı) hesapla\n",
    "rental_count_per_store = (\n",
    "    rental_staff_store\n",
    "    .groupby('store_id')['rental_id']\n",
    "    .count()\n",
    "    .reset_index(name='rental_count')\n",
    "    .sort_values(by='rental_count', ascending=False)\n",
    ")\n",
    "\n",
    "print(rental_count_per_store)"
   ]
  },
  {
   "cell_type": "markdown",
   "id": "d238e71e-644e-46db-b50e-0ae989561d7c",
   "metadata": {},
   "source": [
    "### Soru 69: Hangi mağazalarda en az film kiralanmış?"
   ]
  },
  {
   "cell_type": "code",
   "execution_count": 121,
   "id": "774e2331-ae1a-4647-bd26-ad1e4ea941b8",
   "metadata": {},
   "outputs": [
    {
     "name": "stdout",
     "output_type": "stream",
     "text": [
      "   store_id  rental_count\n",
      "1         2          8004\n",
      "0         1          8040\n"
     ]
    }
   ],
   "source": [
    "# 1. staff ile store'u store_id üzerinden birleştir\n",
    "staff_store = staff_df.merge(store_df, on='store_id')\n",
    "\n",
    "# 2. rental ile staff_store'u staff_id üzerinden birleştir\n",
    "rental_staff_store = rental_df.merge(staff_store, on='staff_id')\n",
    "\n",
    "# 3. store_id bazında kiralama sayısını (rental_id sayısı) hesapla\n",
    "rental_count_per_store = (\n",
    "    rental_staff_store\n",
    "    .groupby('store_id')['rental_id']\n",
    "    .count()\n",
    "    .reset_index(name='rental_count')\n",
    "    .sort_values(by='rental_count', ascending=True)  # Artan sırada sıralama\n",
    ")\n",
    "\n",
    "print(rental_count_per_store)"
   ]
  },
  {
   "cell_type": "markdown",
   "id": "5ffdc633-8e1f-4aa0-a8e1-5d4ecfb7cb66",
   "metadata": {},
   "source": [
    "### Soru 70: Hangi aktörler en çok filmde rol almış?"
   ]
  },
  {
   "cell_type": "code",
   "execution_count": 129,
   "id": "b9c3d61b-4340-49af-9100-376154cb9822",
   "metadata": {},
   "outputs": [
    {
     "name": "stdout",
     "output_type": "stream",
     "text": [
      "     index first_name  last_name  film_count\n",
      "0      180      SUSAN      DAVIS          54\n",
      "1       65       GINA  DEGENERES          42\n",
      "2      190     WALTER       TORN          41\n",
      "3      123       MARY     KEITEL          40\n",
      "4      125    MATTHEW     CARREY          39\n",
      "..     ...        ...        ...         ...\n",
      "194    177      SISSY   SOBIESKI          18\n",
      "195    103      JULIA  ZELLWEGER          16\n",
      "196     99       JUDY       DEAN          15\n",
      "197    101      JULIA    FAWCETT          15\n",
      "198     51      EMILY        DEE          14\n",
      "\n",
      "[199 rows x 4 columns]\n"
     ]
    }
   ],
   "source": [
    "# 1. actor ile film_actor'ü actor_id üzerinden birleştir\n",
    "actor_films = actor_df.merge(film_actor_df, on='actor_id')\n",
    "\n",
    "# 2. actor bazında film sayısını hesapla\n",
    "film_count_per_actor = (\n",
    "    actor_films\n",
    "    .groupby(['first_name', 'last_name'])['film_id']\n",
    "    .count()\n",
    "    .reset_index(name='film_count')\n",
    ")\n",
    "\n",
    "# Orijinal index'i yeni bir sütun olarak ekle\n",
    "film_count_per_actor = film_count_per_actor.reset_index()\n",
    "\n",
    "# Şimdi film_count azalan, index artan olacak şekilde sırala\n",
    "film_count_per_actor = film_count_per_actor.sort_values(\n",
    "    by=['film_count', 'index'], ascending=[False, True]\n",
    ").reset_index(drop=True)\n",
    "\n",
    "print(film_count_per_actor)"
   ]
  },
  {
   "cell_type": "markdown",
   "id": "86cd5c2a-8815-459a-8cfc-f6b95a0a89ab",
   "metadata": {},
   "source": [
    "### Soru 71: Hangi aktörler en az filmde rol almış?"
   ]
  },
  {
   "cell_type": "code",
   "execution_count": 132,
   "id": "91f1b729-ff14-4f1a-866c-3347853ad161",
   "metadata": {},
   "outputs": [
    {
     "name": "stdout",
     "output_type": "stream",
     "text": [
      "     index first_name  last_name  film_count\n",
      "0       51      EMILY        DEE          14\n",
      "1       99       JUDY       DEAN          15\n",
      "2      101      JULIA    FAWCETT          15\n",
      "3      103      JULIA  ZELLWEGER          16\n",
      "4        0       ADAM      GRANT          18\n",
      "..     ...        ...        ...         ...\n",
      "194    125    MATTHEW     CARREY          39\n",
      "195    123       MARY     KEITEL          40\n",
      "196    190     WALTER       TORN          41\n",
      "197     65       GINA  DEGENERES          42\n",
      "198    180      SUSAN      DAVIS          54\n",
      "\n",
      "[199 rows x 4 columns]\n"
     ]
    }
   ],
   "source": [
    "# 1. actor ile film_actor'ü actor_id üzerinden birleştir\n",
    "actor_films = actor_df.merge(film_actor_df, on='actor_id')\n",
    "\n",
    "# 2. actor bazında film sayısını hesapla\n",
    "film_count_per_actor = (\n",
    "    actor_films\n",
    "    .groupby(['first_name', 'last_name'])['film_id']\n",
    "    .count()\n",
    "    .reset_index(name='film_count')\n",
    ")\n",
    "\n",
    "# Orijinal index'i yeni bir sütun olarak ekle\n",
    "film_count_per_actor = film_count_per_actor.reset_index()\n",
    "\n",
    "# Şimdi film_count artan, index artan olacak şekilde sırala\n",
    "film_count_per_actor = film_count_per_actor.sort_values(\n",
    "    by=['film_count', 'index'], ascending=[True, True]\n",
    ").reset_index(drop=True)\n",
    "\n",
    "print(film_count_per_actor)"
   ]
  },
  {
   "cell_type": "markdown",
   "id": "2ead94ae-eb48-4e8e-afef-6fa14f07cd57",
   "metadata": {},
   "source": [
    "### Soru 72: Hangi aktörlerin oynadığı filmler en çok kiralanmış?"
   ]
  },
  {
   "cell_type": "code",
   "execution_count": 134,
   "id": "9c335c22-a3cc-4624-97db-23509c6a312d",
   "metadata": {},
   "outputs": [
    {
     "name": "stdout",
     "output_type": "stream",
     "text": [
      "    first_name    last_name  rental_count\n",
      "180      SUSAN        DAVIS           825\n",
      "65        GINA    DEGENERES           753\n",
      "125    MATTHEW       CARREY           678\n",
      "123       MARY       KEITEL           674\n",
      "8       ANGELA  WITHERSPOON           654\n",
      "..         ...          ...           ...\n",
      "99        JUDY         DEAN           255\n",
      "101      JULIA      FAWCETT           255\n",
      "177      SISSY     SOBIESKI           235\n",
      "103      JULIA    ZELLWEGER           221\n",
      "51       EMILY          DEE           216\n",
      "\n",
      "[199 rows x 3 columns]\n"
     ]
    }
   ],
   "source": [
    "# 1. actor ile film_actor'ü actor_id üzerinden birleştir\n",
    "actor_films = actor_df.merge(film_actor_df, on='actor_id')\n",
    "\n",
    "# 2. film_actor ile film'i film_id üzerinden birleştir\n",
    "film_inventory = film_df.merge(inventory_df, on='film_id')\n",
    "\n",
    "# 3. film_inventory ile rental'ı inventory_id üzerinden birleştir\n",
    "rental_inventory = rental_df.merge(film_inventory, on='inventory_id')\n",
    "\n",
    "# 4. actor_films ile rental_inventory'yi film_id ve actor_id üzerinden birleştir\n",
    "# Öncelikle actor_films ile rental_inventory'nin film_id ve actor_id sütunlarını birleştirelim\n",
    "actor_rental = actor_films.merge(rental_inventory, on='film_id')\n",
    "\n",
    "# 5. Aktör bazında toplam kiralama sayısını hesapla\n",
    "rental_count_per_actor = (\n",
    "    actor_rental\n",
    "    .groupby(['first_name', 'last_name'])['rental_id']\n",
    "    .count()\n",
    "    .reset_index(name='rental_count')\n",
    "    .sort_values(by='rental_count', ascending=False)\n",
    ")\n",
    "\n",
    "print(rental_count_per_actor)"
   ]
  },
  {
   "cell_type": "markdown",
   "id": "db96a4a5-7494-45a4-9c09-1216fd19b1c4",
   "metadata": {},
   "source": [
    "### Soru 73: Hangi aktörlerin oynadığı filmler en az kiralanmış?"
   ]
  },
  {
   "cell_type": "code",
   "execution_count": 136,
   "id": "c28de1cd-61dd-493d-ad0d-12570be2b028",
   "metadata": {},
   "outputs": [
    {
     "name": "stdout",
     "output_type": "stream",
     "text": [
      "    first_name    last_name  rental_count\n",
      "51       EMILY          DEE           216\n",
      "103      JULIA    ZELLWEGER           221\n",
      "177      SISSY     SOBIESKI           235\n",
      "99        JUDY         DEAN           255\n",
      "101      JULIA      FAWCETT           255\n",
      "..         ...          ...           ...\n",
      "8       ANGELA  WITHERSPOON           654\n",
      "123       MARY       KEITEL           674\n",
      "125    MATTHEW       CARREY           678\n",
      "65        GINA    DEGENERES           753\n",
      "180      SUSAN        DAVIS           825\n",
      "\n",
      "[199 rows x 3 columns]\n"
     ]
    }
   ],
   "source": [
    "# 1. actor ile film_actor'ü actor_id üzerinden birleştir\n",
    "actor_films = actor_df.merge(film_actor_df, on='actor_id')\n",
    "\n",
    "# 2. film_actor ile film'i film_id üzerinden birleştir\n",
    "film_inventory = film_df.merge(inventory_df, on='film_id')\n",
    "\n",
    "# 3. film_inventory ile rental'ı inventory_id üzerinden birleştir\n",
    "rental_inventory = rental_df.merge(film_inventory, on='inventory_id')\n",
    "\n",
    "# 4. actor_films ile rental_inventory'yi film_id ve actor_id üzerinden birleştir\n",
    "# Öncelikle actor_films ile rental_inventory'nin film_id ve actor_id sütunlarını birleştirelim\n",
    "actor_rental = actor_films.merge(rental_inventory, on='film_id')\n",
    "\n",
    "# 5. Aktör bazında toplam kiralama sayısını hesapla\n",
    "rental_count_per_actor = (\n",
    "    actor_rental\n",
    "    .groupby(['first_name', 'last_name'])['rental_id']\n",
    "    .count()\n",
    "    .reset_index(name='rental_count')\n",
    "    .sort_values(by='rental_count', ascending=True)\n",
    ")\n",
    "\n",
    "print(rental_count_per_actor)"
   ]
  },
  {
   "cell_type": "markdown",
   "id": "00ffa204-4fbc-404b-9a35-cb61b1eb1a6b",
   "metadata": {},
   "source": [
    "### Soru 74: Hangi kategorilerde en fazla aktör oynamış?"
   ]
  },
  {
   "cell_type": "code",
   "execution_count": 145,
   "id": "02810316-6c0c-406c-a490-60d39fd1834d",
   "metadata": {},
   "outputs": [
    {
     "name": "stdout",
     "output_type": "stream",
     "text": [
      "          genre  actor_count\n",
      "14       Sports          182\n",
      "8       Foreign          175\n",
      "12          New          169\n",
      "5   Documentary          168\n",
      "13       Sci-Fi          167\n",
      "0        Action          166\n",
      "1     Animation          166\n",
      "15       Travel          166\n",
      "7        Family          164\n",
      "2      Children          163\n",
      "3      Classics          162\n",
      "6         Drama          162\n",
      "10       Horror          156\n",
      "9         Games          150\n",
      "4        Comedy          147\n",
      "11        Music          144\n"
     ]
    }
   ],
   "source": [
    "# Gereksiz sütunları düşür\n",
    "category_small = category_df.drop(columns=['last_update'])\n",
    "film_category_small = film_category_df.drop(columns=['last_update'])\n",
    "\n",
    "# 1. category ile film_category'yi category_id üzerinden birleştir (name sütununu alıyoruz)\n",
    "category_film_cat = category_small.merge(film_category_small, on='category_id')\n",
    "\n",
    "# 2. film_category ile film'i film_id üzerinden birleştir (sadece film_id alınabilir)\n",
    "film_cat = category_film_cat.merge(film_df[['film_id']], on='film_id')\n",
    "\n",
    "# 3. film_actor ile film_id, actor_id alınarak birleştir\n",
    "film_actor_small = film_actor_df[['film_id', 'actor_id']]\n",
    "\n",
    "# 4. film_cat ile film_actor'ü film_id üzerinden birleştir\n",
    "film_cat_actor = film_cat.merge(film_actor_small, on='film_id')\n",
    "\n",
    "# 5. genre (category name) bazında benzersiz aktör sayısını hesapla\n",
    "actor_count_per_genre = (\n",
    "    film_cat_actor\n",
    "    .groupby('name_x')['actor_id']\n",
    "    .nunique()\n",
    "    .reset_index(name='actor_count')\n",
    "    .sort_values(by='actor_count', ascending=False)\n",
    "    .rename(columns={'name_x': 'genre'})\n",
    ")\n",
    "\n",
    "print(actor_count_per_genre)"
   ]
  },
  {
   "cell_type": "markdown",
   "id": "087a9e91-3553-4122-9789-2d8c454efd7e",
   "metadata": {},
   "source": [
    "### Soru 75: Hangi kategorilerde en az aktör oynamış?"
   ]
  },
  {
   "cell_type": "code",
   "execution_count": 147,
   "id": "ef693188-c17d-4ab9-a7ce-673f784c4434",
   "metadata": {},
   "outputs": [
    {
     "name": "stdout",
     "output_type": "stream",
     "text": [
      "          genre  actor_count\n",
      "11        Music          144\n",
      "4        Comedy          147\n",
      "9         Games          150\n",
      "10       Horror          156\n",
      "6         Drama          162\n",
      "3      Classics          162\n",
      "2      Children          163\n",
      "7        Family          164\n",
      "1     Animation          166\n",
      "0        Action          166\n",
      "15       Travel          166\n",
      "13       Sci-Fi          167\n",
      "5   Documentary          168\n",
      "12          New          169\n",
      "8       Foreign          175\n",
      "14       Sports          182\n"
     ]
    }
   ],
   "source": [
    "# Gereksiz sütunları düşür\n",
    "category_small = category_df.drop(columns=['last_update'])\n",
    "film_category_small = film_category_df.drop(columns=['last_update'])\n",
    "\n",
    "# 1. category ile film_category'yi category_id üzerinden birleştir (name sütununu alıyoruz)\n",
    "category_film_cat = category_small.merge(film_category_small, on='category_id')\n",
    "\n",
    "# 2. film_category ile film'i film_id üzerinden birleştir (sadece film_id alınabilir)\n",
    "film_cat = category_film_cat.merge(film_df[['film_id']], on='film_id')\n",
    "\n",
    "# 3. film_actor ile film_id, actor_id alınarak birleştir\n",
    "film_actor_small = film_actor_df[['film_id', 'actor_id']]\n",
    "\n",
    "# 4. film_cat ile film_actor'ü film_id üzerinden birleştir\n",
    "film_cat_actor = film_cat.merge(film_actor_small, on='film_id')\n",
    "\n",
    "# 5. genre (category name) bazında benzersiz aktör sayısını hesapla\n",
    "actor_count_per_genre = (\n",
    "    film_cat_actor\n",
    "    .groupby('name_x')['actor_id']\n",
    "    .nunique()\n",
    "    .reset_index(name='actor_count')\n",
    "    .sort_values(by='actor_count', ascending=True)\n",
    "    .rename(columns={'name_x': 'genre'})\n",
    ")\n",
    "\n",
    "print(actor_count_per_genre)"
   ]
  },
  {
   "cell_type": "markdown",
   "id": "af8486a2-f505-42a5-8dc4-8e2cbb900275",
   "metadata": {},
   "source": [
    "### Soru 76: Hangi kategorilerde oynayan filmler en çok kiralanmış?"
   ]
  },
  {
   "cell_type": "code",
   "execution_count": 150,
   "id": "6ca98212-daa0-4b0a-befe-a58607a6746c",
   "metadata": {},
   "outputs": [
    {
     "name": "stdout",
     "output_type": "stream",
     "text": [
      "          genre  rental_count\n",
      "14       Sports          1179\n",
      "1     Animation          1166\n",
      "0        Action          1112\n",
      "13       Sci-Fi          1101\n",
      "7        Family          1096\n",
      "6         Drama          1060\n",
      "5   Documentary          1050\n",
      "8       Foreign          1033\n",
      "9         Games           969\n",
      "2      Children           945\n",
      "4        Comedy           941\n",
      "12          New           940\n",
      "3      Classics           939\n",
      "10       Horror           846\n",
      "15       Travel           837\n",
      "11        Music           830\n"
     ]
    }
   ],
   "source": [
    "# 1. Gereksiz sütunları düşürelim\n",
    "category_small = category_df.drop(columns=['last_update'])\n",
    "film_category_small = film_category_df.drop(columns=['last_update'])\n",
    "\n",
    "# 2. category ile film_category'yi category_id üzerinden birleştir\n",
    "category_filmcat = category_small.merge(film_category_small, on='category_id')\n",
    "\n",
    "# 3. film ile category_filmcat'i film_id üzerinden birleştir\n",
    "category_film = category_filmcat.merge(film_df[['film_id']], on='film_id')\n",
    "\n",
    "# 4. inventory ile film'i film_id üzerinden birleştir\n",
    "film_inventory = category_film.merge(inventory_df, on='film_id')\n",
    "\n",
    "# 5. rental ile inventory'yi inventory_id üzerinden birleştir\n",
    "rental_full = film_inventory.merge(rental_df[['inventory_id', 'rental_id']], on='inventory_id')\n",
    "\n",
    "# 6. genre (kategori adı) bazında toplam kiralama sayısını hesapla\n",
    "genre_rental_counts = (\n",
    "    rental_full\n",
    "    .groupby('name_x')['rental_id']\n",
    "    .count()\n",
    "    .reset_index(name='rental_count')\n",
    "    .sort_values(by='rental_count', ascending=False)\n",
    "    .rename(columns={'name_x': 'genre'})\n",
    ")\n",
    "print(genre_rental_counts)"
   ]
  },
  {
   "cell_type": "markdown",
   "id": "da20cb7f-b2ff-415c-bb7e-861f335f524f",
   "metadata": {},
   "source": [
    "### Soru 77: Hangi kategorilerde oynayan filmler en az kiralanmış?"
   ]
  },
  {
   "cell_type": "code",
   "execution_count": 152,
   "id": "91565be4-bcfb-49c0-8529-255046f24301",
   "metadata": {},
   "outputs": [
    {
     "name": "stdout",
     "output_type": "stream",
     "text": [
      "          genre  rental_count\n",
      "11        Music           830\n",
      "15       Travel           837\n",
      "10       Horror           846\n",
      "3      Classics           939\n",
      "12          New           940\n",
      "4        Comedy           941\n",
      "2      Children           945\n",
      "9         Games           969\n",
      "8       Foreign          1033\n",
      "5   Documentary          1050\n",
      "6         Drama          1060\n",
      "7        Family          1096\n",
      "13       Sci-Fi          1101\n",
      "0        Action          1112\n",
      "1     Animation          1166\n",
      "14       Sports          1179\n"
     ]
    }
   ],
   "source": [
    "genre_rental_counts = (\n",
    "    rental_full\n",
    "    .groupby('name_x')['rental_id']\n",
    "    .count()\n",
    "    .reset_index(name='rental_count')\n",
    "    .sort_values(by='rental_count', ascending=True) #artan sırada\n",
    "    .rename(columns={'name_x': 'genre'})\n",
    ")\n",
    "print(genre_rental_counts)"
   ]
  },
  {
   "cell_type": "markdown",
   "id": "88fd8bd8-4751-474a-8700-7aad63eaebd0",
   "metadata": {},
   "source": [
    "### Soru 78: En fazla kazanç sağlayan kategoriler hangileri?(*)"
   ]
  },
  {
   "cell_type": "code",
   "execution_count": 185,
   "id": "0952344d-d1aa-4929-9dd4-a51bec147f27",
   "metadata": {},
   "outputs": [
    {
     "name": "stdout",
     "output_type": "stream",
     "text": [
      "           name  total_revenue\n",
      "14       Sports        5314.21\n",
      "13       Sci-Fi        4756.98\n",
      "1     Animation        4656.30\n",
      "6         Drama        4587.39\n",
      "4        Comedy        4383.58\n",
      "0        Action        4375.85\n",
      "12          New        4351.62\n",
      "9         Games        4281.33\n",
      "8       Foreign        4270.67\n",
      "7        Family        4226.07\n",
      "5   Documentary        4217.52\n",
      "10       Horror        3722.54\n",
      "2      Children        3655.55\n",
      "3      Classics        3639.59\n",
      "15       Travel        3549.64\n",
      "11        Music        3417.72\n"
     ]
    }
   ],
   "source": [
    "# 1. category + film_category (category_id ile)\n",
    "cat_film_cat = pd.merge(category_df, film_category_df, on='category_id')\n",
    "\n",
    "# 2. film_category + film (film_id ile)\n",
    "cat_film = pd.merge(cat_film_cat, film_df, on='film_id')\n",
    "\n",
    "# 3. film + inventory (film_id ile)\n",
    "film_inventory = pd.merge(cat_film, inventory_df[['inventory_id', 'film_id']], on='film_id')\n",
    "\n",
    "# 4. inventory + rental (inventory_id ile)\n",
    "inventory_rental = pd.merge(film_inventory, rental_df[['rental_id', 'inventory_id']], on='inventory_id')\n",
    "\n",
    "# 5. rental + payment (rental_id ile)\n",
    "rental_payment = pd.merge(inventory_rental, payment_df[['rental_id', 'amount']], on='rental_id')\n",
    "\n",
    "# 6. genre bazında toplam geliri hesapla\n",
    "result = (\n",
    "    rental_payment\n",
    "    .groupby('name')  # category adı sütunu \"name\"\n",
    "    .agg(total_revenue=('amount', 'sum'))\n",
    "    .reset_index()\n",
    "    .sort_values(by='total_revenue', ascending=False)\n",
    ")\n",
    "\n",
    "print(result)"
   ]
  },
  {
   "cell_type": "markdown",
   "id": "848de92a-a356-41d0-8ab3-131d04013a45",
   "metadata": {},
   "source": [
    "### Soru 79: En az kazanç sağlayan kategoriler hangileri?(*)"
   ]
  },
  {
   "cell_type": "code",
   "execution_count": 188,
   "id": "3ff237be-2797-4d5d-9d3f-b079265cdb2b",
   "metadata": {},
   "outputs": [
    {
     "name": "stdout",
     "output_type": "stream",
     "text": [
      "           name  total_revenue\n",
      "11        Music        3417.72\n",
      "15       Travel        3549.64\n",
      "3      Classics        3639.59\n",
      "2      Children        3655.55\n",
      "10       Horror        3722.54\n",
      "5   Documentary        4217.52\n",
      "7        Family        4226.07\n",
      "8       Foreign        4270.67\n",
      "9         Games        4281.33\n",
      "12          New        4351.62\n",
      "0        Action        4375.85\n",
      "4        Comedy        4383.58\n",
      "6         Drama        4587.39\n",
      "1     Animation        4656.30\n",
      "13       Sci-Fi        4756.98\n",
      "14       Sports        5314.21\n"
     ]
    }
   ],
   "source": [
    "result = (\n",
    "    rental_payment\n",
    "    .groupby('name')  # category adı sütunu \"name\"\n",
    "    .agg(total_revenue=('amount', 'sum'))\n",
    "    .reset_index()\n",
    "    .sort_values(by='total_revenue', ascending=True)\n",
    ")\n",
    "\n",
    "print(result)"
   ]
  },
  {
   "cell_type": "markdown",
   "id": "b225c36c-5603-478a-814b-8b1e7a7a6ab7",
   "metadata": {},
   "source": [
    "### Soru 80: En çok film kiralayan müşterilerin ortalama ödeme miktarı nedir?"
   ]
  },
  {
   "cell_type": "code",
   "execution_count": 195,
   "id": "56aa070e-4b92-4597-8b81-7a5c922086f8",
   "metadata": {},
   "outputs": [
    {
     "name": "stdout",
     "output_type": "stream",
     "text": [
      "    first_name last_name  avg_payment\n",
      "175    ELEANOR      HUNT     4.707391\n",
      "318       KARL      SEAL     4.923333\n",
      "379     MARCIA      DEAN     4.180476\n",
      "105      CLARA      SHAW     4.656667\n",
      "536      TAMMY   SANDERS     3.794878\n",
      "..         ...       ...          ...\n",
      "28       ANITA   MORALES     4.190000\n",
      "319  KATHERINE    RIVERA     4.204286\n",
      "351      LEONA    OBRIEN     3.632857\n",
      "550    TIFFANY    JORDAN     4.275714\n",
      "71       BRIAN     WYMAN     4.406667\n",
      "\n",
      "[599 rows x 3 columns]\n"
     ]
    }
   ],
   "source": [
    "# 1. customer + rental (customer_id ile)\n",
    "customer_rental = pd.merge(customer_df, rental_df, on='customer_id')\n",
    "\n",
    "# 2. rental + payment (rental_id ile)\n",
    "rental_payment = pd.merge(customer_rental, payment_df, on='rental_id')\n",
    "\n",
    "# 3. customer bazında ortalama ödeme ve kira sayısını hesapla\n",
    "result = (\n",
    "    rental_payment\n",
    "    .groupby(['first_name', 'last_name'])\n",
    "    .agg(\n",
    "        avg_payment=('amount', 'mean'),\n",
    "        rental_count=('rental_id', 'count')\n",
    "    )\n",
    "    .reset_index()\n",
    "    .sort_values(by='rental_count', ascending=False)\n",
    "    .drop(columns='rental_count')  \n",
    ")\n",
    "\n",
    "print(result)"
   ]
  },
  {
   "cell_type": "markdown",
   "id": "868da332-8587-466c-be0e-2563eac93c4b",
   "metadata": {},
   "source": [
    "### Soru 81: En az film kiralayan müşterilerin ortalama ödeme miktarı nedir?"
   ]
  },
  {
   "cell_type": "code",
   "execution_count": 197,
   "id": "8685cadc-38e0-45d0-8dd8-763fabb53bca",
   "metadata": {},
   "outputs": [
    {
     "name": "stdout",
     "output_type": "stream",
     "text": [
      "    first_name last_name  avg_payment\n",
      "71       BRIAN     WYMAN     4.406667\n",
      "550    TIFFANY    JORDAN     4.275714\n",
      "351      LEONA    OBRIEN     3.632857\n",
      "319  KATHERINE    RIVERA     4.204286\n",
      "28       ANITA   MORALES     4.190000\n",
      "..         ...       ...          ...\n",
      "536      TAMMY   SANDERS     3.794878\n",
      "105      CLARA      SHAW     4.656667\n",
      "379     MARCIA      DEAN     4.180476\n",
      "318       KARL      SEAL     4.923333\n",
      "175    ELEANOR      HUNT     4.707391\n",
      "\n",
      "[599 rows x 3 columns]\n"
     ]
    }
   ],
   "source": [
    "result = (\n",
    "    rental_payment\n",
    "    .groupby(['first_name', 'last_name'])\n",
    "    .agg(\n",
    "        avg_payment=('amount', 'mean'),\n",
    "        rental_count=('rental_id', 'count')\n",
    "    )\n",
    "    .reset_index()\n",
    "    .sort_values(by='rental_count', ascending=True)\n",
    "    .drop(columns='rental_count')  \n",
    ")\n",
    "\n",
    "print(result)"
   ]
  },
  {
   "cell_type": "markdown",
   "id": "2706a11b-4f0e-4920-a546-0ec9bcd13a6b",
   "metadata": {},
   "source": [
    "### Soru 82: Hangi mağazalarda hangi kategoriler en çok kiralanmış?"
   ]
  },
  {
   "cell_type": "code",
   "execution_count": 201,
   "id": "4d97d598-93b3-466b-9ccf-162c6890a0b4",
   "metadata": {},
   "outputs": [
    {
     "name": "stdout",
     "output_type": "stream",
     "text": [
      "    store_id        genre  rental_count\n",
      "30         2       Sports           614\n",
      "17         2    Animation           584\n",
      "1          1    Animation           582\n",
      "7          1       Family           565\n",
      "14         1       Sports           565\n",
      "0          1       Action           562\n",
      "13         1       Sci-Fi           553\n",
      "16         2       Action           550\n",
      "29         2       Sci-Fi           548\n",
      "24         2      Foreign           543\n",
      "22         2        Drama           532\n",
      "23         2       Family           531\n",
      "6          1        Drama           528\n",
      "21         2  Documentary           525\n",
      "5          1  Documentary           525\n",
      "9          1        Games           494\n",
      "8          1      Foreign           490\n",
      "12         1          New           489\n",
      "2          1     Children           483\n",
      "25         2        Games           475\n",
      "3          1     Classics           475\n",
      "4          1       Comedy           475\n",
      "20         2       Comedy           466\n",
      "19         2     Classics           464\n",
      "18         2     Children           462\n",
      "28         2          New           451\n",
      "31         2       Travel           438\n",
      "11         1        Music           432\n",
      "26         2       Horror           423\n",
      "10         1       Horror           423\n",
      "15         1       Travel           399\n",
      "27         2        Music           398\n"
     ]
    }
   ],
   "source": [
    "# 1. store + staff (store_id ile)\n",
    "store_staff = pd.merge(store_df, staff_df, on='store_id')\n",
    "\n",
    "# 2. staff + rental (staff_id ile)\n",
    "staff_rental = pd.merge(store_staff, rental_df, on='staff_id')\n",
    "\n",
    "# 3. rental + inventory (inventory_id ile)\n",
    "rental_inventory = pd.merge(staff_rental, inventory_df[['inventory_id', 'film_id']], on='inventory_id')\n",
    "\n",
    "# 4. inventory + film (film_id ile)\n",
    "inventory_film = pd.merge(rental_inventory, film_df[['film_id']], on='film_id')\n",
    "\n",
    "# 5. film + film_category (film_id ile)\n",
    "film_film_cat = pd.merge(inventory_film, film_category_df, on='film_id')\n",
    "\n",
    "# 6. film_category + category (category_id ile)\n",
    "full_df = pd.merge(film_film_cat, category_df[['category_id', 'name']], on='category_id')\n",
    "\n",
    "# 7. store_id ve genre bazında kiralama sayısı\n",
    "result = (\n",
    "    full_df\n",
    "    .groupby(['store_id', 'name'])\n",
    "    .agg(rental_count=('rental_id', 'count'))\n",
    "    .reset_index()\n",
    "    .rename(columns={'name': 'genre'})\n",
    "    .sort_values(by='rental_count', ascending=False)\n",
    ")\n",
    "\n",
    "print(result)\n"
   ]
  },
  {
   "cell_type": "markdown",
   "id": "868f7bc8-298b-4e5c-a02a-933b6cc4e2bf",
   "metadata": {},
   "source": [
    "### Soru 83: Hangi mağazalarda hangi kategoriler en az kiralanmış?"
   ]
  },
  {
   "cell_type": "code",
   "execution_count": 204,
   "id": "bb4c5d03-0fa1-48e3-82d0-5758b3205b94",
   "metadata": {},
   "outputs": [
    {
     "name": "stdout",
     "output_type": "stream",
     "text": [
      "    store_id        genre  rental_count\n",
      "27         2        Music           398\n",
      "15         1       Travel           399\n",
      "26         2       Horror           423\n",
      "10         1       Horror           423\n",
      "11         1        Music           432\n",
      "31         2       Travel           438\n",
      "28         2          New           451\n",
      "18         2     Children           462\n",
      "19         2     Classics           464\n",
      "20         2       Comedy           466\n",
      "25         2        Games           475\n",
      "3          1     Classics           475\n",
      "4          1       Comedy           475\n",
      "2          1     Children           483\n",
      "12         1          New           489\n",
      "8          1      Foreign           490\n",
      "9          1        Games           494\n",
      "21         2  Documentary           525\n",
      "5          1  Documentary           525\n",
      "6          1        Drama           528\n",
      "23         2       Family           531\n",
      "22         2        Drama           532\n",
      "24         2      Foreign           543\n",
      "29         2       Sci-Fi           548\n",
      "16         2       Action           550\n",
      "13         1       Sci-Fi           553\n",
      "0          1       Action           562\n",
      "7          1       Family           565\n",
      "14         1       Sports           565\n",
      "1          1    Animation           582\n",
      "17         2    Animation           584\n",
      "30         2       Sports           614\n"
     ]
    }
   ],
   "source": [
    "result = (\n",
    "    full_df\n",
    "    .groupby(['store_id', 'name'])\n",
    "    .agg(rental_count=('rental_id', 'count'))\n",
    "    .reset_index()\n",
    "    .rename(columns={'name': 'genre'})\n",
    "    .sort_values(by='rental_count', ascending=True)\n",
    ")\n",
    "\n",
    "print(result)\n"
   ]
  },
  {
   "cell_type": "markdown",
   "id": "dd41fc5f-84c1-4782-9fa5-ee0b8f6388e7",
   "metadata": {},
   "source": [
    "### Soru 84: En fazla sayıda film kiralayan mağaza hangisidir ve toplam kiralama sayısı nedir?"
   ]
  },
  {
   "cell_type": "code",
   "execution_count": 7,
   "id": "fe5eb3d2-54f2-4c62-aca9-4b0a537efce3",
   "metadata": {},
   "outputs": [
    {
     "name": "stdout",
     "output_type": "stream",
     "text": [
      "   store_id  total_rentals\n",
      "0         1           8040\n"
     ]
    }
   ],
   "source": [
    "# 1. store ve staff'ı birleştir (store_id üzerinden)\n",
    "store_staff = staff_df[['store_id', 'staff_id']]\n",
    "\n",
    "# 2. rental ile staff'ı staff_id üzerinden birleştir\n",
    "rental_staff = rental_df.merge(store_staff, on='staff_id')\n",
    "\n",
    "# 3. store_id bazında kiralama sayısını hesapla\n",
    "rental_counts = (\n",
    "    rental_staff\n",
    "    .groupby('store_id')\n",
    "    .agg(total_rentals=('rental_id', 'count'))\n",
    "    .reset_index()\n",
    "    .sort_values(by='total_rentals', ascending=False)\n",
    "    .head(1)\n",
    ")\n",
    "print(rental_counts)"
   ]
  },
  {
   "cell_type": "markdown",
   "id": "b72599e0-3ff7-4661-a5ce-2e7ccd5afed4",
   "metadata": {},
   "source": [
    "### Soru 85: En az sayıda film kiralayan mağaza hangisidir ve toplam kiralama sayısı nedir?"
   ]
  },
  {
   "cell_type": "code",
   "execution_count": 9,
   "id": "994f67a6-85b9-44b2-a1bb-790a76f6621b",
   "metadata": {},
   "outputs": [
    {
     "name": "stdout",
     "output_type": "stream",
     "text": [
      "   store_id  total_rentals\n",
      "1         2           8004\n"
     ]
    }
   ],
   "source": [
    "# 3. store_id bazında kiralama sayısını hesapla\n",
    "rental_counts = (\n",
    "    rental_staff\n",
    "    .groupby('store_id')\n",
    "    .agg(total_rentals=('rental_id', 'count'))\n",
    "    .reset_index()\n",
    "    .sort_values(by='total_rentals', ascending=True)\n",
    "    .head(1)\n",
    ")\n",
    "print(rental_counts)"
   ]
  },
  {
   "cell_type": "markdown",
   "id": "1819a6fa-0817-4df5-9beb-8fd46c1a666b",
   "metadata": {},
   "source": [
    "### Soru 86: En fazla sayıda kiralama yapan müşteri hangisidir ve toplam kiralama sayısı nedir?"
   ]
  },
  {
   "cell_type": "code",
   "execution_count": 11,
   "id": "0ba746b1-5758-45be-804e-f19166281c6c",
   "metadata": {},
   "outputs": [
    {
     "name": "stdout",
     "output_type": "stream",
     "text": [
      "    first_name last_name  total_rentals\n",
      "175    ELEANOR      HUNT             46\n"
     ]
    }
   ],
   "source": [
    "# 1. customer ile rental tablolarını customer_id üzerinden birleştir\n",
    "merged_df = customer_df.merge(rental_df, on='customer_id', how='inner')\n",
    "\n",
    "# 2. Her müşterinin (first_name, last_name) bazında kaç tane rental_id'si olduğunu say (groupby + aggregation)\n",
    "total_rentals_df = merged_df.groupby(['first_name', 'last_name']).agg(total_rentals=('rental_id', 'count')).reset_index()\n",
    "\n",
    "# 3. Kiralama sayısına göre azalan şekilde sırala\n",
    "total_rentals_df = total_rentals_df.sort_values(by='total_rentals', ascending=False)\n",
    "\n",
    "# 4. En çok kiralama yapan müşteriyi al (ilk satır)\n",
    "top_customer = total_rentals_df.head(1)\n",
    "\n",
    "print(top_customer)"
   ]
  },
  {
   "cell_type": "markdown",
   "id": "3c35853b-6357-411e-ae11-349373f99c54",
   "metadata": {},
   "source": [
    "### Soru 87: En az sayıda kiralama yapan müşteri hangisidir ve toplam kiralama sayısı nedir?"
   ]
  },
  {
   "cell_type": "code",
   "execution_count": 13,
   "id": "4425400f-e79d-41aa-9545-fe26ff004489",
   "metadata": {},
   "outputs": [
    {
     "name": "stdout",
     "output_type": "stream",
     "text": [
      "   first_name last_name  total_rentals\n",
      "71      BRIAN     WYMAN             12\n"
     ]
    }
   ],
   "source": [
    "total_rentals_df = total_rentals_df.sort_values(by='total_rentals', ascending=True)\n",
    "\n",
    "#  En az kiralama yapan müşteriyi al (ilk satır)\n",
    "min_customer = total_rentals_df.head(1)\n",
    "\n",
    "print(min_customer)"
   ]
  },
  {
   "cell_type": "markdown",
   "id": "ee4d6546-53eb-4d94-8132-e6f8db8403ec",
   "metadata": {},
   "source": [
    "### Soru 88: En fazla sayıda kiralanan film hangisidir ve toplam kiralama sayısı nedir?"
   ]
  },
  {
   "cell_type": "code",
   "execution_count": 15,
   "id": "3a9a2b33-b81a-4241-912e-03eb56ec48d4",
   "metadata": {},
   "outputs": [
    {
     "name": "stdout",
     "output_type": "stream",
     "text": [
      "                 title  total_rentals\n",
      "96  BUCKET BROTHERHOOD             34\n"
     ]
    }
   ],
   "source": [
    "# 1. film ile inventory'yi film_id üzerinden birleştir\n",
    "film_inventory_df = film_df.merge(inventory_df, on='film_id', how='inner')\n",
    "\n",
    "# 2. inventory ile rental'ı inventory_id üzerinden birleştir\n",
    "film_inventory_rental_df = film_inventory_df.merge(rental_df, on='inventory_id', how='inner')\n",
    "\n",
    "# 3. film title bazında rental sayısını hesapla\n",
    "rental_counts = (\n",
    "    film_inventory_rental_df\n",
    "    .groupby('title')\n",
    "    .agg(total_rentals=('rental_id', 'count'))\n",
    "    .reset_index()\n",
    ")\n",
    "\n",
    "# 4. toplam kiralama sayısına göre azalan sırala\n",
    "rental_counts_sorted = rental_counts.sort_values(by='total_rentals', ascending=False)\n",
    "\n",
    "# 5. en çok kiralanan filmi al\n",
    "top_film = rental_counts_sorted.head(1)\n",
    "\n",
    "print(top_film)"
   ]
  },
  {
   "cell_type": "markdown",
   "id": "40bcf833-6f19-497f-ad3a-b2da01fa93ba",
   "metadata": {},
   "source": [
    "### Soru 89: En az sayıda kiralanan film hangisidir ve toplam kiralama sayısı nedir?"
   ]
  },
  {
   "cell_type": "code",
   "execution_count": 25,
   "id": "a9c3aeaa-1be8-4580-a03b-837d7f82bc63",
   "metadata": {},
   "outputs": [
    {
     "name": "stdout",
     "output_type": "stream",
     "text": [
      "title            HARDLY ROBBERS\n",
      "total_rentals                 4\n",
      "Name: 378, dtype: object\n"
     ]
    }
   ],
   "source": [
    "# total_rentals artan sırada sırala\n",
    "rental_counts_sorted = rental_counts.sort_values(by='total_rentals', ascending=True)\n",
    "\n",
    "# en az kiralanan 10 filmi seç ve açıkça kopya al\n",
    "min_film = rental_counts_sorted.head(10).copy()\n",
    "\n",
    "# index'i sütun olarak ekle\n",
    "min_film['index_col'] = min_film.index\n",
    "\n",
    "# total_rentals ve index_col'a göre sıralama yap\n",
    "min_film_sorted = min_film.sort_values(by=['total_rentals', 'index_col'], ascending=[True, True])\n",
    "\n",
    "# index_col sütununu kaldır\n",
    "min_film_sorted = min_film_sorted.drop(columns=['index_col'])\n",
    "\n",
    "# ilk satırı al\n",
    "first_row = min_film_sorted.iloc[0]\n",
    "\n",
    "print(first_row)"
   ]
  },
  {
   "cell_type": "markdown",
   "id": "47f974fe-4973-4238-bb29-b71b036f6b55",
   "metadata": {},
   "source": [
    "### Soru 90: En fazla kazanç sağlayan müşteri hangisidir ve toplam kazancı nedir?"
   ]
  },
  {
   "cell_type": "code",
   "execution_count": 29,
   "id": "22044d86-cc11-40f1-bfda-e611709b7f82",
   "metadata": {},
   "outputs": [
    {
     "name": "stdout",
     "output_type": "stream",
     "text": [
      "    first_name last_name  total_revenue\n",
      "318       KARL      SEAL         221.55\n"
     ]
    }
   ],
   "source": [
    "# 1. customer ve rental tablolarını customer_id üzerinden birleştir\n",
    "cust_rental_df = customer_df.merge(rental_df, on='customer_id', how='inner')\n",
    "\n",
    "# 2. cust_rental ile payment tablolarını rental_id üzerinden birleştir\n",
    "cust_rental_payment_df = cust_rental_df.merge(payment_df, on='rental_id', how='inner')\n",
    "\n",
    "# 3. first_name ve last_name bazında toplam ödeme miktarını hesapla\n",
    "total_revenue_df = (\n",
    "    cust_rental_payment_df\n",
    "    .groupby(['first_name', 'last_name'])\n",
    "    .agg(total_revenue=('amount', 'sum'))\n",
    "    .reset_index()\n",
    ")\n",
    "\n",
    "# 4. toplam gelire göre azalan şekilde sırala\n",
    "total_revenue_sorted = total_revenue_df.sort_values(by='total_revenue', ascending=False)\n",
    "\n",
    "# 5. en çok gelir getiren müşteriyi al\n",
    "top_customer = total_revenue_sorted.head(1)\n",
    "\n",
    "print(top_customer)"
   ]
  },
  {
   "cell_type": "markdown",
   "id": "1a15af3c-62f7-43b5-af0e-ca817ab6be22",
   "metadata": {},
   "source": [
    "### Soru 91: En az kazanç sağlayan müşteri hangisidir ve toplam kazancı nedir?"
   ]
  },
  {
   "cell_type": "code",
   "execution_count": 33,
   "id": "b2c4db57-d107-410a-86eb-4db3bae082b9",
   "metadata": {},
   "outputs": [
    {
     "name": "stdout",
     "output_type": "stream",
     "text": [
      "   first_name last_name  total_revenue\n",
      "83   CAROLINE    BOWMAN          50.85\n"
     ]
    }
   ],
   "source": [
    "#toplam gelire göre artan şekilde sırala\n",
    "total_revenue_sorted = total_revenue_df.sort_values(by='total_revenue', ascending=True)\n",
    "\n",
    "#  en az gelir getiren müşteriyi al\n",
    "min_customer = total_revenue_sorted.head(1)\n",
    "\n",
    "print(min_customer)"
   ]
  },
  {
   "cell_type": "markdown",
   "id": "d9e0a96d-204a-4578-9de3-7df5c010eac0",
   "metadata": {},
   "source": [
    "### Soru 92: Hangi film, hangi kategoride en çok kazanç sağlamış?"
   ]
  },
  {
   "cell_type": "code",
   "execution_count": 43,
   "id": "60251765-02dd-4a4e-8dce-5675bd5e6314",
   "metadata": {},
   "outputs": [
    {
     "name": "stdout",
     "output_type": "stream",
     "text": [
      "                title  genre  total_revenue\n",
      "841  TELEGRAPH VOYAGE  Music         231.73\n"
     ]
    }
   ],
   "source": [
    "# 1. film + film_category\n",
    "film_fcat_df = film_df.merge(film_category_df, on='film_id', how='inner')\n",
    "\n",
    "# 2. + category (film türü)\n",
    "film_fcat_cat_df = film_fcat_df.merge(category_df, on='category_id', how='inner')\n",
    "\n",
    "# Eğer her iki DataFrame'de de 'last_update' varsa, birinden sil (örneğin category_df)\n",
    "# veya merge işleminden sonra silinir ama hata almamak için öncesinde silmek daha güvenli\n",
    "film_fcat_cat_df = film_fcat_cat_df.drop(columns=['last_update'], errors='ignore')\n",
    "inventory_dff = inventory_df.drop(columns=['last_update'], errors='ignore')\n",
    "\n",
    "# 3. + inventory (film_id ortak)\n",
    "film_inv_df = film_fcat_cat_df.merge(inventory_dff, on='film_id', how='inner')\n",
    "\n",
    "# rental ile birleşme öncesi yine olası çakışmaları önleyelim\n",
    "rental_dff = rental_df.drop(columns=['last_update'], errors='ignore')\n",
    "\n",
    "# 4. + rental\n",
    "film_rental_df = film_inv_df.merge(rental_dff, on='inventory_id', how='inner')\n",
    "\n",
    "# payment ile birleşme öncesi\n",
    "payment_dff = payment_df.drop(columns=['last_update'], errors='ignore')\n",
    "\n",
    "# 5. + payment\n",
    "full_df = film_rental_df.merge(payment_dff, on='rental_id', how='inner')\n",
    "\n",
    "# 6. film title ve genre (category.name) bazında toplam amount hesapla\n",
    "revenue_df = (\n",
    "    full_df\n",
    "    .groupby(['title', 'name'])\n",
    "    .agg(total_revenue=('amount', 'sum'))\n",
    "    .reset_index()\n",
    ")\n",
    "\n",
    "# 7. Azalan sırada sıralama\n",
    "revenue_df = revenue_df.sort_values(by='total_revenue', ascending=False)\n",
    "\n",
    "# 8. En çok gelir getiren film\n",
    "top_film = revenue_df.head(1)\n",
    "\n",
    "# Kolon adı düzenle\n",
    "top_film = top_film.rename(columns={'name': 'genre'})\n",
    "\n",
    "print(top_film)\n"
   ]
  },
  {
   "cell_type": "markdown",
   "id": "da5355ed-12f1-4188-97fc-70909a547a32",
   "metadata": {},
   "source": [
    "### Soru 93: Hangi film, hangi kategoride en az kazanç sağlamış?"
   ]
  },
  {
   "cell_type": "code",
   "execution_count": 48,
   "id": "f1694e3f-c3e4-4e65-a1a8-179bcef17a18",
   "metadata": {},
   "outputs": [
    {
     "name": "stdout",
     "output_type": "stream",
     "text": [
      "title            OKLAHOMA JUMANJI\n",
      "genre                         New\n",
      "total_revenue                5.94\n",
      "Name: 608, dtype: object\n"
     ]
    }
   ],
   "source": [
    "#  Azalan sırada sıralama\n",
    "revenue_df = revenue_df.sort_values(by='total_revenue', ascending=True)\n",
    "\n",
    "#  En az gelir getiren film\n",
    "min_film = revenue_df.head(10).copy()\n",
    "min_film['index_col'] = min_film.index\n",
    "\n",
    "# Kolon adı düzenle\n",
    "min_film = min_film.rename(columns={'name': 'genre'})\n",
    "min_film_sorted = min_film.sort_values(by=['total_revenue', 'index_col'], ascending=[True, True])\n",
    "min_film_sorted = min_film_sorted.drop(columns=['index_col'])\n",
    "\n",
    "# ilk satırı al\n",
    "first_row = min_film_sorted.iloc[0]\n",
    "print(first_row)"
   ]
  },
  {
   "cell_type": "markdown",
   "id": "f36c8d13-12f2-4752-ba1a-988dab1bcfd5",
   "metadata": {},
   "source": [
    "### Soru 94: En fazla kazanç sağlayan mağaza hangisidir ve toplam kazancı nedir?"
   ]
  },
  {
   "cell_type": "code",
   "execution_count": 51,
   "id": "dffed522-8926-45c9-b7b1-d6c22fdee191",
   "metadata": {},
   "outputs": [
    {
     "name": "stdout",
     "output_type": "stream",
     "text": [
      "   store_id  total_revenue\n",
      "1         2       33881.94\n"
     ]
    }
   ],
   "source": [
    "# Gereksiz 'last_update' sütunlarını silerek merge işlemlerini temiz yap\n",
    "store_df = store_df.drop(columns=['last_update'], errors='ignore')\n",
    "staff_df = staff_df.drop(columns=['last_update'], errors='ignore')\n",
    "rental_df = rental_df.drop(columns=['last_update'], errors='ignore')\n",
    "payment_df = payment_df.drop(columns=['last_update'], errors='ignore')\n",
    "\n",
    "# 1. store + staff\n",
    "store_staff_df = store_df.merge(staff_df, on='store_id', how='inner')\n",
    "\n",
    "# 2. + rental\n",
    "store_staff_rental_df = store_staff_df.merge(rental_df, on='staff_id', how='inner')\n",
    "\n",
    "# 3. + payment\n",
    "full_df = store_staff_rental_df.merge(payment_df, on='rental_id', how='inner')\n",
    "\n",
    "# 4. store_id bazında toplam amount hesapla\n",
    "revenue_df = (\n",
    "    full_df\n",
    "    .groupby('store_id')\n",
    "    .agg(total_revenue=('amount', 'sum'))\n",
    "    .reset_index()\n",
    ")\n",
    "\n",
    "# 5. Azalan sırada sıralama\n",
    "revenue_df = revenue_df.sort_values(by='total_revenue', ascending=False)\n",
    "\n",
    "# 6. En çok gelir getiren store\n",
    "top_store = revenue_df.head(1)\n",
    "\n",
    "print(top_store)"
   ]
  },
  {
   "cell_type": "markdown",
   "id": "29362fb1-5921-452c-960a-080510b58d9f",
   "metadata": {},
   "source": [
    "### Soru 95: En az kazanç sağlayan mağaza hangisidir ve toplam kazancı nedir?"
   ]
  },
  {
   "cell_type": "code",
   "execution_count": 53,
   "id": "450f7fc8-fa60-4103-90fb-6954a6d067f2",
   "metadata": {},
   "outputs": [
    {
     "name": "stdout",
     "output_type": "stream",
     "text": [
      "   store_id  total_revenue\n",
      "0         1       33524.62\n"
     ]
    }
   ],
   "source": [
    "revenue_df = revenue_df.sort_values(by='total_revenue', ascending=True)\n",
    "\n",
    "#  En az gelir getiren store\n",
    "top_store = revenue_df.head(1)\n",
    "\n",
    "print(top_store)"
   ]
  },
  {
   "cell_type": "markdown",
   "id": "5fbf00cc-3d3b-4545-9ff2-5d46fa3aa632",
   "metadata": {},
   "source": [
    "### Soru 96: En fazla sayıda farklı film kiralayan müşteri hangisidir?"
   ]
  },
  {
   "cell_type": "code",
   "execution_count": 55,
   "id": "d5f5235b-4904-4f67-a849-f9753511ce06",
   "metadata": {},
   "outputs": [
    {
     "name": "stdout",
     "output_type": "stream",
     "text": [
      "    first_name last_name  unique_rentals\n",
      "175    ELEANOR      HUNT              46\n"
     ]
    }
   ],
   "source": [
    "# 1. customer ve rental'ı customer_id üzerinden birleştir\n",
    "cust_rental_df = customer_df.merge(rental_df, on='customer_id', how='inner')\n",
    "\n",
    "# 2. Her müşterinin (first_name, last_name) bazında kaç farklı inventory_id kiraladığını bul\n",
    "unique_rentals_df = (\n",
    "    cust_rental_df\n",
    "    .groupby(['first_name', 'last_name'])['inventory_id']\n",
    "    .nunique()  # DISTINCT COUNT karşılığı\n",
    "    .reset_index(name='unique_rentals')\n",
    ")\n",
    "\n",
    "# 3. Azalan sırayla sırala\n",
    "unique_rentals_df = unique_rentals_df.sort_values(by='unique_rentals', ascending=False)\n",
    "\n",
    "# 4. En çok farklı film kiralayan müşteriyi al\n",
    "top_customer = unique_rentals_df.head(1)\n",
    "\n",
    "print(top_customer)"
   ]
  },
  {
   "cell_type": "markdown",
   "id": "fb04a8dc-ffe9-46cf-aa45-725705a37d73",
   "metadata": {},
   "source": [
    "### Soru 97: En az sayıda farklı film kiralayan müşteri hangisidir?"
   ]
  },
  {
   "cell_type": "code",
   "execution_count": 57,
   "id": "a13320d4-1285-4379-9182-9d89f85cbb94",
   "metadata": {},
   "outputs": [
    {
     "name": "stdout",
     "output_type": "stream",
     "text": [
      "   first_name last_name  unique_rentals\n",
      "71      BRIAN     WYMAN              12\n"
     ]
    }
   ],
   "source": [
    "unique_rentals_df = unique_rentals_df.sort_values(by='unique_rentals', ascending=True)\n",
    "\n",
    "# En az farklı film kiralayan müşteriyi al\n",
    "customer = unique_rentals_df.head(1)\n",
    "\n",
    "print(customer)"
   ]
  },
  {
   "cell_type": "markdown",
   "id": "71430d74-b429-4193-8c9d-0da56b98fa07",
   "metadata": {},
   "source": [
    "### Soru 98: En fazla sayıda farklı müşteri tarafından kiralanan film hangisidir?"
   ]
  },
  {
   "cell_type": "code",
   "execution_count": 59,
   "id": "96d501f2-950d-4926-9b2b-530e86fe052f",
   "metadata": {},
   "outputs": [
    {
     "name": "stdout",
     "output_type": "stream",
     "text": [
      "                 title  unique_customers\n",
      "96  BUCKET BROTHERHOOD                33\n"
     ]
    }
   ],
   "source": [
    "# 1. film + inventory (film_id üzerinden)\n",
    "film_inventory_df = film_df.merge(inventory_df, on='film_id', how='inner')\n",
    "\n",
    "# 2. + rental (inventory_id üzerinden)\n",
    "film_rental_df = film_inventory_df.merge(rental_df, on='inventory_id', how='inner')\n",
    "\n",
    "# 3. title bazında kaç farklı customer_id olduğunu bul\n",
    "unique_customers_df = (\n",
    "    film_rental_df\n",
    "    .groupby('title')['customer_id']\n",
    "    .nunique()  # DISTINCT COUNT işlemi\n",
    "    .reset_index(name='unique_customers')\n",
    ")\n",
    "\n",
    "# 4. Azalan sırayla sırala\n",
    "unique_customers_df = unique_customers_df.sort_values(by='unique_customers', ascending=False)\n",
    "\n",
    "# 5. En çok müşteri tarafından kiralanan filmi al\n",
    "top_film = unique_customers_df.head(1)\n",
    "\n",
    "print(top_film)"
   ]
  },
  {
   "cell_type": "markdown",
   "id": "068b94a7-e859-413c-8a6b-b6990cdf48a0",
   "metadata": {},
   "source": [
    "### Soru 99: En az sayıda farklı müşteri tarafından kiralanan film hangisidir?"
   ]
  },
  {
   "cell_type": "code",
   "execution_count": 61,
   "id": "7e750052-02ef-4e2b-9b9a-cd415f2db8f4",
   "metadata": {},
   "outputs": [
    {
     "name": "stdout",
     "output_type": "stream",
     "text": [
      "              title  unique_customers\n",
      "378  HARDLY ROBBERS                 4\n"
     ]
    }
   ],
   "source": [
    "# artan sırayla sırala\n",
    "unique_customers_df = unique_customers_df.sort_values(by='unique_customers', ascending=True)\n",
    "\n",
    "# En az müşteri tarafından kiralanan filmi al\n",
    "film = unique_customers_df.head(1)\n",
    "\n",
    "print(film)"
   ]
  },
  {
   "cell_type": "markdown",
   "id": "dbe3d8ed-0d5c-424a-b250-9b0dc0c23fc0",
   "metadata": {},
   "source": [
    "### Soru 100: Hangi mağazada, hangi kategoride en fazla kazanç sağlanmış?"
   ]
  },
  {
   "cell_type": "code",
   "execution_count": 67,
   "id": "bb83e82a-a9f0-4a28-abd7-1e458f8b0d6c",
   "metadata": {},
   "outputs": [
    {
     "name": "stdout",
     "output_type": "stream",
     "text": [
      "    store_id_x   genre  total_revenue\n",
      "30           2  Sports        2761.85\n"
     ]
    }
   ],
   "source": [
    "# Gereksiz çakışmaları önlemek için tüm last_update sütunlarını silelim\n",
    "for df in [store_df, staff_df, rental_df, inventory_df, film_df, film_category_df, category_df, payment_df]:\n",
    "    df.drop(columns=['last_update'], inplace=True, errors='ignore')\n",
    "    \n",
    "# 1. store + staff\n",
    "df1 = store_df.merge(staff_df, on='store_id', how='inner')\n",
    "\n",
    "# 2. + rental (staff_id üzerinden)\n",
    "df2 = df1.merge(rental_df, on='staff_id', how='inner')\n",
    "\n",
    "# 3. + inventory (inventory_id üzerinden)\n",
    "df3 = df2.merge(inventory_df, on='inventory_id', how='inner')\n",
    "\n",
    "# 4. + film (film_id üzerinden)\n",
    "df4 = df3.merge(film_df, on='film_id', how='inner')\n",
    "\n",
    "# 5. + film_category (film_id)\n",
    "df5 = df4.merge(film_category_df, on='film_id', how='inner')\n",
    "\n",
    "# 6. + category (category_id)\n",
    "df6 = df5.merge(category_df, on='category_id', how='inner')\n",
    "\n",
    "# 7. + payment (rental_id üzerinden)\n",
    "full_df = df6.merge(payment_df, on='rental_id', how='inner')\n",
    "\n",
    "# 8. store_id ve genre (category.name) bazında toplam gelir\n",
    "revenue_df = (\n",
    "    full_df\n",
    "    .groupby(['store_id_x', 'name'])\n",
    "    .agg(total_revenue=('amount', 'sum'))\n",
    "    .reset_index()\n",
    ")\n",
    "\n",
    "# 9. genre ismini düzelt\n",
    "revenue_df = revenue_df.rename(columns={'name': 'genre'})\n",
    "\n",
    "# 10. en yüksek geliri bul\n",
    "top_result = revenue_df.sort_values(by='total_revenue', ascending=False).head(1)\n",
    "\n",
    "print(top_result)"
   ]
  },
  {
   "cell_type": "code",
   "execution_count": null,
   "id": "1d45ca47-d285-4f20-aeae-bda13482b54e",
   "metadata": {},
   "outputs": [],
   "source": []
  }
 ],
 "metadata": {
  "kernelspec": {
   "display_name": "Python 3 (ipykernel)",
   "language": "python",
   "name": "python3"
  },
  "language_info": {
   "codemirror_mode": {
    "name": "ipython",
    "version": 3
   },
   "file_extension": ".py",
   "mimetype": "text/x-python",
   "name": "python",
   "nbconvert_exporter": "python",
   "pygments_lexer": "ipython3",
   "version": "3.13.2"
  }
 },
 "nbformat": 4,
 "nbformat_minor": 5
}
